{
 "cells": [
  {
   "cell_type": "markdown",
   "metadata": {},
   "source": [
    "# SPARK - Notebook for examples using pyspark"
   ]
  },
  {
   "cell_type": "code",
   "execution_count": 1,
   "metadata": {},
   "outputs": [],
   "source": [
    "import numpy as np"
   ]
  },
  {
   "cell_type": "markdown",
   "metadata": {},
   "source": [
    "## Initializing the Spark Session"
   ]
  },
  {
   "cell_type": "code",
   "execution_count": 2,
   "metadata": {},
   "outputs": [],
   "source": [
    "from pyspark.sql import SparkSession"
   ]
  },
  {
   "cell_type": "code",
   "execution_count": 3,
   "metadata": {},
   "outputs": [],
   "source": [
    "spark = SparkSession.builder \\\n",
    "            .appName('teleco_data') \\\n",
    "            .master('local[*]') \\\n",
    "            .config('spark.ui.showConsoleProgress', True) \\\n",
    "            .config('spark.sql.repl.eagerEval.enabled', True) \\\n",
    "            .config('spark.sql.session.timeZone','UTC') \\\n",
    "            .getOrCreate()"
   ]
  },
  {
   "cell_type": "code",
   "execution_count": 4,
   "metadata": {},
   "outputs": [
    {
     "data": {
      "text/html": [
       "\n",
       "            <div>\n",
       "                <p><b>SparkSession - in-memory</b></p>\n",
       "                \n",
       "        <div>\n",
       "            <p><b>SparkContext</b></p>\n",
       "\n",
       "            <p><a href=\"http://fedora:4040\">Spark UI</a></p>\n",
       "\n",
       "            <dl>\n",
       "              <dt>Version</dt>\n",
       "                <dd><code>v3.0.1</code></dd>\n",
       "              <dt>Master</dt>\n",
       "                <dd><code>local[*]</code></dd>\n",
       "              <dt>AppName</dt>\n",
       "                <dd><code>teleco_data</code></dd>\n",
       "            </dl>\n",
       "        </div>\n",
       "        \n",
       "            </div>\n",
       "        "
      ],
      "text/plain": [
       "<pyspark.sql.session.SparkSession at 0x7f676cb18400>"
      ]
     },
     "execution_count": 4,
     "metadata": {},
     "output_type": "execute_result"
    }
   ],
   "source": [
    "spark"
   ]
  },
  {
   "cell_type": "markdown",
   "metadata": {},
   "source": [
    "## Loading the data\n",
    "\n",
    "I wil load a CSV, so I need to use the following code:"
   ]
  },
  {
   "cell_type": "code",
   "execution_count": 5,
   "metadata": {},
   "outputs": [],
   "source": [
    "DATA_PATH = \"customer_churn.csv\""
   ]
  },
  {
   "cell_type": "code",
   "execution_count": 6,
   "metadata": {},
   "outputs": [],
   "source": [
    "sdf = spark.read.option('quote','\"').option('escape','\\\\').csv(DATA_PATH,\n",
    "                                                                header=True,\n",
    "                                                                inferSchema=True)"
   ]
  },
  {
   "cell_type": "code",
   "execution_count": 7,
   "metadata": {},
   "outputs": [
    {
     "data": {
      "text/html": [
       "<table border='1'>\n",
       "<tr><th>rev_Mean</th><th>mou_Mean</th><th>totmrc_Mean</th><th>da_Mean</th><th>ovrmou_Mean</th><th>ovrrev_Mean</th><th>vceovr_Mean</th><th>datovr_Mean</th><th>roam_Mean</th><th>change_mou</th><th>change_rev</th><th>drop_vce_Mean</th><th>drop_dat_Mean</th><th>blck_vce_Mean</th><th>blck_dat_Mean</th><th>unan_vce_Mean</th><th>unan_dat_Mean</th><th>plcd_vce_Mean</th><th>plcd_dat_Mean</th><th>recv_vce_Mean</th><th>recv_sms_Mean</th><th>comp_vce_Mean</th><th>comp_dat_Mean</th><th>custcare_Mean</th><th>ccrndmou_Mean</th><th>cc_mou_Mean</th><th>inonemin_Mean</th><th>threeway_Mean</th><th>mou_cvce_Mean</th><th>mou_cdat_Mean</th><th>mou_rvce_Mean</th><th>owylis_vce_Mean</th><th>mouowylisv_Mean</th><th>iwylis_vce_Mean</th><th>mouiwylisv_Mean</th><th>peak_vce_Mean</th><th>peak_dat_Mean</th><th>mou_peav_Mean</th><th>mou_pead_Mean</th><th>opk_vce_Mean</th><th>opk_dat_Mean</th><th>mou_opkv_Mean</th><th>mou_opkd_Mean</th><th>drop_blk_Mean</th><th>attempt_Mean</th><th>complete_Mean</th><th>callfwdv_Mean</th><th>callwait_Mean</th><th>churn</th><th>months</th><th>uniqsubs</th><th>actvsubs</th><th>new_cell</th><th>crclscod</th><th>asl_flag</th><th>totcalls</th><th>totmou</th><th>totrev</th><th>adjrev</th><th>adjmou</th><th>adjqty</th><th>avgrev</th><th>avgmou</th><th>avgqty</th><th>avg3mou</th><th>avg3qty</th><th>avg3rev</th><th>avg6mou</th><th>avg6qty</th><th>avg6rev</th><th>prizm_social_one</th><th>area</th><th>dualband</th><th>refurb_new</th><th>hnd_price</th><th>phones</th><th>models</th><th>hnd_webcap</th><th>truck</th><th>rv</th><th>ownrent</th><th>lor</th><th>dwlltype</th><th>marital</th><th>adults</th><th>infobase</th><th>income</th><th>numbcars</th><th>HHstatin</th><th>dwllsize</th><th>forgntvl</th><th>ethnic</th><th>kid0_2</th><th>kid3_5</th><th>kid6_10</th><th>kid11_15</th><th>kid16_17</th><th>creditcd</th><th>eqpdays</th><th>Customer_ID</th></tr>\n",
       "<tr><td>23.9975</td><td>219.25</td><td>22.5</td><td>0.2475</td><td>0.0</td><td>0.0</td><td>0.0</td><td>0.0</td><td>0.0</td><td>-157.25</td><td>-18.9975</td><td>0.666666667</td><td>0.0</td><td>0.666666667</td><td>0.0</td><td>6.333333333</td><td>0.0</td><td>52.33333333</td><td>0.0</td><td>42.33333333</td><td>0.0</td><td>45.0</td><td>0.0</td><td>0.0</td><td>0.0</td><td>0.0</td><td>18.0</td><td>0.0</td><td>90.64333333</td><td>0.0</td><td>97.17666667</td><td>0.0</td><td>0.0</td><td>0.0</td><td>0.0</td><td>58.0</td><td>0.0</td><td>132.6</td><td>0.0</td><td>24.0</td><td>0.0</td><td>55.22</td><td>0.0</td><td>1.333333333</td><td>52.33333333</td><td>45.0</td><td>0.0</td><td>0.333333333</td><td>1</td><td>61</td><td>2</td><td>1</td><td>U</td><td>A</td><td>N</td><td>1652</td><td>4228.0</td><td>1504.62</td><td>1453.44</td><td>4085.0</td><td>1602</td><td>29.66</td><td>83.37</td><td>32.69</td><td>272</td><td>116</td><td>30</td><td>322</td><td>136</td><td>38</td><td>S</td><td>NORTHWEST/ROCKY M...</td><td>Y</td><td>N</td><td>149.9899902</td><td>2</td><td>2</td><td>WCMB</td><td>0</td><td>0</td><td>O</td><td>15</td><td>S</td><td>S</td><td>1</td><td>M</td><td>4</td><td>3</td><td>C</td><td>A</td><td>0</td><td>N</td><td>U</td><td>U</td><td>U</td><td>U</td><td>U</td><td>Y</td><td>361</td><td>1000001</td></tr>\n",
       "<tr><td>57.4925</td><td>482.75</td><td>37.425</td><td>0.2475</td><td>22.75</td><td>9.1</td><td>9.1</td><td>0.0</td><td>0.0</td><td>532.25</td><td>50.9875</td><td>8.333333333</td><td>0.0</td><td>1.0</td><td>0.0</td><td>61.33333333</td><td>0.0</td><td>263.3333333</td><td>0.0</td><td>69.0</td><td>0.0</td><td>193.3333333</td><td>0.0</td><td>1.666666667</td><td>6.333333333</td><td>5.463333333</td><td>53.0</td><td>0.333333333</td><td>189.3966667</td><td>0.0</td><td>55.28</td><td>46.33333333</td><td>24.21666667</td><td>6.333333333</td><td>3.696666667</td><td>83.66666667</td><td>0.0</td><td>75.33333333</td><td>0.0</td><td>157.0</td><td>0.0</td><td>169.3433333</td><td>0.0</td><td>9.333333333</td><td>263.3333333</td><td>193.3333333</td><td>0.0</td><td>5.666666667</td><td>0</td><td>56</td><td>1</td><td>1</td><td>N</td><td>EA</td><td>N</td><td>14654</td><td>26400.0</td><td>2851.68</td><td>2833.88</td><td>26367.0</td><td>14624</td><td>51.53</td><td>479.4</td><td>265.89</td><td>305</td><td>158</td><td>40</td><td>477</td><td>275</td><td>48</td><td>U</td><td>CHICAGO AREA</td><td>N</td><td>N</td><td>null</td><td>7</td><td>6</td><td>WC</td><td>1</td><td>1</td><td>null</td><td>1</td><td>S</td><td>S</td><td>1</td><td>M</td><td>5</td><td>1</td><td>C</td><td>A</td><td>0</td><td>Z</td><td>U</td><td>U</td><td>U</td><td>U</td><td>U</td><td>Y</td><td>240</td><td>1000002</td></tr>\n",
       "<tr><td>16.99</td><td>10.25</td><td>16.99</td><td>0.0</td><td>0.0</td><td>0.0</td><td>0.0</td><td>0.0</td><td>0.0</td><td>-4.25</td><td>0.0</td><td>0.333333333</td><td>0.0</td><td>0.0</td><td>0.0</td><td>2.666666667</td><td>0.0</td><td>9.0</td><td>0.0</td><td>0.333333333</td><td>0.0</td><td>6.0</td><td>0.0</td><td>0.0</td><td>0.0</td><td>0.0</td><td>0.333333333</td><td>0.0</td><td>5.426666667</td><td>0.0</td><td>0.0</td><td>0.0</td><td>0.0</td><td>0.0</td><td>0.0</td><td>5.0</td><td>0.0</td><td>5.193333333</td><td>0.0</td><td>1.0</td><td>0.0</td><td>0.233333333</td><td>0.0</td><td>0.333333333</td><td>9.0</td><td>6.0</td><td>0.0</td><td>0.0</td><td>1</td><td>58</td><td>1</td><td>1</td><td>Y</td><td>C</td><td>N</td><td>7903</td><td>24385.05333</td><td>2155.91</td><td>1934.47</td><td>24303.05</td><td>7888</td><td>34.54</td><td>433.98</td><td>140.86</td><td>12</td><td>7</td><td>17</td><td>11</td><td>6</td><td>17</td><td>S</td><td>GREAT LAKES AREA</td><td>N</td><td>N</td><td>29.98999023</td><td>2</td><td>1</td><td>NA</td><td>0</td><td>0</td><td>O</td><td>7</td><td>S</td><td>M</td><td>2</td><td>M</td><td>5</td><td>2</td><td>C</td><td>A</td><td>0</td><td>N</td><td>U</td><td>Y</td><td>U</td><td>U</td><td>U</td><td>Y</td><td>1504</td><td>1000003</td></tr>\n",
       "<tr><td>38.0</td><td>7.5</td><td>38.0</td><td>0.0</td><td>0.0</td><td>0.0</td><td>0.0</td><td>0.0</td><td>0.0</td><td>-1.5</td><td>0.0</td><td>0.0</td><td>0.0</td><td>0.0</td><td>0.0</td><td>0.0</td><td>0.0</td><td>3.666666667</td><td>0.0</td><td>1.333333333</td><td>0.0</td><td>3.666666667</td><td>0.0</td><td>0.0</td><td>0.0</td><td>0.0</td><td>1.333333333</td><td>0.0</td><td>8.41</td><td>0.0</td><td>0.413333333</td><td>0.333333333</td><td>0.256666667</td><td>0.0</td><td>0.0</td><td>1.333333333</td><td>0.0</td><td>3.38</td><td>0.0</td><td>3.666666667</td><td>0.0</td><td>5.45</td><td>0.0</td><td>0.0</td><td>3.666666667</td><td>3.666666667</td><td>0.0</td><td>0.0</td><td>0</td><td>60</td><td>1</td><td>1</td><td>Y</td><td>B</td><td>N</td><td>1502</td><td>3065.0</td><td>2000.9</td><td>1941.81</td><td>3035.0</td><td>1479</td><td>40.45</td><td>63.23</td><td>30.81</td><td>8</td><td>3</td><td>38</td><td>50</td><td>25</td><td>40</td><td>T</td><td>CHICAGO AREA</td><td>N</td><td>N</td><td>29.98999023</td><td>1</td><td>1</td><td>NA</td><td>0</td><td>0</td><td>null</td><td>6</td><td>M</td><td>M</td><td>4</td><td>M</td><td>6</td><td>1</td><td>C</td><td>D</td><td>0</td><td>U</td><td>Y</td><td>U</td><td>U</td><td>U</td><td>U</td><td>Y</td><td>1812</td><td>1000004</td></tr>\n",
       "<tr><td>55.23</td><td>570.5</td><td>71.98</td><td>0.0</td><td>0.0</td><td>0.0</td><td>0.0</td><td>0.0</td><td>0.0</td><td>38.5</td><td>0.0</td><td>9.666666667</td><td>0.0</td><td>0.666666667</td><td>0.0</td><td>77.0</td><td>0.0</td><td>222.3333333</td><td>0.0</td><td>94.66666667</td><td>0.0</td><td>137.0</td><td>0.0</td><td>8.666666667</td><td>15.0</td><td>11.07666667</td><td>66.0</td><td>0.0</td><td>285.2333333</td><td>0.0</td><td>106.33</td><td>14.66666667</td><td>10.81666667</td><td>0.666666667</td><td>0.366666667</td><td>97.33333333</td><td>0.0</td><td>173.4766667</td><td>0.0</td><td>90.33333333</td><td>0.0</td><td>218.0866667</td><td>0.0</td><td>10.33333333</td><td>222.3333333</td><td>137.0</td><td>0.0</td><td>0.0</td><td>0</td><td>57</td><td>1</td><td>1</td><td>Y</td><td>A</td><td>N</td><td>4485</td><td>14028.0</td><td>2181.12</td><td>2166.48</td><td>13965.0</td><td>4452</td><td>38.69</td><td>249.38</td><td>79.5</td><td>558</td><td>191</td><td>55</td><td>586</td><td>196</td><td>80</td><td>U</td><td>NEW ENGLAND AREA</td><td>Y</td><td>N</td><td>149.9899902</td><td>6</td><td>4</td><td>WCMB</td><td>0</td><td>0</td><td>R</td><td>5</td><td>M</td><td>S</td><td>1</td><td>M</td><td>6</td><td>1</td><td>C</td><td>O</td><td>0</td><td>I</td><td>U</td><td>U</td><td>U</td><td>U</td><td>U</td><td>Y</td><td>434</td><td>1000005</td></tr>\n",
       "<tr><td>82.275</td><td>1312.25</td><td>75.0</td><td>1.2375</td><td>0.0</td><td>0.0</td><td>0.0</td><td>0.0</td><td>0.0</td><td>156.75</td><td>8.145</td><td>52.0</td><td>0.0</td><td>7.666666667</td><td>0.0</td><td>76.0</td><td>0.0</td><td>702.0</td><td>0.0</td><td>365.0</td><td>0.0</td><td>577.3333333</td><td>0.0</td><td>4.333333333</td><td>11.0</td><td>7.753333333</td><td>301.6666667</td><td>1.333333333</td><td>369.5366667</td><td>0.0</td><td>200.32</td><td>370.3333333</td><td>243.2133333</td><td>147.0</td><td>85.14666667</td><td>555.6666667</td><td>0.0</td><td>382.0966667</td><td>0.0</td><td>303.6666667</td><td>0.0</td><td>187.76</td><td>0.0</td><td>59.66666667</td><td>702.0</td><td>577.3333333</td><td>0.0</td><td>22.66666667</td><td>0</td><td>59</td><td>2</td><td>2</td><td>Y</td><td>C</td><td>N</td><td>26812</td><td>40869.0</td><td>4033.98</td><td>3932.9</td><td>40295.0</td><td>26362</td><td>83.68</td><td>857.34</td><td>560.89</td><td>1260</td><td>960</td><td>80</td><td>1187</td><td>853</td><td>78</td><td>U</td><td>GREAT LAKES AREA</td><td>N</td><td>N</td><td>129.9899902</td><td>9</td><td>4</td><td>WCMB</td><td>0</td><td>0</td><td>O</td><td>1</td><td>null</td><td>S</td><td>1</td><td>M</td><td>6</td><td>1</td><td>C</td><td>null</td><td>0</td><td>U</td><td>U</td><td>U</td><td>U</td><td>U</td><td>U</td><td>Y</td><td>458</td><td>1000006</td></tr>\n",
       "<tr><td>17.145</td><td>0.0</td><td>16.99</td><td>0.0</td><td>0.0</td><td>0.0</td><td>0.0</td><td>0.0</td><td>0.0</td><td>0.0</td><td>-0.155</td><td>0.0</td><td>0.0</td><td>0.0</td><td>0.0</td><td>0.0</td><td>0.0</td><td>0.0</td><td>0.0</td><td>0.0</td><td>0.0</td><td>0.0</td><td>0.0</td><td>0.0</td><td>0.0</td><td>0.0</td><td>0.0</td><td>0.0</td><td>0.0</td><td>0.0</td><td>0.0</td><td>0.0</td><td>0.0</td><td>0.0</td><td>0.0</td><td>0.0</td><td>0.0</td><td>0.0</td><td>0.0</td><td>0.0</td><td>0.0</td><td>0.0</td><td>0.0</td><td>0.0</td><td>0.0</td><td>0.0</td><td>0.0</td><td>0.0</td><td>1</td><td>53</td><td>2</td><td>2</td><td>N</td><td>A</td><td>N</td><td>6279</td><td>17390.03333</td><td>3091.7</td><td>3065.24</td><td>17371.03</td><td>6271</td><td>58.95</td><td>334.06</td><td>120.6</td><td>0</td><td>0</td><td>17</td><td>0</td><td>0</td><td>17</td><td>C</td><td>DALLAS AREA</td><td>Y</td><td>N</td><td>29.98999023</td><td>4</td><td>3</td><td>NA</td><td>0</td><td>0</td><td>O</td><td>8</td><td>S</td><td>M</td><td>3</td><td>M</td><td>9</td><td>null</td><td>I</td><td>A</td><td>0</td><td>N</td><td>U</td><td>U</td><td>U</td><td>U</td><td>U</td><td>Y</td><td>852</td><td>1000007</td></tr>\n",
       "<tr><td>38.0525</td><td>682.5</td><td>52.49</td><td>0.2475</td><td>0.0</td><td>0.0</td><td>0.0</td><td>0.0</td><td>0.0</td><td>147.5</td><td>-3.0625</td><td>9.0</td><td>0.0</td><td>1.666666667</td><td>0.0</td><td>13.0</td><td>0.0</td><td>97.0</td><td>0.0</td><td>13.0</td><td>0.0</td><td>73.33333333</td><td>0.0</td><td>0.666666667</td><td>5.333333333</td><td>5.276666667</td><td>5.0</td><td>0.0</td><td>470.0233333</td><td>0.0</td><td>42.19666667</td><td>6.666666667</td><td>6.23</td><td>0.0</td><td>0.0</td><td>33.33333333</td><td>0.0</td><td>81.06666667</td><td>0.0</td><td>53.0</td><td>0.0</td><td>431.1533333</td><td>0.0</td><td>10.66666667</td><td>97.0</td><td>73.33333333</td><td>0.0</td><td>0.666666667</td><td>0</td><td>53</td><td>1</td><td>1</td><td>Y</td><td>B</td><td>N</td><td>4491</td><td>12492.0</td><td>1427.71</td><td>1423.06</td><td>12439.0</td><td>4470</td><td>34.71</td><td>303.39</td><td>109.02</td><td>633</td><td>96</td><td>39</td><td>719</td><td>112</td><td>58</td><td>null</td><td>DALLAS AREA</td><td>Y</td><td>N</td><td>79.98999023</td><td>3</td><td>2</td><td>WCMB</td><td>0</td><td>0</td><td>R</td><td>0</td><td>S</td><td>M</td><td>2</td><td>M</td><td>1</td><td>2</td><td>C</td><td>A</td><td>1</td><td>S</td><td>U</td><td>U</td><td>U</td><td>U</td><td>U</td><td>Y</td><td>231</td><td>1000008</td></tr>\n",
       "<tr><td>97.3375</td><td>1039.0</td><td>50.0</td><td>4.95</td><td>419.5</td><td>41.95</td><td>41.95</td><td>0.0</td><td>0.0</td><td>198.0</td><td>23.2625</td><td>12.66666667</td><td>0.0</td><td>3.0</td><td>0.0</td><td>176.0</td><td>0.0</td><td>533.6666667</td><td>0.0</td><td>96.0</td><td>0.0</td><td>346.6666667</td><td>0.0</td><td>11.33333333</td><td>13.66666667</td><td>6.25</td><td>45.0</td><td>0.333333333</td><td>460.92</td><td>0.0</td><td>213.8533333</td><td>103.3333333</td><td>54.71333333</td><td>0.333333333</td><td>0.056666667</td><td>238.3333333</td><td>0.0</td><td>377.4533333</td><td>0.0</td><td>192.3333333</td><td>0.0</td><td>297.32</td><td>0.0</td><td>15.66666667</td><td>533.6666667</td><td>346.6666667</td><td>0.0</td><td>4.0</td><td>0</td><td>55</td><td>1</td><td>1</td><td>Y</td><td>B</td><td>N</td><td>16730</td><td>43231.05333</td><td>4404.44</td><td>4313.71</td><td>42943.05</td><td>16579</td><td>81.39</td><td>810.25</td><td>312.81</td><td>973</td><td>465</td><td>90</td><td>915</td><td>434</td><td>90</td><td>S</td><td>CHICAGO AREA</td><td>Y</td><td>N</td><td>29.98999023</td><td>3</td><td>3</td><td>NA</td><td>0</td><td>0</td><td>null</td><td>3</td><td>M</td><td>M</td><td>3</td><td>M</td><td>4</td><td>1</td><td>C</td><td>E</td><td>0</td><td>F</td><td>U</td><td>U</td><td>U</td><td>U</td><td>U</td><td>N</td><td>700</td><td>1000009</td></tr>\n",
       "<tr><td>31.6625</td><td>25.5</td><td>29.99</td><td>0.2475</td><td>0.0</td><td>0.0</td><td>0.0</td><td>0.0</td><td>0.0</td><td>59.5</td><td>4.0275</td><td>0.0</td><td>0.0</td><td>1.0</td><td>0.0</td><td>2.333333333</td><td>0.0</td><td>6.666666667</td><td>0.0</td><td>0.0</td><td>0.0</td><td>3.333333333</td><td>0.0</td><td>0.0</td><td>0.0</td><td>0.0</td><td>0.0</td><td>0.0</td><td>3.8</td><td>0.0</td><td>0.0</td><td>0.0</td><td>0.0</td><td>0.0</td><td>0.0</td><td>1.666666667</td><td>0.0</td><td>1.866666667</td><td>0.0</td><td>1.666666667</td><td>0.0</td><td>1.933333333</td><td>0.0</td><td>1.0</td><td>6.666666667</td><td>3.333333333</td><td>0.0</td><td>0.0</td><td>0</td><td>57</td><td>2</td><td>2</td><td>N</td><td>A</td><td>N</td><td>391</td><td>994.0</td><td>1458.42</td><td>1457.84</td><td>976.0</td><td>377</td><td>26.51</td><td>17.75</td><td>6.85</td><td>6</td><td>3</td><td>30</td><td>54</td><td>7</td><td>34</td><td>C</td><td>DALLAS AREA</td><td>Y</td><td>N</td><td>79.98999023</td><td>2</td><td>2</td><td>WCMB</td><td>0</td><td>0</td><td>O</td><td>8</td><td>S</td><td>M</td><td>2</td><td>M</td><td>9</td><td>2</td><td>I</td><td>A</td><td>1</td><td>N</td><td>U</td><td>U</td><td>U</td><td>U</td><td>U</td><td>Y</td><td>601</td><td>1000010</td></tr>\n",
       "<tr><td>62.1275</td><td>97.5</td><td>65.985</td><td>2.475</td><td>0.0</td><td>0.0</td><td>0.0</td><td>0.0</td><td>0.0</td><td>23.5</td><td>6.8225</td><td>0.0</td><td>0.0</td><td>0.333333333</td><td>0.0</td><td>4.0</td><td>0.0</td><td>19.33333333</td><td>0.333333333</td><td>0.0</td><td>0.0</td><td>15.0</td><td>0.333333333</td><td>4.0</td><td>98.66666667</td><td>96.92</td><td>0.0</td><td>0.0</td><td>136.4933333</td><td>0.056666667</td><td>0.0</td><td>3.666666667</td><td>15.36666667</td><td>0.0</td><td>0.0</td><td>7.666666667</td><td>0.333333333</td><td>66.07333333</td><td>0.056666667</td><td>7.333333333</td><td>0.0</td><td>70.42</td><td>0.0</td><td>0.333333333</td><td>19.66666667</td><td>15.33333333</td><td>0.0</td><td>0.0</td><td>0</td><td>59</td><td>2</td><td>2</td><td>Y</td><td>A</td><td>N</td><td>2392</td><td>6868.11</td><td>3290.73</td><td>3195.01</td><td>6620.11</td><td>2312</td><td>56.05</td><td>116.14</td><td>40.56</td><td>90</td><td>16</td><td>60</td><td>123</td><td>32</td><td>64</td><td>C</td><td>DALLAS AREA</td><td>Y</td><td>N</td><td>79.98999023</td><td>3</td><td>3</td><td>WCMB</td><td>0</td><td>0</td><td>O</td><td>15</td><td>S</td><td>S</td><td>5</td><td>M</td><td>6</td><td>null</td><td>C</td><td>A</td><td>0</td><td>N</td><td>Y</td><td>U</td><td>U</td><td>U</td><td>U</td><td>Y</td><td>464</td><td>1000011</td></tr>\n",
       "<tr><td>35.295</td><td>24.25</td><td>34.98</td><td>0.0</td><td>0.0</td><td>0.0</td><td>0.0</td><td>0.0</td><td>0.0</td><td>19.75</td><td>-0.315</td><td>0.0</td><td>0.0</td><td>0.0</td><td>0.0</td><td>1.0</td><td>0.0</td><td>9.0</td><td>0.0</td><td>3.0</td><td>0.0</td><td>8.0</td><td>0.0</td><td>0.0</td><td>0.0</td><td>0.0</td><td>2.333333333</td><td>0.0</td><td>5.533333333</td><td>0.0</td><td>2.386666667</td><td>4.0</td><td>2.926666667</td><td>1.666666667</td><td>1.516666667</td><td>9.333333333</td><td>0.0</td><td>7.17</td><td>0.0</td><td>1.666666667</td><td>0.0</td><td>0.75</td><td>0.0</td><td>0.0</td><td>9.0</td><td>8.0</td><td>0.0</td><td>0.0</td><td>0</td><td>53</td><td>3</td><td>3</td><td>Y</td><td>A</td><td>N</td><td>3207</td><td>5579.136667</td><td>3104.16</td><td>2796.06</td><td>5358.14</td><td>3087</td><td>54.82</td><td>105.06</td><td>60.53</td><td>18</td><td>13</td><td>36</td><td>36</td><td>26</td><td>36</td><td>C</td><td>CENTRAL/SOUTH TEX...</td><td>N</td><td>N</td><td>79.98999023</td><td>4</td><td>3</td><td>WC</td><td>0</td><td>0</td><td>O</td><td>4</td><td>S</td><td>A</td><td>3</td><td>M</td><td>9</td><td>null</td><td>null</td><td>A</td><td>0</td><td>N</td><td>U</td><td>U</td><td>Y</td><td>Y</td><td>U</td><td>Y</td><td>544</td><td>1000012</td></tr>\n",
       "<tr><td>81.0</td><td>1056.25</td><td>75.0</td><td>0.0</td><td>0.0</td><td>0.0</td><td>0.0</td><td>0.0</td><td>0.0</td><td>42.75</td><td>2.35</td><td>0.0</td><td>0.0</td><td>0.0</td><td>0.0</td><td>0.0</td><td>0.0</td><td>0.0</td><td>0.0</td><td>0.0</td><td>0.0</td><td>0.0</td><td>0.0</td><td>0.0</td><td>0.0</td><td>0.0</td><td>0.0</td><td>0.0</td><td>0.0</td><td>0.0</td><td>0.0</td><td>0.0</td><td>0.0</td><td>0.0</td><td>0.0</td><td>0.0</td><td>0.0</td><td>0.0</td><td>0.0</td><td>0.0</td><td>0.0</td><td>0.0</td><td>0.0</td><td>0.0</td><td>0.0</td><td>0.0</td><td>0.0</td><td>0.0</td><td>0</td><td>55</td><td>1</td><td>1</td><td>Y</td><td>BA</td><td>N</td><td>31584</td><td>51857.07</td><td>4270.87</td><td>4181.91</td><td>51553.07</td><td>31397</td><td>78.9</td><td>972.7</td><td>592.4</td><td>1042</td><td>625</td><td>80</td><td>999</td><td>625</td><td>76</td><td>U</td><td>GREAT LAKES AREA</td><td>Y</td><td>N</td><td>199.9899902</td><td>9</td><td>5</td><td>WCMB</td><td>0</td><td>0</td><td>O</td><td>15</td><td>S</td><td>S</td><td>3</td><td>M</td><td>5</td><td>null</td><td>B</td><td>A</td><td>0</td><td>J</td><td>U</td><td>U</td><td>U</td><td>U</td><td>U</td><td>Y</td><td>388</td><td>1000013</td></tr>\n",
       "<tr><td>25.225</td><td>2.5</td><td>25.0</td><td>0.0</td><td>0.0</td><td>0.0</td><td>0.0</td><td>0.0</td><td>0.0</td><td>-2.5</td><td>-0.225</td><td>0.0</td><td>0.0</td><td>0.0</td><td>0.0</td><td>0.333333333</td><td>0.0</td><td>1.333333333</td><td>0.0</td><td>0.333333333</td><td>0.0</td><td>1.0</td><td>0.0</td><td>0.0</td><td>0.0</td><td>0.0</td><td>0.0</td><td>0.0</td><td>1.306666667</td><td>0.0</td><td>1.133333333</td><td>0.333333333</td><td>0.023333333</td><td>0.0</td><td>0.0</td><td>0.666666667</td><td>0.0</td><td>2.2</td><td>0.0</td><td>0.666666667</td><td>0.0</td><td>0.24</td><td>0.0</td><td>0.0</td><td>1.333333333</td><td>1.0</td><td>0.0</td><td>0.0</td><td>0</td><td>53</td><td>2</td><td>2</td><td>Y</td><td>A</td><td>N</td><td>400</td><td>642.0</td><td>1370.94</td><td>1323.62</td><td>613.0</td><td>385</td><td>25.95</td><td>12.02</td><td>7.55</td><td>3</td><td>2</td><td>25</td><td>4</td><td>3</td><td>25</td><td>C</td><td>CENTRAL/SOUTH TEX...</td><td>Y</td><td>N</td><td>59.98999023</td><td>2</td><td>2</td><td>WCMB</td><td>1</td><td>0</td><td>null</td><td>1</td><td>S</td><td>U</td><td>1</td><td>M</td><td>7</td><td>null</td><td>A</td><td>A</td><td>0</td><td>N</td><td>U</td><td>U</td><td>U</td><td>U</td><td>U</td><td>N</td><td>354</td><td>1000014</td></tr>\n",
       "<tr><td>212.515</td><td>1971.5</td><td>84.99</td><td>2.2275</td><td>249.5</td><td>99.8</td><td>99.8</td><td>0.0</td><td>35.4975</td><td>-200.5</td><td>-106.765</td><td>9.0</td><td>0.0</td><td>0.0</td><td>0.0</td><td>43.66666667</td><td>0.0</td><td>344.6666667</td><td>0.0</td><td>271.3333333</td><td>0.0</td><td>296.0</td><td>0.0</td><td>0.333333333</td><td>3.333333333</td><td>3.316666667</td><td>126.3333333</td><td>0.0</td><td>581.2966667</td><td>0.0</td><td>718.07</td><td>49.33333333</td><td>35.16333333</td><td>4.666666667</td><td>9.263333333</td><td>351.6666667</td><td>0.0</td><td>864.1733333</td><td>0.0</td><td>128.6666667</td><td>0.0</td><td>435.1933333</td><td>0.0</td><td>9.0</td><td>344.6666667</td><td>296.0</td><td>0.0</td><td>1.0</td><td>0</td><td>59</td><td>5</td><td>1</td><td>Y</td><td>C</td><td>N</td><td>33184</td><td>69161.08333</td><td>6616.72</td><td>6572.7</td><td>69104.08</td><td>33139</td><td>115.31</td><td>1212.35</td><td>581.39</td><td>2038</td><td>637</td><td>248</td><td>1817</td><td>576</td><td>182</td><td>S</td><td>NORTHWEST/ROCKY M...</td><td>Y</td><td>N</td><td>149.9899902</td><td>10</td><td>6</td><td>WCMB</td><td>0</td><td>0</td><td>O</td><td>11</td><td>S</td><td>S</td><td>3</td><td>M</td><td>3</td><td>2</td><td>I</td><td>A</td><td>0</td><td>N</td><td>U</td><td>U</td><td>Y</td><td>U</td><td>U</td><td>Y</td><td>199</td><td>1000015</td></tr>\n",
       "<tr><td>42.565</td><td>270.5</td><td>37.48</td><td>0.2475</td><td>6.0</td><td>1.5</td><td>1.5</td><td>0.0</td><td>0.0</td><td>201.5</td><td>-1.785</td><td>3.333333333</td><td>0.0</td><td>1.666666667</td><td>0.0</td><td>7.666666667</td><td>0.0</td><td>67.66666667</td><td>0.0</td><td>25.33333333</td><td>0.0</td><td>55.33333333</td><td>0.0</td><td>1.0</td><td>1.666666667</td><td>1.026666667</td><td>11.66666667</td><td>0.0</td><td>117.8466667</td><td>0.0</td><td>57.09333333</td><td>11.0</td><td>10.81</td><td>3.666666667</td><td>4.0</td><td>62.33333333</td><td>0.0</td><td>136.7966667</td><td>0.0</td><td>18.0</td><td>0.0</td><td>38.14333333</td><td>0.0</td><td>5.0</td><td>67.66666667</td><td>55.33333333</td><td>0.0</td><td>0.333333333</td><td>0</td><td>55</td><td>2</td><td>2</td><td>N</td><td>B</td><td>N</td><td>7586</td><td>15226.03</td><td>2311.08</td><td>2303.38</td><td>15180.03</td><td>7560</td><td>43.46</td><td>286.42</td><td>142.64</td><td>203</td><td>106</td><td>43</td><td>222</td><td>115</td><td>41</td><td>S</td><td>DALLAS AREA</td><td>Y</td><td>N</td><td>79.98999023</td><td>5</td><td>4</td><td>WCMB</td><td>0</td><td>0</td><td>O</td><td>4</td><td>M</td><td>U</td><td>3</td><td>M</td><td>1</td><td>null</td><td>null</td><td>null</td><td>0</td><td>N</td><td>U</td><td>Y</td><td>U</td><td>U</td><td>U</td><td>Y</td><td>697</td><td>1000016</td></tr>\n",
       "<tr><td>63.0175</td><td>440.25</td><td>59.98</td><td>0.0</td><td>5.75</td><td>1.725</td><td>1.725</td><td>0.0</td><td>1.3125</td><td>-16.25</td><td>0.2125</td><td>5.0</td><td>0.0</td><td>0.0</td><td>0.0</td><td>17.33333333</td><td>0.0</td><td>138.3333333</td><td>0.0</td><td>53.0</td><td>0.0</td><td>118.0</td><td>0.0</td><td>3.666666667</td><td>10.66666667</td><td>8.27</td><td>22.0</td><td>0.333333333</td><td>225.0533333</td><td>0.0</td><td>93.87666667</td><td>0.0</td><td>0.0</td><td>0.0</td><td>0.0</td><td>141.3333333</td><td>0.0</td><td>268.56</td><td>0.0</td><td>14.33333333</td><td>0.0</td><td>50.37</td><td>0.0</td><td>5.0</td><td>138.3333333</td><td>118.0</td><td>0.0</td><td>1.666666667</td><td>0</td><td>57</td><td>1</td><td>1</td><td>N</td><td>B</td><td>N</td><td>4078</td><td>11330.0</td><td>1739.43</td><td>1722.98</td><td>11316.0</td><td>4067</td><td>50.68</td><td>332.82</td><td>119.62</td><td>446</td><td>193</td><td>63</td><td>429</td><td>183</td><td>64</td><td>T</td><td>NORTHWEST/ROCKY M...</td><td>N</td><td>N</td><td>29.98999023</td><td>3</td><td>2</td><td>WCMB</td><td>0</td><td>0</td><td>O</td><td>3</td><td>S</td><td>U</td><td>2</td><td>M</td><td>3</td><td>1</td><td>C</td><td>A</td><td>0</td><td>N</td><td>U</td><td>U</td><td>U</td><td>U</td><td>U</td><td>Y</td><td>530</td><td>1000017</td></tr>\n",
       "<tr><td>35.59</td><td>153.0</td><td>29.99</td><td>0.0</td><td>16.0</td><td>5.6</td><td>5.6</td><td>0.0</td><td>0.0</td><td>30.0</td><td>7.35</td><td>2.0</td><td>0.0</td><td>0.666666667</td><td>0.0</td><td>17.33333333</td><td>0.0</td><td>53.0</td><td>0.0</td><td>26.0</td><td>0.0</td><td>33.33333333</td><td>0.0</td><td>0.0</td><td>0.0</td><td>0.0</td><td>14.66666667</td><td>0.0</td><td>50.13333333</td><td>0.0</td><td>33.10666667</td><td>8.0</td><td>10.94666667</td><td>4.666666667</td><td>5.253333333</td><td>48.33333333</td><td>0.0</td><td>77.15333333</td><td>0.0</td><td>7.0</td><td>0.0</td><td>6.086666667</td><td>0.0</td><td>2.666666667</td><td>53.0</td><td>33.33333333</td><td>0.0</td><td>0.333333333</td><td>0</td><td>59</td><td>3</td><td>2</td><td>N</td><td>A</td><td>N</td><td>7043</td><td>12661.0</td><td>2036.85</td><td>2013.28</td><td>12657.0</td><td>7041</td><td>36.61</td><td>230.13</td><td>128.02</td><td>143</td><td>76</td><td>33</td><td>135</td><td>73</td><td>32</td><td>U</td><td>NORTHWEST/ROCKY M...</td><td>N</td><td>N</td><td>79.98999023</td><td>6</td><td>5</td><td>WC</td><td>1</td><td>1</td><td>O</td><td>7</td><td>S</td><td>S</td><td>5</td><td>M</td><td>4</td><td>null</td><td>C</td><td>A</td><td>0</td><td>N</td><td>U</td><td>U</td><td>U</td><td>U</td><td>Y</td><td>Y</td><td>48</td><td>1000018</td></tr>\n",
       "<tr><td>55.27</td><td>1212.75</td><td>49.99</td><td>0.7425</td><td>0.0</td><td>0.0</td><td>0.0</td><td>0.0</td><td>1.285</td><td>169.25</td><td>0.99</td><td>2.666666667</td><td>0.0</td><td>6.0</td><td>0.0</td><td>43.66666667</td><td>0.0</td><td>225.0</td><td>0.0</td><td>121.6666667</td><td>0.0</td><td>173.6666667</td><td>0.0</td><td>4.333333333</td><td>9.666666667</td><td>7.5</td><td>43.0</td><td>0.0</td><td>456.98</td><td>0.0</td><td>490.1266667</td><td>50.66666667</td><td>50.00666667</td><td>8.333333333</td><td>18.40666667</td><td>189.3333333</td><td>0.0</td><td>593.0866667</td><td>0.0</td><td>105.0</td><td>0.0</td><td>354.02</td><td>0.0</td><td>8.666666667</td><td>225.0</td><td>173.6666667</td><td>0.0</td><td>4.333333333</td><td>0</td><td>52</td><td>1</td><td>1</td><td>N</td><td>A</td><td>N</td><td>8468</td><td>23835.0</td><td>1935.97</td><td>1914.23</td><td>23524.0</td><td>8378</td><td>47.86</td><td>588.1</td><td>209.45</td><td>1156</td><td>254</td><td>55</td><td>1031</td><td>248</td><td>55</td><td>S</td><td>DALLAS AREA</td><td>Y</td><td>N</td><td>29.98999023</td><td>4</td><td>4</td><td>WC</td><td>0</td><td>0</td><td>O</td><td>10</td><td>S</td><td>B</td><td>1</td><td>M</td><td>3</td><td>1</td><td>C</td><td>A</td><td>0</td><td>N</td><td>U</td><td>U</td><td>U</td><td>U</td><td>U</td><td>Y</td><td>408</td><td>1000019</td></tr>\n",
       "<tr><td>50.965</td><td>162.0</td><td>69.99</td><td>0.0</td><td>2.5</td><td>0.975</td><td>0.0</td><td>0.975</td><td>0.0</td><td>-58.0</td><td>-0.975</td><td>1.666666667</td><td>0.0</td><td>0.333333333</td><td>0.0</td><td>9.0</td><td>0.0</td><td>60.66666667</td><td>1.333333333</td><td>14.0</td><td>0.0</td><td>50.0</td><td>1.333333333</td><td>0.333333333</td><td>0.333333333</td><td>0.276666667</td><td>7.0</td><td>0.0</td><td>65.24666667</td><td>2.373333333</td><td>38.37333333</td><td>34.33333333</td><td>17.40666667</td><td>5.666666667</td><td>11.69</td><td>19.33333333</td><td>0.0</td><td>37.26666667</td><td>0.0</td><td>42.33333333</td><td>1.333333333</td><td>66.35333333</td><td>2.373333333</td><td>2.0</td><td>62.0</td><td>51.33333333</td><td>0.0</td><td>0.0</td><td>0</td><td>56</td><td>1</td><td>1</td><td>Y</td><td>B</td><td>N</td><td>1319</td><td>4531.016667</td><td>1348.33</td><td>1276.0</td><td>4504.02</td><td>1306</td><td>42.53</td><td>150.13</td><td>43.53</td><td>181</td><td>63</td><td>51</td><td>240</td><td>62</td><td>51</td><td>U</td><td>CHICAGO AREA</td><td>Y</td><td>N</td><td>129.9899902</td><td>4</td><td>3</td><td>WCMB</td><td>0</td><td>0</td><td>R</td><td>15</td><td>S</td><td>S</td><td>4</td><td>M</td><td>1</td><td>2</td><td>C</td><td>A</td><td>0</td><td>S</td><td>U</td><td>U</td><td>Y</td><td>Y</td><td>Y</td><td>N</td><td>253</td><td>1000020</td></tr>\n",
       "</table>\n",
       "only showing top 20 rows\n"
      ],
      "text/plain": [
       "+--------+--------+-----------+-------+-----------+-----------+-----------+-----------+---------+----------+----------+-------------+-------------+-------------+-------------+-------------+-------------+-------------+-------------+-------------+-------------+-------------+-------------+-------------+-------------+-----------+-------------+-------------+-------------+-------------+-------------+---------------+---------------+---------------+---------------+-------------+-------------+-------------+-------------+------------+------------+-------------+-------------+-------------+------------+-------------+-------------+-------------+-----+------+--------+--------+--------+--------+--------+--------+-----------+-------+-------+--------+------+------+-------+------+-------+-------+-------+-------+-------+-------+----------------+--------------------+--------+----------+-----------+------+------+----------+-----+---+-------+---+--------+-------+------+--------+------+--------+--------+--------+--------+------+------+------+-------+--------+--------+--------+-------+-----------+\n",
       "|rev_Mean|mou_Mean|totmrc_Mean|da_Mean|ovrmou_Mean|ovrrev_Mean|vceovr_Mean|datovr_Mean|roam_Mean|change_mou|change_rev|drop_vce_Mean|drop_dat_Mean|blck_vce_Mean|blck_dat_Mean|unan_vce_Mean|unan_dat_Mean|plcd_vce_Mean|plcd_dat_Mean|recv_vce_Mean|recv_sms_Mean|comp_vce_Mean|comp_dat_Mean|custcare_Mean|ccrndmou_Mean|cc_mou_Mean|inonemin_Mean|threeway_Mean|mou_cvce_Mean|mou_cdat_Mean|mou_rvce_Mean|owylis_vce_Mean|mouowylisv_Mean|iwylis_vce_Mean|mouiwylisv_Mean|peak_vce_Mean|peak_dat_Mean|mou_peav_Mean|mou_pead_Mean|opk_vce_Mean|opk_dat_Mean|mou_opkv_Mean|mou_opkd_Mean|drop_blk_Mean|attempt_Mean|complete_Mean|callfwdv_Mean|callwait_Mean|churn|months|uniqsubs|actvsubs|new_cell|crclscod|asl_flag|totcalls|     totmou| totrev| adjrev|  adjmou|adjqty|avgrev| avgmou|avgqty|avg3mou|avg3qty|avg3rev|avg6mou|avg6qty|avg6rev|prizm_social_one|                area|dualband|refurb_new|  hnd_price|phones|models|hnd_webcap|truck| rv|ownrent|lor|dwlltype|marital|adults|infobase|income|numbcars|HHstatin|dwllsize|forgntvl|ethnic|kid0_2|kid3_5|kid6_10|kid11_15|kid16_17|creditcd|eqpdays|Customer_ID|\n",
       "+--------+--------+-----------+-------+-----------+-----------+-----------+-----------+---------+----------+----------+-------------+-------------+-------------+-------------+-------------+-------------+-------------+-------------+-------------+-------------+-------------+-------------+-------------+-------------+-----------+-------------+-------------+-------------+-------------+-------------+---------------+---------------+---------------+---------------+-------------+-------------+-------------+-------------+------------+------------+-------------+-------------+-------------+------------+-------------+-------------+-------------+-----+------+--------+--------+--------+--------+--------+--------+-----------+-------+-------+--------+------+------+-------+------+-------+-------+-------+-------+-------+-------+----------------+--------------------+--------+----------+-----------+------+------+----------+-----+---+-------+---+--------+-------+------+--------+------+--------+--------+--------+--------+------+------+------+-------+--------+--------+--------+-------+-----------+\n",
       "| 23.9975|  219.25|       22.5| 0.2475|        0.0|        0.0|        0.0|        0.0|      0.0|   -157.25|  -18.9975|  0.666666667|          0.0|  0.666666667|          0.0|  6.333333333|          0.0|  52.33333333|          0.0|  42.33333333|          0.0|         45.0|          0.0|          0.0|          0.0|        0.0|         18.0|          0.0|  90.64333333|          0.0|  97.17666667|            0.0|            0.0|            0.0|            0.0|         58.0|          0.0|        132.6|          0.0|        24.0|         0.0|        55.22|          0.0|  1.333333333| 52.33333333|         45.0|          0.0|  0.333333333|    1|    61|       2|       1|       U|       A|       N|    1652|     4228.0|1504.62|1453.44|  4085.0|  1602| 29.66|  83.37| 32.69|    272|    116|     30|    322|    136|     38|               S|NORTHWEST/ROCKY M...|       Y|         N|149.9899902|     2|     2|      WCMB|    0|  0|      O| 15|       S|      S|     1|       M|     4|       3|       C|       A|       0|     N|     U|     U|      U|       U|       U|       Y|    361|    1000001|\n",
       "| 57.4925|  482.75|     37.425| 0.2475|      22.75|        9.1|        9.1|        0.0|      0.0|    532.25|   50.9875|  8.333333333|          0.0|          1.0|          0.0|  61.33333333|          0.0|  263.3333333|          0.0|         69.0|          0.0|  193.3333333|          0.0|  1.666666667|  6.333333333|5.463333333|         53.0|  0.333333333|  189.3966667|          0.0|        55.28|    46.33333333|    24.21666667|    6.333333333|    3.696666667|  83.66666667|          0.0|  75.33333333|          0.0|       157.0|         0.0|  169.3433333|          0.0|  9.333333333| 263.3333333|  193.3333333|          0.0|  5.666666667|    0|    56|       1|       1|       N|      EA|       N|   14654|    26400.0|2851.68|2833.88| 26367.0| 14624| 51.53|  479.4|265.89|    305|    158|     40|    477|    275|     48|               U|        CHICAGO AREA|       N|         N|       null|     7|     6|        WC|    1|  1|   null|  1|       S|      S|     1|       M|     5|       1|       C|       A|       0|     Z|     U|     U|      U|       U|       U|       Y|    240|    1000002|\n",
       "|   16.99|   10.25|      16.99|    0.0|        0.0|        0.0|        0.0|        0.0|      0.0|     -4.25|       0.0|  0.333333333|          0.0|          0.0|          0.0|  2.666666667|          0.0|          9.0|          0.0|  0.333333333|          0.0|          6.0|          0.0|          0.0|          0.0|        0.0|  0.333333333|          0.0|  5.426666667|          0.0|          0.0|            0.0|            0.0|            0.0|            0.0|          5.0|          0.0|  5.193333333|          0.0|         1.0|         0.0|  0.233333333|          0.0|  0.333333333|         9.0|          6.0|          0.0|          0.0|    1|    58|       1|       1|       Y|       C|       N|    7903|24385.05333|2155.91|1934.47|24303.05|  7888| 34.54| 433.98|140.86|     12|      7|     17|     11|      6|     17|               S|    GREAT LAKES AREA|       N|         N|29.98999023|     2|     1|        NA|    0|  0|      O|  7|       S|      M|     2|       M|     5|       2|       C|       A|       0|     N|     U|     Y|      U|       U|       U|       Y|   1504|    1000003|\n",
       "|    38.0|     7.5|       38.0|    0.0|        0.0|        0.0|        0.0|        0.0|      0.0|      -1.5|       0.0|          0.0|          0.0|          0.0|          0.0|          0.0|          0.0|  3.666666667|          0.0|  1.333333333|          0.0|  3.666666667|          0.0|          0.0|          0.0|        0.0|  1.333333333|          0.0|         8.41|          0.0|  0.413333333|    0.333333333|    0.256666667|            0.0|            0.0|  1.333333333|          0.0|         3.38|          0.0| 3.666666667|         0.0|         5.45|          0.0|          0.0| 3.666666667|  3.666666667|          0.0|          0.0|    0|    60|       1|       1|       Y|       B|       N|    1502|     3065.0| 2000.9|1941.81|  3035.0|  1479| 40.45|  63.23| 30.81|      8|      3|     38|     50|     25|     40|               T|        CHICAGO AREA|       N|         N|29.98999023|     1|     1|        NA|    0|  0|   null|  6|       M|      M|     4|       M|     6|       1|       C|       D|       0|     U|     Y|     U|      U|       U|       U|       Y|   1812|    1000004|\n",
       "|   55.23|   570.5|      71.98|    0.0|        0.0|        0.0|        0.0|        0.0|      0.0|      38.5|       0.0|  9.666666667|          0.0|  0.666666667|          0.0|         77.0|          0.0|  222.3333333|          0.0|  94.66666667|          0.0|        137.0|          0.0|  8.666666667|         15.0|11.07666667|         66.0|          0.0|  285.2333333|          0.0|       106.33|    14.66666667|    10.81666667|    0.666666667|    0.366666667|  97.33333333|          0.0|  173.4766667|          0.0| 90.33333333|         0.0|  218.0866667|          0.0|  10.33333333| 222.3333333|        137.0|          0.0|          0.0|    0|    57|       1|       1|       Y|       A|       N|    4485|    14028.0|2181.12|2166.48| 13965.0|  4452| 38.69| 249.38|  79.5|    558|    191|     55|    586|    196|     80|               U|    NEW ENGLAND AREA|       Y|         N|149.9899902|     6|     4|      WCMB|    0|  0|      R|  5|       M|      S|     1|       M|     6|       1|       C|       O|       0|     I|     U|     U|      U|       U|       U|       Y|    434|    1000005|\n",
       "|  82.275| 1312.25|       75.0| 1.2375|        0.0|        0.0|        0.0|        0.0|      0.0|    156.75|     8.145|         52.0|          0.0|  7.666666667|          0.0|         76.0|          0.0|        702.0|          0.0|        365.0|          0.0|  577.3333333|          0.0|  4.333333333|         11.0|7.753333333|  301.6666667|  1.333333333|  369.5366667|          0.0|       200.32|    370.3333333|    243.2133333|          147.0|    85.14666667|  555.6666667|          0.0|  382.0966667|          0.0| 303.6666667|         0.0|       187.76|          0.0|  59.66666667|       702.0|  577.3333333|          0.0|  22.66666667|    0|    59|       2|       2|       Y|       C|       N|   26812|    40869.0|4033.98| 3932.9| 40295.0| 26362| 83.68| 857.34|560.89|   1260|    960|     80|   1187|    853|     78|               U|    GREAT LAKES AREA|       N|         N|129.9899902|     9|     4|      WCMB|    0|  0|      O|  1|    null|      S|     1|       M|     6|       1|       C|    null|       0|     U|     U|     U|      U|       U|       U|       Y|    458|    1000006|\n",
       "|  17.145|     0.0|      16.99|    0.0|        0.0|        0.0|        0.0|        0.0|      0.0|       0.0|    -0.155|          0.0|          0.0|          0.0|          0.0|          0.0|          0.0|          0.0|          0.0|          0.0|          0.0|          0.0|          0.0|          0.0|          0.0|        0.0|          0.0|          0.0|          0.0|          0.0|          0.0|            0.0|            0.0|            0.0|            0.0|          0.0|          0.0|          0.0|          0.0|         0.0|         0.0|          0.0|          0.0|          0.0|         0.0|          0.0|          0.0|          0.0|    1|    53|       2|       2|       N|       A|       N|    6279|17390.03333| 3091.7|3065.24|17371.03|  6271| 58.95| 334.06| 120.6|      0|      0|     17|      0|      0|     17|               C|         DALLAS AREA|       Y|         N|29.98999023|     4|     3|        NA|    0|  0|      O|  8|       S|      M|     3|       M|     9|    null|       I|       A|       0|     N|     U|     U|      U|       U|       U|       Y|    852|    1000007|\n",
       "| 38.0525|   682.5|      52.49| 0.2475|        0.0|        0.0|        0.0|        0.0|      0.0|     147.5|   -3.0625|          9.0|          0.0|  1.666666667|          0.0|         13.0|          0.0|         97.0|          0.0|         13.0|          0.0|  73.33333333|          0.0|  0.666666667|  5.333333333|5.276666667|          5.0|          0.0|  470.0233333|          0.0|  42.19666667|    6.666666667|           6.23|            0.0|            0.0|  33.33333333|          0.0|  81.06666667|          0.0|        53.0|         0.0|  431.1533333|          0.0|  10.66666667|        97.0|  73.33333333|          0.0|  0.666666667|    0|    53|       1|       1|       Y|       B|       N|    4491|    12492.0|1427.71|1423.06| 12439.0|  4470| 34.71| 303.39|109.02|    633|     96|     39|    719|    112|     58|            null|         DALLAS AREA|       Y|         N|79.98999023|     3|     2|      WCMB|    0|  0|      R|  0|       S|      M|     2|       M|     1|       2|       C|       A|       1|     S|     U|     U|      U|       U|       U|       Y|    231|    1000008|\n",
       "| 97.3375|  1039.0|       50.0|   4.95|      419.5|      41.95|      41.95|        0.0|      0.0|     198.0|   23.2625|  12.66666667|          0.0|          3.0|          0.0|        176.0|          0.0|  533.6666667|          0.0|         96.0|          0.0|  346.6666667|          0.0|  11.33333333|  13.66666667|       6.25|         45.0|  0.333333333|       460.92|          0.0|  213.8533333|    103.3333333|    54.71333333|    0.333333333|    0.056666667|  238.3333333|          0.0|  377.4533333|          0.0| 192.3333333|         0.0|       297.32|          0.0|  15.66666667| 533.6666667|  346.6666667|          0.0|          4.0|    0|    55|       1|       1|       Y|       B|       N|   16730|43231.05333|4404.44|4313.71|42943.05| 16579| 81.39| 810.25|312.81|    973|    465|     90|    915|    434|     90|               S|        CHICAGO AREA|       Y|         N|29.98999023|     3|     3|        NA|    0|  0|   null|  3|       M|      M|     3|       M|     4|       1|       C|       E|       0|     F|     U|     U|      U|       U|       U|       N|    700|    1000009|\n",
       "| 31.6625|    25.5|      29.99| 0.2475|        0.0|        0.0|        0.0|        0.0|      0.0|      59.5|    4.0275|          0.0|          0.0|          1.0|          0.0|  2.333333333|          0.0|  6.666666667|          0.0|          0.0|          0.0|  3.333333333|          0.0|          0.0|          0.0|        0.0|          0.0|          0.0|          3.8|          0.0|          0.0|            0.0|            0.0|            0.0|            0.0|  1.666666667|          0.0|  1.866666667|          0.0| 1.666666667|         0.0|  1.933333333|          0.0|          1.0| 6.666666667|  3.333333333|          0.0|          0.0|    0|    57|       2|       2|       N|       A|       N|     391|      994.0|1458.42|1457.84|   976.0|   377| 26.51|  17.75|  6.85|      6|      3|     30|     54|      7|     34|               C|         DALLAS AREA|       Y|         N|79.98999023|     2|     2|      WCMB|    0|  0|      O|  8|       S|      M|     2|       M|     9|       2|       I|       A|       1|     N|     U|     U|      U|       U|       U|       Y|    601|    1000010|\n",
       "| 62.1275|    97.5|     65.985|  2.475|        0.0|        0.0|        0.0|        0.0|      0.0|      23.5|    6.8225|          0.0|          0.0|  0.333333333|          0.0|          4.0|          0.0|  19.33333333|  0.333333333|          0.0|          0.0|         15.0|  0.333333333|          4.0|  98.66666667|      96.92|          0.0|          0.0|  136.4933333|  0.056666667|          0.0|    3.666666667|    15.36666667|            0.0|            0.0|  7.666666667|  0.333333333|  66.07333333|  0.056666667| 7.333333333|         0.0|        70.42|          0.0|  0.333333333| 19.66666667|  15.33333333|          0.0|          0.0|    0|    59|       2|       2|       Y|       A|       N|    2392|    6868.11|3290.73|3195.01| 6620.11|  2312| 56.05| 116.14| 40.56|     90|     16|     60|    123|     32|     64|               C|         DALLAS AREA|       Y|         N|79.98999023|     3|     3|      WCMB|    0|  0|      O| 15|       S|      S|     5|       M|     6|    null|       C|       A|       0|     N|     Y|     U|      U|       U|       U|       Y|    464|    1000011|\n",
       "|  35.295|   24.25|      34.98|    0.0|        0.0|        0.0|        0.0|        0.0|      0.0|     19.75|    -0.315|          0.0|          0.0|          0.0|          0.0|          1.0|          0.0|          9.0|          0.0|          3.0|          0.0|          8.0|          0.0|          0.0|          0.0|        0.0|  2.333333333|          0.0|  5.533333333|          0.0|  2.386666667|            4.0|    2.926666667|    1.666666667|    1.516666667|  9.333333333|          0.0|         7.17|          0.0| 1.666666667|         0.0|         0.75|          0.0|          0.0|         9.0|          8.0|          0.0|          0.0|    0|    53|       3|       3|       Y|       A|       N|    3207|5579.136667|3104.16|2796.06| 5358.14|  3087| 54.82| 105.06| 60.53|     18|     13|     36|     36|     26|     36|               C|CENTRAL/SOUTH TEX...|       N|         N|79.98999023|     4|     3|        WC|    0|  0|      O|  4|       S|      A|     3|       M|     9|    null|    null|       A|       0|     N|     U|     U|      Y|       Y|       U|       Y|    544|    1000012|\n",
       "|    81.0| 1056.25|       75.0|    0.0|        0.0|        0.0|        0.0|        0.0|      0.0|     42.75|      2.35|          0.0|          0.0|          0.0|          0.0|          0.0|          0.0|          0.0|          0.0|          0.0|          0.0|          0.0|          0.0|          0.0|          0.0|        0.0|          0.0|          0.0|          0.0|          0.0|          0.0|            0.0|            0.0|            0.0|            0.0|          0.0|          0.0|          0.0|          0.0|         0.0|         0.0|          0.0|          0.0|          0.0|         0.0|          0.0|          0.0|          0.0|    0|    55|       1|       1|       Y|      BA|       N|   31584|   51857.07|4270.87|4181.91|51553.07| 31397|  78.9|  972.7| 592.4|   1042|    625|     80|    999|    625|     76|               U|    GREAT LAKES AREA|       Y|         N|199.9899902|     9|     5|      WCMB|    0|  0|      O| 15|       S|      S|     3|       M|     5|    null|       B|       A|       0|     J|     U|     U|      U|       U|       U|       Y|    388|    1000013|\n",
       "|  25.225|     2.5|       25.0|    0.0|        0.0|        0.0|        0.0|        0.0|      0.0|      -2.5|    -0.225|          0.0|          0.0|          0.0|          0.0|  0.333333333|          0.0|  1.333333333|          0.0|  0.333333333|          0.0|          1.0|          0.0|          0.0|          0.0|        0.0|          0.0|          0.0|  1.306666667|          0.0|  1.133333333|    0.333333333|    0.023333333|            0.0|            0.0|  0.666666667|          0.0|          2.2|          0.0| 0.666666667|         0.0|         0.24|          0.0|          0.0| 1.333333333|          1.0|          0.0|          0.0|    0|    53|       2|       2|       Y|       A|       N|     400|      642.0|1370.94|1323.62|   613.0|   385| 25.95|  12.02|  7.55|      3|      2|     25|      4|      3|     25|               C|CENTRAL/SOUTH TEX...|       Y|         N|59.98999023|     2|     2|      WCMB|    1|  0|   null|  1|       S|      U|     1|       M|     7|    null|       A|       A|       0|     N|     U|     U|      U|       U|       U|       N|    354|    1000014|\n",
       "| 212.515|  1971.5|      84.99| 2.2275|      249.5|       99.8|       99.8|        0.0|  35.4975|    -200.5|  -106.765|          9.0|          0.0|          0.0|          0.0|  43.66666667|          0.0|  344.6666667|          0.0|  271.3333333|          0.0|        296.0|          0.0|  0.333333333|  3.333333333|3.316666667|  126.3333333|          0.0|  581.2966667|          0.0|       718.07|    49.33333333|    35.16333333|    4.666666667|    9.263333333|  351.6666667|          0.0|  864.1733333|          0.0| 128.6666667|         0.0|  435.1933333|          0.0|          9.0| 344.6666667|        296.0|          0.0|          1.0|    0|    59|       5|       1|       Y|       C|       N|   33184|69161.08333|6616.72| 6572.7|69104.08| 33139|115.31|1212.35|581.39|   2038|    637|    248|   1817|    576|    182|               S|NORTHWEST/ROCKY M...|       Y|         N|149.9899902|    10|     6|      WCMB|    0|  0|      O| 11|       S|      S|     3|       M|     3|       2|       I|       A|       0|     N|     U|     U|      Y|       U|       U|       Y|    199|    1000015|\n",
       "|  42.565|   270.5|      37.48| 0.2475|        6.0|        1.5|        1.5|        0.0|      0.0|     201.5|    -1.785|  3.333333333|          0.0|  1.666666667|          0.0|  7.666666667|          0.0|  67.66666667|          0.0|  25.33333333|          0.0|  55.33333333|          0.0|          1.0|  1.666666667|1.026666667|  11.66666667|          0.0|  117.8466667|          0.0|  57.09333333|           11.0|          10.81|    3.666666667|            4.0|  62.33333333|          0.0|  136.7966667|          0.0|        18.0|         0.0|  38.14333333|          0.0|          5.0| 67.66666667|  55.33333333|          0.0|  0.333333333|    0|    55|       2|       2|       N|       B|       N|    7586|   15226.03|2311.08|2303.38|15180.03|  7560| 43.46| 286.42|142.64|    203|    106|     43|    222|    115|     41|               S|         DALLAS AREA|       Y|         N|79.98999023|     5|     4|      WCMB|    0|  0|      O|  4|       M|      U|     3|       M|     1|    null|    null|    null|       0|     N|     U|     Y|      U|       U|       U|       Y|    697|    1000016|\n",
       "| 63.0175|  440.25|      59.98|    0.0|       5.75|      1.725|      1.725|        0.0|   1.3125|    -16.25|    0.2125|          5.0|          0.0|          0.0|          0.0|  17.33333333|          0.0|  138.3333333|          0.0|         53.0|          0.0|        118.0|          0.0|  3.666666667|  10.66666667|       8.27|         22.0|  0.333333333|  225.0533333|          0.0|  93.87666667|            0.0|            0.0|            0.0|            0.0|  141.3333333|          0.0|       268.56|          0.0| 14.33333333|         0.0|        50.37|          0.0|          5.0| 138.3333333|        118.0|          0.0|  1.666666667|    0|    57|       1|       1|       N|       B|       N|    4078|    11330.0|1739.43|1722.98| 11316.0|  4067| 50.68| 332.82|119.62|    446|    193|     63|    429|    183|     64|               T|NORTHWEST/ROCKY M...|       N|         N|29.98999023|     3|     2|      WCMB|    0|  0|      O|  3|       S|      U|     2|       M|     3|       1|       C|       A|       0|     N|     U|     U|      U|       U|       U|       Y|    530|    1000017|\n",
       "|   35.59|   153.0|      29.99|    0.0|       16.0|        5.6|        5.6|        0.0|      0.0|      30.0|      7.35|          2.0|          0.0|  0.666666667|          0.0|  17.33333333|          0.0|         53.0|          0.0|         26.0|          0.0|  33.33333333|          0.0|          0.0|          0.0|        0.0|  14.66666667|          0.0|  50.13333333|          0.0|  33.10666667|            8.0|    10.94666667|    4.666666667|    5.253333333|  48.33333333|          0.0|  77.15333333|          0.0|         7.0|         0.0|  6.086666667|          0.0|  2.666666667|        53.0|  33.33333333|          0.0|  0.333333333|    0|    59|       3|       2|       N|       A|       N|    7043|    12661.0|2036.85|2013.28| 12657.0|  7041| 36.61| 230.13|128.02|    143|     76|     33|    135|     73|     32|               U|NORTHWEST/ROCKY M...|       N|         N|79.98999023|     6|     5|        WC|    1|  1|      O|  7|       S|      S|     5|       M|     4|    null|       C|       A|       0|     N|     U|     U|      U|       U|       Y|       Y|     48|    1000018|\n",
       "|   55.27| 1212.75|      49.99| 0.7425|        0.0|        0.0|        0.0|        0.0|    1.285|    169.25|      0.99|  2.666666667|          0.0|          6.0|          0.0|  43.66666667|          0.0|        225.0|          0.0|  121.6666667|          0.0|  173.6666667|          0.0|  4.333333333|  9.666666667|        7.5|         43.0|          0.0|       456.98|          0.0|  490.1266667|    50.66666667|    50.00666667|    8.333333333|    18.40666667|  189.3333333|          0.0|  593.0866667|          0.0|       105.0|         0.0|       354.02|          0.0|  8.666666667|       225.0|  173.6666667|          0.0|  4.333333333|    0|    52|       1|       1|       N|       A|       N|    8468|    23835.0|1935.97|1914.23| 23524.0|  8378| 47.86|  588.1|209.45|   1156|    254|     55|   1031|    248|     55|               S|         DALLAS AREA|       Y|         N|29.98999023|     4|     4|        WC|    0|  0|      O| 10|       S|      B|     1|       M|     3|       1|       C|       A|       0|     N|     U|     U|      U|       U|       U|       Y|    408|    1000019|\n",
       "|  50.965|   162.0|      69.99|    0.0|        2.5|      0.975|        0.0|      0.975|      0.0|     -58.0|    -0.975|  1.666666667|          0.0|  0.333333333|          0.0|          9.0|          0.0|  60.66666667|  1.333333333|         14.0|          0.0|         50.0|  1.333333333|  0.333333333|  0.333333333|0.276666667|          7.0|          0.0|  65.24666667|  2.373333333|  38.37333333|    34.33333333|    17.40666667|    5.666666667|          11.69|  19.33333333|          0.0|  37.26666667|          0.0| 42.33333333| 1.333333333|  66.35333333|  2.373333333|          2.0|        62.0|  51.33333333|          0.0|          0.0|    0|    56|       1|       1|       Y|       B|       N|    1319|4531.016667|1348.33| 1276.0| 4504.02|  1306| 42.53| 150.13| 43.53|    181|     63|     51|    240|     62|     51|               U|        CHICAGO AREA|       Y|         N|129.9899902|     4|     3|      WCMB|    0|  0|      R| 15|       S|      S|     4|       M|     1|       2|       C|       A|       0|     S|     U|     U|      Y|       Y|       Y|       N|    253|    1000020|\n",
       "+--------+--------+-----------+-------+-----------+-----------+-----------+-----------+---------+----------+----------+-------------+-------------+-------------+-------------+-------------+-------------+-------------+-------------+-------------+-------------+-------------+-------------+-------------+-------------+-----------+-------------+-------------+-------------+-------------+-------------+---------------+---------------+---------------+---------------+-------------+-------------+-------------+-------------+------------+------------+-------------+-------------+-------------+------------+-------------+-------------+-------------+-----+------+--------+--------+--------+--------+--------+--------+-----------+-------+-------+--------+------+------+-------+------+-------+-------+-------+-------+-------+-------+----------------+--------------------+--------+----------+-----------+------+------+----------+-----+---+-------+---+--------+-------+------+--------+------+--------+--------+--------+--------+------+------+------+-------+--------+--------+--------+-------+-----------+\n",
       "only showing top 20 rows"
      ]
     },
     "execution_count": 7,
     "metadata": {},
     "output_type": "execute_result"
    }
   ],
   "source": [
    "sdf"
   ]
  },
  {
   "cell_type": "markdown",
   "metadata": {},
   "source": [
    "Obtaining the types of the column data"
   ]
  },
  {
   "cell_type": "code",
   "execution_count": 8,
   "metadata": {},
   "outputs": [
    {
     "data": {
      "text/plain": [
       "[('rev_Mean', 'double'),\n",
       " ('mou_Mean', 'double'),\n",
       " ('totmrc_Mean', 'double'),\n",
       " ('da_Mean', 'double'),\n",
       " ('ovrmou_Mean', 'double'),\n",
       " ('ovrrev_Mean', 'double'),\n",
       " ('vceovr_Mean', 'double'),\n",
       " ('datovr_Mean', 'double'),\n",
       " ('roam_Mean', 'double'),\n",
       " ('change_mou', 'double'),\n",
       " ('change_rev', 'double'),\n",
       " ('drop_vce_Mean', 'double'),\n",
       " ('drop_dat_Mean', 'double'),\n",
       " ('blck_vce_Mean', 'double'),\n",
       " ('blck_dat_Mean', 'double'),\n",
       " ('unan_vce_Mean', 'double'),\n",
       " ('unan_dat_Mean', 'double'),\n",
       " ('plcd_vce_Mean', 'double'),\n",
       " ('plcd_dat_Mean', 'double'),\n",
       " ('recv_vce_Mean', 'double'),\n",
       " ('recv_sms_Mean', 'double'),\n",
       " ('comp_vce_Mean', 'double'),\n",
       " ('comp_dat_Mean', 'double'),\n",
       " ('custcare_Mean', 'double'),\n",
       " ('ccrndmou_Mean', 'double'),\n",
       " ('cc_mou_Mean', 'double'),\n",
       " ('inonemin_Mean', 'double'),\n",
       " ('threeway_Mean', 'double'),\n",
       " ('mou_cvce_Mean', 'double'),\n",
       " ('mou_cdat_Mean', 'double'),\n",
       " ('mou_rvce_Mean', 'double'),\n",
       " ('owylis_vce_Mean', 'double'),\n",
       " ('mouowylisv_Mean', 'double'),\n",
       " ('iwylis_vce_Mean', 'double'),\n",
       " ('mouiwylisv_Mean', 'double'),\n",
       " ('peak_vce_Mean', 'double'),\n",
       " ('peak_dat_Mean', 'double'),\n",
       " ('mou_peav_Mean', 'double'),\n",
       " ('mou_pead_Mean', 'double'),\n",
       " ('opk_vce_Mean', 'double'),\n",
       " ('opk_dat_Mean', 'double'),\n",
       " ('mou_opkv_Mean', 'double'),\n",
       " ('mou_opkd_Mean', 'double'),\n",
       " ('drop_blk_Mean', 'double'),\n",
       " ('attempt_Mean', 'double'),\n",
       " ('complete_Mean', 'double'),\n",
       " ('callfwdv_Mean', 'double'),\n",
       " ('callwait_Mean', 'double'),\n",
       " ('churn', 'int'),\n",
       " ('months', 'int'),\n",
       " ('uniqsubs', 'int'),\n",
       " ('actvsubs', 'int'),\n",
       " ('new_cell', 'string'),\n",
       " ('crclscod', 'string'),\n",
       " ('asl_flag', 'string'),\n",
       " ('totcalls', 'int'),\n",
       " ('totmou', 'double'),\n",
       " ('totrev', 'double'),\n",
       " ('adjrev', 'double'),\n",
       " ('adjmou', 'double'),\n",
       " ('adjqty', 'int'),\n",
       " ('avgrev', 'double'),\n",
       " ('avgmou', 'double'),\n",
       " ('avgqty', 'double'),\n",
       " ('avg3mou', 'int'),\n",
       " ('avg3qty', 'int'),\n",
       " ('avg3rev', 'int'),\n",
       " ('avg6mou', 'int'),\n",
       " ('avg6qty', 'int'),\n",
       " ('avg6rev', 'int'),\n",
       " ('prizm_social_one', 'string'),\n",
       " ('area', 'string'),\n",
       " ('dualband', 'string'),\n",
       " ('refurb_new', 'string'),\n",
       " ('hnd_price', 'double'),\n",
       " ('phones', 'int'),\n",
       " ('models', 'int'),\n",
       " ('hnd_webcap', 'string'),\n",
       " ('truck', 'int'),\n",
       " ('rv', 'int'),\n",
       " ('ownrent', 'string'),\n",
       " ('lor', 'int'),\n",
       " ('dwlltype', 'string'),\n",
       " ('marital', 'string'),\n",
       " ('adults', 'int'),\n",
       " ('infobase', 'string'),\n",
       " ('income', 'int'),\n",
       " ('numbcars', 'int'),\n",
       " ('HHstatin', 'string'),\n",
       " ('dwllsize', 'string'),\n",
       " ('forgntvl', 'int'),\n",
       " ('ethnic', 'string'),\n",
       " ('kid0_2', 'string'),\n",
       " ('kid3_5', 'string'),\n",
       " ('kid6_10', 'string'),\n",
       " ('kid11_15', 'string'),\n",
       " ('kid16_17', 'string'),\n",
       " ('creditcd', 'string'),\n",
       " ('eqpdays', 'int'),\n",
       " ('Customer_ID', 'int')]"
      ]
     },
     "execution_count": 8,
     "metadata": {},
     "output_type": "execute_result"
    }
   ],
   "source": [
    "sdf.dtypes"
   ]
  },
  {
   "cell_type": "markdown",
   "metadata": {},
   "source": [
    "## Handling data\n"
   ]
  },
  {
   "cell_type": "code",
   "execution_count": 9,
   "metadata": {},
   "outputs": [],
   "source": [
    "from pyspark.sql import functions as sf"
   ]
  },
  {
   "cell_type": "markdown",
   "metadata": {},
   "source": [
    "Selecting the unique values of one column."
   ]
  },
  {
   "cell_type": "code",
   "execution_count": 10,
   "metadata": {},
   "outputs": [
    {
     "name": "stdout",
     "output_type": "stream",
     "text": [
      "277 ms ± 64.5 ms per loop (mean ± std. dev. of 7 runs, 1 loop each)\n"
     ]
    }
   ],
   "source": [
    "%%timeit\n",
    "[i.ethnic for i in sdf.select('ethnic').distinct().collect()]  # much faster"
   ]
  },
  {
   "cell_type": "code",
   "execution_count": 11,
   "metadata": {},
   "outputs": [
    {
     "name": "stdout",
     "output_type": "stream",
     "text": [
      "909 ms ± 153 ms per loop (mean ± std. dev. of 7 runs, 1 loop each)\n"
     ]
    }
   ],
   "source": [
    "%%timeit\n",
    "sdf.select('ethnic').distinct().rdd.map(lambda r: r[0]).collect()"
   ]
  },
  {
   "cell_type": "code",
   "execution_count": 12,
   "metadata": {},
   "outputs": [
    {
     "data": {
      "text/plain": [
       "[None, 'Y', 'N']"
      ]
     },
     "execution_count": 12,
     "metadata": {},
     "output_type": "execute_result"
    }
   ],
   "source": [
    "[i.creditcd for i in sdf.select('creditcd').distinct().collect()]"
   ]
  },
  {
   "cell_type": "code",
   "execution_count": 13,
   "metadata": {},
   "outputs": [
    {
     "data": {
      "text/plain": [
       "['MIDWEST AREA',\n",
       " 'LOS ANGELES AREA',\n",
       " 'CENTRAL/SOUTH TEXAS AREA',\n",
       " 'NEW YORK CITY AREA',\n",
       " 'SOUTH FLORIDA AREA',\n",
       " 'PHILADELPHIA AREA',\n",
       " 'CALIFORNIA NORTH AREA',\n",
       " None,\n",
       " 'CHICAGO AREA',\n",
       " 'OHIO AREA',\n",
       " 'DALLAS AREA',\n",
       " 'TENNESSEE AREA',\n",
       " 'NORTH FLORIDA AREA',\n",
       " 'GREAT LAKES AREA',\n",
       " 'ATLANTIC SOUTH AREA',\n",
       " 'NORTHWEST/ROCKY MOUNTAIN AREA',\n",
       " 'HOUSTON AREA',\n",
       " 'SOUTHWEST AREA',\n",
       " 'DC/MARYLAND/VIRGINIA AREA',\n",
       " 'NEW ENGLAND AREA']"
      ]
     },
     "execution_count": 13,
     "metadata": {},
     "output_type": "execute_result"
    }
   ],
   "source": [
    "[i.area for i in sdf.select('area').distinct().collect()]"
   ]
  },
  {
   "cell_type": "code",
   "execution_count": 14,
   "metadata": {},
   "outputs": [
    {
     "data": {
      "text/plain": [
       "[None, 1, 3, 2]"
      ]
     },
     "execution_count": 14,
     "metadata": {},
     "output_type": "execute_result"
    }
   ],
   "source": [
    "[i.numbcars for i in sdf.select('numbcars').distinct().collect()]"
   ]
  },
  {
   "cell_type": "markdown",
   "metadata": {},
   "source": [
    "In order to fill `None` values:"
   ]
  },
  {
   "cell_type": "code",
   "execution_count": 15,
   "metadata": {},
   "outputs": [],
   "source": [
    "sdf=sdf.fillna( { 'area':\"UNKNOWN\", 'creditcd':\"U\",'numbcars':0,\"dwllsize\":\"U\" ,\"HHstatin\":\"U\",\n",
    "                 \"ownrent\":\"U\",\"dwlltype\":\"U\" , \"income\":0, \"adults\":0,\"infobase\":\"U\"} )"
   ]
  },
  {
   "cell_type": "code",
   "execution_count": 16,
   "metadata": {},
   "outputs": [
    {
     "data": {
      "text/plain": [
       "[1, 3, 2, 0]"
      ]
     },
     "execution_count": 16,
     "metadata": {},
     "output_type": "execute_result"
    }
   ],
   "source": [
    "[i.numbcars for i in sdf.select('numbcars').distinct().collect()]"
   ]
  },
  {
   "cell_type": "code",
   "execution_count": 17,
   "metadata": {},
   "outputs": [
    {
     "data": {
      "text/plain": [
       "4"
      ]
     },
     "execution_count": 17,
     "metadata": {},
     "output_type": "execute_result"
    }
   ],
   "source": [
    "sdf.select('numbcars').distinct().count()"
   ]
  },
  {
   "cell_type": "code",
   "execution_count": 18,
   "metadata": {},
   "outputs": [
    {
     "data": {
      "text/html": [
       "<table border='1'>\n",
       "<tr><th>churn</th><th>count</th></tr>\n",
       "<tr><td>1</td><td>49562</td></tr>\n",
       "<tr><td>0</td><td>50438</td></tr>\n",
       "</table>\n"
      ],
      "text/plain": [
       "+-----+-----+\n",
       "|churn|count|\n",
       "+-----+-----+\n",
       "|    1|49562|\n",
       "|    0|50438|\n",
       "+-----+-----+"
      ]
     },
     "execution_count": 18,
     "metadata": {},
     "output_type": "execute_result"
    }
   ],
   "source": [
    "sdf.select('*').groupBy(\"churn\").count()"
   ]
  },
  {
   "cell_type": "code",
   "execution_count": 19,
   "metadata": {},
   "outputs": [
    {
     "data": {
      "text/html": [
       "<table border='1'>\n",
       "<tr><th>area</th><th>count</th></tr>\n",
       "<tr><td>NEW YORK CITY AREA</td><td>11098</td></tr>\n",
       "<tr><td>LOS ANGELES AREA</td><td>6636</td></tr>\n",
       "<tr><td>DC/MARYLAND/VIRGI...</td><td>6567</td></tr>\n",
       "<tr><td>MIDWEST AREA</td><td>6346</td></tr>\n",
       "<tr><td>SOUTHWEST AREA</td><td>6187</td></tr>\n",
       "<tr><td>ATLANTIC SOUTH AREA</td><td>6132</td></tr>\n",
       "<tr><td>CALIFORNIA NORTH ...</td><td>5913</td></tr>\n",
       "<tr><td>NEW ENGLAND AREA</td><td>5452</td></tr>\n",
       "<tr><td>DALLAS AREA</td><td>5426</td></tr>\n",
       "<tr><td>CHICAGO AREA</td><td>5141</td></tr>\n",
       "<tr><td>GREAT LAKES AREA</td><td>4649</td></tr>\n",
       "<tr><td>OHIO AREA</td><td>4580</td></tr>\n",
       "<tr><td>NORTH FLORIDA AREA</td><td>4350</td></tr>\n",
       "<tr><td>HOUSTON AREA</td><td>4341</td></tr>\n",
       "<tr><td>NORTHWEST/ROCKY M...</td><td>4328</td></tr>\n",
       "<tr><td>CENTRAL/SOUTH TEX...</td><td>4299</td></tr>\n",
       "<tr><td>SOUTH FLORIDA AREA</td><td>3332</td></tr>\n",
       "<tr><td>TENNESSEE AREA</td><td>2737</td></tr>\n",
       "<tr><td>PHILADELPHIA AREA</td><td>2446</td></tr>\n",
       "<tr><td>UNKNOWN</td><td>40</td></tr>\n",
       "</table>\n"
      ],
      "text/plain": [
       "+--------------------+-----+\n",
       "|                area|count|\n",
       "+--------------------+-----+\n",
       "|  NEW YORK CITY AREA|11098|\n",
       "|    LOS ANGELES AREA| 6636|\n",
       "|DC/MARYLAND/VIRGI...| 6567|\n",
       "|        MIDWEST AREA| 6346|\n",
       "|      SOUTHWEST AREA| 6187|\n",
       "| ATLANTIC SOUTH AREA| 6132|\n",
       "|CALIFORNIA NORTH ...| 5913|\n",
       "|    NEW ENGLAND AREA| 5452|\n",
       "|         DALLAS AREA| 5426|\n",
       "|        CHICAGO AREA| 5141|\n",
       "|    GREAT LAKES AREA| 4649|\n",
       "|           OHIO AREA| 4580|\n",
       "|  NORTH FLORIDA AREA| 4350|\n",
       "|        HOUSTON AREA| 4341|\n",
       "|NORTHWEST/ROCKY M...| 4328|\n",
       "|CENTRAL/SOUTH TEX...| 4299|\n",
       "|  SOUTH FLORIDA AREA| 3332|\n",
       "|      TENNESSEE AREA| 2737|\n",
       "|   PHILADELPHIA AREA| 2446|\n",
       "|             UNKNOWN|   40|\n",
       "+--------------------+-----+"
      ]
     },
     "execution_count": 19,
     "metadata": {},
     "output_type": "execute_result"
    }
   ],
   "source": [
    "sdf.select('*').groupBy(\"area\").count().orderBy('count', ascending=False)"
   ]
  },
  {
   "cell_type": "code",
   "execution_count": null,
   "metadata": {},
   "outputs": [],
   "source": []
  },
  {
   "cell_type": "code",
   "execution_count": null,
   "metadata": {},
   "outputs": [],
   "source": []
  },
  {
   "cell_type": "code",
   "execution_count": null,
   "metadata": {},
   "outputs": [],
   "source": []
  },
  {
   "cell_type": "markdown",
   "metadata": {},
   "source": [
    "Count null values in columns"
   ]
  },
  {
   "cell_type": "code",
   "execution_count": 20,
   "metadata": {},
   "outputs": [],
   "source": [
    "from pyspark.sql.functions import isnan, when, count, col"
   ]
  },
  {
   "cell_type": "code",
   "execution_count": 21,
   "metadata": {},
   "outputs": [
    {
     "data": {
      "text/html": [
       "<table border='1'>\n",
       "<tr><th>rev_Mean</th><th>mou_Mean</th><th>totmrc_Mean</th><th>da_Mean</th><th>ovrmou_Mean</th><th>ovrrev_Mean</th><th>vceovr_Mean</th><th>datovr_Mean</th><th>roam_Mean</th><th>change_mou</th><th>change_rev</th><th>drop_vce_Mean</th><th>drop_dat_Mean</th><th>blck_vce_Mean</th><th>blck_dat_Mean</th><th>unan_vce_Mean</th><th>unan_dat_Mean</th><th>plcd_vce_Mean</th><th>plcd_dat_Mean</th><th>recv_vce_Mean</th><th>recv_sms_Mean</th><th>comp_vce_Mean</th><th>comp_dat_Mean</th><th>custcare_Mean</th><th>ccrndmou_Mean</th><th>cc_mou_Mean</th><th>inonemin_Mean</th><th>threeway_Mean</th><th>mou_cvce_Mean</th><th>mou_cdat_Mean</th><th>mou_rvce_Mean</th><th>owylis_vce_Mean</th><th>mouowylisv_Mean</th><th>iwylis_vce_Mean</th><th>mouiwylisv_Mean</th><th>peak_vce_Mean</th><th>peak_dat_Mean</th><th>mou_peav_Mean</th><th>mou_pead_Mean</th><th>opk_vce_Mean</th><th>opk_dat_Mean</th><th>mou_opkv_Mean</th><th>mou_opkd_Mean</th><th>drop_blk_Mean</th><th>attempt_Mean</th><th>complete_Mean</th><th>callfwdv_Mean</th><th>callwait_Mean</th><th>churn</th><th>months</th><th>uniqsubs</th><th>actvsubs</th><th>new_cell</th><th>crclscod</th><th>asl_flag</th><th>totcalls</th><th>totmou</th><th>totrev</th><th>adjrev</th><th>adjmou</th><th>adjqty</th><th>avgrev</th><th>avgmou</th><th>avgqty</th><th>avg3mou</th><th>avg3qty</th><th>avg3rev</th><th>avg6mou</th><th>avg6qty</th><th>avg6rev</th><th>prizm_social_one</th><th>area</th><th>dualband</th><th>refurb_new</th><th>hnd_price</th><th>phones</th><th>models</th><th>hnd_webcap</th><th>truck</th><th>rv</th><th>ownrent</th><th>lor</th><th>dwlltype</th><th>marital</th><th>adults</th><th>infobase</th><th>income</th><th>numbcars</th><th>HHstatin</th><th>dwllsize</th><th>forgntvl</th><th>ethnic</th><th>kid0_2</th><th>kid3_5</th><th>kid6_10</th><th>kid11_15</th><th>kid16_17</th><th>creditcd</th><th>eqpdays</th><th>Customer_ID</th></tr>\n",
       "<tr><td>0</td><td>0</td><td>0</td><td>0</td><td>0</td><td>0</td><td>0</td><td>0</td><td>0</td><td>0</td><td>0</td><td>0</td><td>0</td><td>0</td><td>0</td><td>0</td><td>0</td><td>0</td><td>0</td><td>0</td><td>0</td><td>0</td><td>0</td><td>0</td><td>0</td><td>0</td><td>0</td><td>0</td><td>0</td><td>0</td><td>0</td><td>0</td><td>0</td><td>0</td><td>0</td><td>0</td><td>0</td><td>0</td><td>0</td><td>0</td><td>0</td><td>0</td><td>0</td><td>0</td><td>0</td><td>0</td><td>0</td><td>0</td><td>0</td><td>0</td><td>0</td><td>0</td><td>0</td><td>0</td><td>0</td><td>0</td><td>0</td><td>0</td><td>0</td><td>0</td><td>0</td><td>0</td><td>0</td><td>0</td><td>0</td><td>0</td><td>0</td><td>0</td><td>0</td><td>0</td><td>0</td><td>0</td><td>0</td><td>0</td><td>0</td><td>0</td><td>0</td><td>0</td><td>0</td><td>0</td><td>0</td><td>0</td><td>0</td><td>0</td><td>0</td><td>0</td><td>0</td><td>0</td><td>0</td><td>0</td><td>0</td><td>0</td><td>0</td><td>0</td><td>0</td><td>0</td><td>0</td><td>0</td><td>0</td><td>0</td></tr>\n",
       "</table>\n"
      ],
      "text/plain": [
       "+--------+--------+-----------+-------+-----------+-----------+-----------+-----------+---------+----------+----------+-------------+-------------+-------------+-------------+-------------+-------------+-------------+-------------+-------------+-------------+-------------+-------------+-------------+-------------+-----------+-------------+-------------+-------------+-------------+-------------+---------------+---------------+---------------+---------------+-------------+-------------+-------------+-------------+------------+------------+-------------+-------------+-------------+------------+-------------+-------------+-------------+-----+------+--------+--------+--------+--------+--------+--------+------+------+------+------+------+------+------+------+-------+-------+-------+-------+-------+-------+----------------+----+--------+----------+---------+------+------+----------+-----+---+-------+---+--------+-------+------+--------+------+--------+--------+--------+--------+------+------+------+-------+--------+--------+--------+-------+-----------+\n",
       "|rev_Mean|mou_Mean|totmrc_Mean|da_Mean|ovrmou_Mean|ovrrev_Mean|vceovr_Mean|datovr_Mean|roam_Mean|change_mou|change_rev|drop_vce_Mean|drop_dat_Mean|blck_vce_Mean|blck_dat_Mean|unan_vce_Mean|unan_dat_Mean|plcd_vce_Mean|plcd_dat_Mean|recv_vce_Mean|recv_sms_Mean|comp_vce_Mean|comp_dat_Mean|custcare_Mean|ccrndmou_Mean|cc_mou_Mean|inonemin_Mean|threeway_Mean|mou_cvce_Mean|mou_cdat_Mean|mou_rvce_Mean|owylis_vce_Mean|mouowylisv_Mean|iwylis_vce_Mean|mouiwylisv_Mean|peak_vce_Mean|peak_dat_Mean|mou_peav_Mean|mou_pead_Mean|opk_vce_Mean|opk_dat_Mean|mou_opkv_Mean|mou_opkd_Mean|drop_blk_Mean|attempt_Mean|complete_Mean|callfwdv_Mean|callwait_Mean|churn|months|uniqsubs|actvsubs|new_cell|crclscod|asl_flag|totcalls|totmou|totrev|adjrev|adjmou|adjqty|avgrev|avgmou|avgqty|avg3mou|avg3qty|avg3rev|avg6mou|avg6qty|avg6rev|prizm_social_one|area|dualband|refurb_new|hnd_price|phones|models|hnd_webcap|truck| rv|ownrent|lor|dwlltype|marital|adults|infobase|income|numbcars|HHstatin|dwllsize|forgntvl|ethnic|kid0_2|kid3_5|kid6_10|kid11_15|kid16_17|creditcd|eqpdays|Customer_ID|\n",
       "+--------+--------+-----------+-------+-----------+-----------+-----------+-----------+---------+----------+----------+-------------+-------------+-------------+-------------+-------------+-------------+-------------+-------------+-------------+-------------+-------------+-------------+-------------+-------------+-----------+-------------+-------------+-------------+-------------+-------------+---------------+---------------+---------------+---------------+-------------+-------------+-------------+-------------+------------+------------+-------------+-------------+-------------+------------+-------------+-------------+-------------+-----+------+--------+--------+--------+--------+--------+--------+------+------+------+------+------+------+------+------+-------+-------+-------+-------+-------+-------+----------------+----+--------+----------+---------+------+------+----------+-----+---+-------+---+--------+-------+------+--------+------+--------+--------+--------+--------+------+------+------+-------+--------+--------+--------+-------+-----------+\n",
       "|       0|       0|          0|      0|          0|          0|          0|          0|        0|         0|         0|            0|            0|            0|            0|            0|            0|            0|            0|            0|            0|            0|            0|            0|            0|          0|            0|            0|            0|            0|            0|              0|              0|              0|              0|            0|            0|            0|            0|           0|           0|            0|            0|            0|           0|            0|            0|            0|    0|     0|       0|       0|       0|       0|       0|       0|     0|     0|     0|     0|     0|     0|     0|     0|      0|      0|      0|      0|      0|      0|               0|   0|       0|         0|        0|     0|     0|         0|    0|  0|      0|  0|       0|      0|     0|       0|     0|       0|       0|       0|       0|     0|     0|     0|      0|       0|       0|       0|      0|          0|\n",
       "+--------+--------+-----------+-------+-----------+-----------+-----------+-----------+---------+----------+----------+-------------+-------------+-------------+-------------+-------------+-------------+-------------+-------------+-------------+-------------+-------------+-------------+-------------+-------------+-----------+-------------+-------------+-------------+-------------+-------------+---------------+---------------+---------------+---------------+-------------+-------------+-------------+-------------+------------+------------+-------------+-------------+-------------+------------+-------------+-------------+-------------+-----+------+--------+--------+--------+--------+--------+--------+------+------+------+------+------+------+------+------+-------+-------+-------+-------+-------+-------+----------------+----+--------+----------+---------+------+------+----------+-----+---+-------+---+--------+-------+------+--------+------+--------+--------+--------+--------+------+------+------+-------+--------+--------+--------+-------+-----------+"
      ]
     },
     "execution_count": 21,
     "metadata": {},
     "output_type": "execute_result"
    }
   ],
   "source": [
    "sdf.select([count(when(isnan(c), c)).alias(c) for c in sdf.columns])"
   ]
  },
  {
   "cell_type": "code",
   "execution_count": 22,
   "metadata": {},
   "outputs": [],
   "source": [
    "df=sdf.select([count(when(isnan(c) | col(c).isNull(), c)).alias(c) for c in sdf.columns]).toPandas()"
   ]
  },
  {
   "cell_type": "code",
   "execution_count": 23,
   "metadata": {},
   "outputs": [
    {
     "data": {
      "text/html": [
       "<div>\n",
       "<style scoped>\n",
       "    .dataframe tbody tr th:only-of-type {\n",
       "        vertical-align: middle;\n",
       "    }\n",
       "\n",
       "    .dataframe tbody tr th {\n",
       "        vertical-align: top;\n",
       "    }\n",
       "\n",
       "    .dataframe thead th {\n",
       "        text-align: right;\n",
       "    }\n",
       "</style>\n",
       "<table border=\"1\" class=\"dataframe\">\n",
       "  <thead>\n",
       "    <tr style=\"text-align: right;\">\n",
       "      <th></th>\n",
       "      <th>rev_Mean</th>\n",
       "      <th>mou_Mean</th>\n",
       "      <th>totmrc_Mean</th>\n",
       "      <th>da_Mean</th>\n",
       "      <th>ovrmou_Mean</th>\n",
       "      <th>ovrrev_Mean</th>\n",
       "      <th>vceovr_Mean</th>\n",
       "      <th>datovr_Mean</th>\n",
       "      <th>roam_Mean</th>\n",
       "      <th>change_mou</th>\n",
       "      <th>...</th>\n",
       "      <th>forgntvl</th>\n",
       "      <th>ethnic</th>\n",
       "      <th>kid0_2</th>\n",
       "      <th>kid3_5</th>\n",
       "      <th>kid6_10</th>\n",
       "      <th>kid11_15</th>\n",
       "      <th>kid16_17</th>\n",
       "      <th>creditcd</th>\n",
       "      <th>eqpdays</th>\n",
       "      <th>Customer_ID</th>\n",
       "    </tr>\n",
       "  </thead>\n",
       "  <tbody>\n",
       "    <tr>\n",
       "      <th>0</th>\n",
       "      <td>357</td>\n",
       "      <td>357</td>\n",
       "      <td>357</td>\n",
       "      <td>357</td>\n",
       "      <td>357</td>\n",
       "      <td>357</td>\n",
       "      <td>357</td>\n",
       "      <td>357</td>\n",
       "      <td>357</td>\n",
       "      <td>891</td>\n",
       "      <td>...</td>\n",
       "      <td>1732</td>\n",
       "      <td>1732</td>\n",
       "      <td>1732</td>\n",
       "      <td>1732</td>\n",
       "      <td>1732</td>\n",
       "      <td>1732</td>\n",
       "      <td>1732</td>\n",
       "      <td>0</td>\n",
       "      <td>1</td>\n",
       "      <td>0</td>\n",
       "    </tr>\n",
       "  </tbody>\n",
       "</table>\n",
       "<p>1 rows × 100 columns</p>\n",
       "</div>"
      ],
      "text/plain": [
       "   rev_Mean  mou_Mean  totmrc_Mean  da_Mean  ovrmou_Mean  ovrrev_Mean  \\\n",
       "0       357       357          357      357          357          357   \n",
       "\n",
       "   vceovr_Mean  datovr_Mean  roam_Mean  change_mou  ...  forgntvl  ethnic  \\\n",
       "0          357          357        357         891  ...      1732    1732   \n",
       "\n",
       "   kid0_2  kid3_5  kid6_10  kid11_15  kid16_17  creditcd  eqpdays  Customer_ID  \n",
       "0    1732    1732     1732      1732      1732         0        1            0  \n",
       "\n",
       "[1 rows x 100 columns]"
      ]
     },
     "execution_count": 23,
     "metadata": {},
     "output_type": "execute_result"
    }
   ],
   "source": [
    "df"
   ]
  },
  {
   "cell_type": "code",
   "execution_count": 24,
   "metadata": {},
   "outputs": [],
   "source": [
    "df1 = df.T"
   ]
  },
  {
   "cell_type": "code",
   "execution_count": 25,
   "metadata": {},
   "outputs": [],
   "source": [
    "df1=df1.sort_values(by=[0],ascending=False)"
   ]
  },
  {
   "cell_type": "code",
   "execution_count": 26,
   "metadata": {},
   "outputs": [
    {
     "data": {
      "text/html": [
       "<div>\n",
       "<style scoped>\n",
       "    .dataframe tbody tr th:only-of-type {\n",
       "        vertical-align: middle;\n",
       "    }\n",
       "\n",
       "    .dataframe tbody tr th {\n",
       "        vertical-align: top;\n",
       "    }\n",
       "\n",
       "    .dataframe thead th {\n",
       "        text-align: right;\n",
       "    }\n",
       "</style>\n",
       "<table border=\"1\" class=\"dataframe\">\n",
       "  <thead>\n",
       "    <tr style=\"text-align: right;\">\n",
       "      <th></th>\n",
       "      <th>0</th>\n",
       "    </tr>\n",
       "  </thead>\n",
       "  <tbody>\n",
       "    <tr>\n",
       "      <th>lor</th>\n",
       "      <td>30190</td>\n",
       "    </tr>\n",
       "    <tr>\n",
       "      <th>prizm_social_one</th>\n",
       "      <td>7388</td>\n",
       "    </tr>\n",
       "    <tr>\n",
       "      <th>avg6mou</th>\n",
       "      <td>2839</td>\n",
       "    </tr>\n",
       "    <tr>\n",
       "      <th>avg6qty</th>\n",
       "      <td>2839</td>\n",
       "    </tr>\n",
       "    <tr>\n",
       "      <th>avg6rev</th>\n",
       "      <td>2839</td>\n",
       "    </tr>\n",
       "    <tr>\n",
       "      <th>marital</th>\n",
       "      <td>1732</td>\n",
       "    </tr>\n",
       "    <tr>\n",
       "      <th>kid0_2</th>\n",
       "      <td>1732</td>\n",
       "    </tr>\n",
       "    <tr>\n",
       "      <th>kid3_5</th>\n",
       "      <td>1732</td>\n",
       "    </tr>\n",
       "    <tr>\n",
       "      <th>kid6_10</th>\n",
       "      <td>1732</td>\n",
       "    </tr>\n",
       "    <tr>\n",
       "      <th>kid11_15</th>\n",
       "      <td>1732</td>\n",
       "    </tr>\n",
       "    <tr>\n",
       "      <th>kid16_17</th>\n",
       "      <td>1732</td>\n",
       "    </tr>\n",
       "    <tr>\n",
       "      <th>ethnic</th>\n",
       "      <td>1732</td>\n",
       "    </tr>\n",
       "    <tr>\n",
       "      <th>forgntvl</th>\n",
       "      <td>1732</td>\n",
       "    </tr>\n",
       "    <tr>\n",
       "      <th>rv</th>\n",
       "      <td>1732</td>\n",
       "    </tr>\n",
       "    <tr>\n",
       "      <th>truck</th>\n",
       "      <td>1732</td>\n",
       "    </tr>\n",
       "    <tr>\n",
       "      <th>change_rev</th>\n",
       "      <td>891</td>\n",
       "    </tr>\n",
       "    <tr>\n",
       "      <th>change_mou</th>\n",
       "      <td>891</td>\n",
       "    </tr>\n",
       "    <tr>\n",
       "      <th>hnd_price</th>\n",
       "      <td>847</td>\n",
       "    </tr>\n",
       "    <tr>\n",
       "      <th>mou_Mean</th>\n",
       "      <td>357</td>\n",
       "    </tr>\n",
       "    <tr>\n",
       "      <th>rev_Mean</th>\n",
       "      <td>357</td>\n",
       "    </tr>\n",
       "    <tr>\n",
       "      <th>vceovr_Mean</th>\n",
       "      <td>357</td>\n",
       "    </tr>\n",
       "    <tr>\n",
       "      <th>totmrc_Mean</th>\n",
       "      <td>357</td>\n",
       "    </tr>\n",
       "    <tr>\n",
       "      <th>da_Mean</th>\n",
       "      <td>357</td>\n",
       "    </tr>\n",
       "    <tr>\n",
       "      <th>ovrmou_Mean</th>\n",
       "      <td>357</td>\n",
       "    </tr>\n",
       "    <tr>\n",
       "      <th>roam_Mean</th>\n",
       "      <td>357</td>\n",
       "    </tr>\n",
       "    <tr>\n",
       "      <th>datovr_Mean</th>\n",
       "      <td>357</td>\n",
       "    </tr>\n",
       "    <tr>\n",
       "      <th>ovrrev_Mean</th>\n",
       "      <td>357</td>\n",
       "    </tr>\n",
       "    <tr>\n",
       "      <th>phones</th>\n",
       "      <td>1</td>\n",
       "    </tr>\n",
       "    <tr>\n",
       "      <th>eqpdays</th>\n",
       "      <td>1</td>\n",
       "    </tr>\n",
       "    <tr>\n",
       "      <th>dualband</th>\n",
       "      <td>1</td>\n",
       "    </tr>\n",
       "  </tbody>\n",
       "</table>\n",
       "</div>"
      ],
      "text/plain": [
       "                      0\n",
       "lor               30190\n",
       "prizm_social_one   7388\n",
       "avg6mou            2839\n",
       "avg6qty            2839\n",
       "avg6rev            2839\n",
       "marital            1732\n",
       "kid0_2             1732\n",
       "kid3_5             1732\n",
       "kid6_10            1732\n",
       "kid11_15           1732\n",
       "kid16_17           1732\n",
       "ethnic             1732\n",
       "forgntvl           1732\n",
       "rv                 1732\n",
       "truck              1732\n",
       "change_rev          891\n",
       "change_mou          891\n",
       "hnd_price           847\n",
       "mou_Mean            357\n",
       "rev_Mean            357\n",
       "vceovr_Mean         357\n",
       "totmrc_Mean         357\n",
       "da_Mean             357\n",
       "ovrmou_Mean         357\n",
       "roam_Mean           357\n",
       "datovr_Mean         357\n",
       "ovrrev_Mean         357\n",
       "phones                1\n",
       "eqpdays               1\n",
       "dualband              1"
      ]
     },
     "execution_count": 26,
     "metadata": {},
     "output_type": "execute_result"
    }
   ],
   "source": [
    "df1.head(30)"
   ]
  },
  {
   "cell_type": "code",
   "execution_count": 27,
   "metadata": {},
   "outputs": [
    {
     "data": {
      "text/html": [
       "<table border='1'>\n",
       "<tr><th>prizm_social_one</th><th>count</th></tr>\n",
       "<tr><td>S</td><td>32097</td></tr>\n",
       "<tr><td>U</td><td>23613</td></tr>\n",
       "<tr><td>C</td><td>17018</td></tr>\n",
       "<tr><td>T</td><td>14989</td></tr>\n",
       "<tr><td>null</td><td>7388</td></tr>\n",
       "<tr><td>R</td><td>4895</td></tr>\n",
       "</table>\n"
      ],
      "text/plain": [
       "+----------------+-----+\n",
       "|prizm_social_one|count|\n",
       "+----------------+-----+\n",
       "|               S|32097|\n",
       "|               U|23613|\n",
       "|               C|17018|\n",
       "|               T|14989|\n",
       "|            null| 7388|\n",
       "|               R| 4895|\n",
       "+----------------+-----+"
      ]
     },
     "execution_count": 27,
     "metadata": {},
     "output_type": "execute_result"
    }
   ],
   "source": [
    "sdf.select('*').groupBy(\"prizm_social_one\").count().orderBy('count', ascending=False)"
   ]
  },
  {
   "cell_type": "markdown",
   "metadata": {},
   "source": [
    "Creating a row using UDF, example to flag nulls values of a col"
   ]
  },
  {
   "cell_type": "code",
   "execution_count": 28,
   "metadata": {},
   "outputs": [],
   "source": [
    "from pyspark.sql.functions import udf\n",
    "from pyspark.sql.types import *\n",
    "\n",
    "def flag_int_null(value):\n",
    "    if   type(value) == int: \n",
    "        return 1\n",
    "    else: \n",
    "        return 0\n",
    "\n",
    "# NOTE: it seems that calls to udf() must be after SparkContext() is called\n",
    "udfflag_int_null = udf(flag_int_null, IntegerType())\n",
    "sdf_with_lor = sdf.withColumn(\"lor_null\", udfflag_int_null(\"lor\"))"
   ]
  },
  {
   "cell_type": "code",
   "execution_count": 29,
   "metadata": {},
   "outputs": [
    {
     "data": {
      "text/html": [
       "<table border='1'>\n",
       "<tr><th>rev_Mean</th><th>mou_Mean</th><th>totmrc_Mean</th><th>da_Mean</th><th>ovrmou_Mean</th><th>ovrrev_Mean</th><th>vceovr_Mean</th><th>datovr_Mean</th><th>roam_Mean</th><th>change_mou</th><th>change_rev</th><th>drop_vce_Mean</th><th>drop_dat_Mean</th><th>blck_vce_Mean</th><th>blck_dat_Mean</th><th>unan_vce_Mean</th><th>unan_dat_Mean</th><th>plcd_vce_Mean</th><th>plcd_dat_Mean</th><th>recv_vce_Mean</th><th>recv_sms_Mean</th><th>comp_vce_Mean</th><th>comp_dat_Mean</th><th>custcare_Mean</th><th>ccrndmou_Mean</th><th>cc_mou_Mean</th><th>inonemin_Mean</th><th>threeway_Mean</th><th>mou_cvce_Mean</th><th>mou_cdat_Mean</th><th>mou_rvce_Mean</th><th>owylis_vce_Mean</th><th>mouowylisv_Mean</th><th>iwylis_vce_Mean</th><th>mouiwylisv_Mean</th><th>peak_vce_Mean</th><th>peak_dat_Mean</th><th>mou_peav_Mean</th><th>mou_pead_Mean</th><th>opk_vce_Mean</th><th>opk_dat_Mean</th><th>mou_opkv_Mean</th><th>mou_opkd_Mean</th><th>drop_blk_Mean</th><th>attempt_Mean</th><th>complete_Mean</th><th>callfwdv_Mean</th><th>callwait_Mean</th><th>churn</th><th>months</th><th>uniqsubs</th><th>actvsubs</th><th>new_cell</th><th>crclscod</th><th>asl_flag</th><th>totcalls</th><th>totmou</th><th>totrev</th><th>adjrev</th><th>adjmou</th><th>adjqty</th><th>avgrev</th><th>avgmou</th><th>avgqty</th><th>avg3mou</th><th>avg3qty</th><th>avg3rev</th><th>avg6mou</th><th>avg6qty</th><th>avg6rev</th><th>prizm_social_one</th><th>area</th><th>dualband</th><th>refurb_new</th><th>hnd_price</th><th>phones</th><th>models</th><th>hnd_webcap</th><th>truck</th><th>rv</th><th>ownrent</th><th>lor</th><th>dwlltype</th><th>marital</th><th>adults</th><th>infobase</th><th>income</th><th>numbcars</th><th>HHstatin</th><th>dwllsize</th><th>forgntvl</th><th>ethnic</th><th>kid0_2</th><th>kid3_5</th><th>kid6_10</th><th>kid11_15</th><th>kid16_17</th><th>creditcd</th><th>eqpdays</th><th>Customer_ID</th><th>lor_null</th></tr>\n",
       "<tr><td>23.9975</td><td>219.25</td><td>22.5</td><td>0.2475</td><td>0.0</td><td>0.0</td><td>0.0</td><td>0.0</td><td>0.0</td><td>-157.25</td><td>-18.9975</td><td>0.666666667</td><td>0.0</td><td>0.666666667</td><td>0.0</td><td>6.333333333</td><td>0.0</td><td>52.33333333</td><td>0.0</td><td>42.33333333</td><td>0.0</td><td>45.0</td><td>0.0</td><td>0.0</td><td>0.0</td><td>0.0</td><td>18.0</td><td>0.0</td><td>90.64333333</td><td>0.0</td><td>97.17666667</td><td>0.0</td><td>0.0</td><td>0.0</td><td>0.0</td><td>58.0</td><td>0.0</td><td>132.6</td><td>0.0</td><td>24.0</td><td>0.0</td><td>55.22</td><td>0.0</td><td>1.333333333</td><td>52.33333333</td><td>45.0</td><td>0.0</td><td>0.333333333</td><td>1</td><td>61</td><td>2</td><td>1</td><td>U</td><td>A</td><td>N</td><td>1652</td><td>4228.0</td><td>1504.62</td><td>1453.44</td><td>4085.0</td><td>1602</td><td>29.66</td><td>83.37</td><td>32.69</td><td>272</td><td>116</td><td>30</td><td>322</td><td>136</td><td>38</td><td>S</td><td>NORTHWEST/ROCKY M...</td><td>Y</td><td>N</td><td>149.9899902</td><td>2</td><td>2</td><td>WCMB</td><td>0</td><td>0</td><td>O</td><td>15</td><td>S</td><td>S</td><td>1</td><td>M</td><td>4</td><td>3</td><td>C</td><td>A</td><td>0</td><td>N</td><td>U</td><td>U</td><td>U</td><td>U</td><td>U</td><td>Y</td><td>361</td><td>1000001</td><td>1</td></tr>\n",
       "<tr><td>57.4925</td><td>482.75</td><td>37.425</td><td>0.2475</td><td>22.75</td><td>9.1</td><td>9.1</td><td>0.0</td><td>0.0</td><td>532.25</td><td>50.9875</td><td>8.333333333</td><td>0.0</td><td>1.0</td><td>0.0</td><td>61.33333333</td><td>0.0</td><td>263.3333333</td><td>0.0</td><td>69.0</td><td>0.0</td><td>193.3333333</td><td>0.0</td><td>1.666666667</td><td>6.333333333</td><td>5.463333333</td><td>53.0</td><td>0.333333333</td><td>189.3966667</td><td>0.0</td><td>55.28</td><td>46.33333333</td><td>24.21666667</td><td>6.333333333</td><td>3.696666667</td><td>83.66666667</td><td>0.0</td><td>75.33333333</td><td>0.0</td><td>157.0</td><td>0.0</td><td>169.3433333</td><td>0.0</td><td>9.333333333</td><td>263.3333333</td><td>193.3333333</td><td>0.0</td><td>5.666666667</td><td>0</td><td>56</td><td>1</td><td>1</td><td>N</td><td>EA</td><td>N</td><td>14654</td><td>26400.0</td><td>2851.68</td><td>2833.88</td><td>26367.0</td><td>14624</td><td>51.53</td><td>479.4</td><td>265.89</td><td>305</td><td>158</td><td>40</td><td>477</td><td>275</td><td>48</td><td>U</td><td>CHICAGO AREA</td><td>N</td><td>N</td><td>null</td><td>7</td><td>6</td><td>WC</td><td>1</td><td>1</td><td>U</td><td>1</td><td>S</td><td>S</td><td>1</td><td>M</td><td>5</td><td>1</td><td>C</td><td>A</td><td>0</td><td>Z</td><td>U</td><td>U</td><td>U</td><td>U</td><td>U</td><td>Y</td><td>240</td><td>1000002</td><td>1</td></tr>\n",
       "<tr><td>16.99</td><td>10.25</td><td>16.99</td><td>0.0</td><td>0.0</td><td>0.0</td><td>0.0</td><td>0.0</td><td>0.0</td><td>-4.25</td><td>0.0</td><td>0.333333333</td><td>0.0</td><td>0.0</td><td>0.0</td><td>2.666666667</td><td>0.0</td><td>9.0</td><td>0.0</td><td>0.333333333</td><td>0.0</td><td>6.0</td><td>0.0</td><td>0.0</td><td>0.0</td><td>0.0</td><td>0.333333333</td><td>0.0</td><td>5.426666667</td><td>0.0</td><td>0.0</td><td>0.0</td><td>0.0</td><td>0.0</td><td>0.0</td><td>5.0</td><td>0.0</td><td>5.193333333</td><td>0.0</td><td>1.0</td><td>0.0</td><td>0.233333333</td><td>0.0</td><td>0.333333333</td><td>9.0</td><td>6.0</td><td>0.0</td><td>0.0</td><td>1</td><td>58</td><td>1</td><td>1</td><td>Y</td><td>C</td><td>N</td><td>7903</td><td>24385.05333</td><td>2155.91</td><td>1934.47</td><td>24303.05</td><td>7888</td><td>34.54</td><td>433.98</td><td>140.86</td><td>12</td><td>7</td><td>17</td><td>11</td><td>6</td><td>17</td><td>S</td><td>GREAT LAKES AREA</td><td>N</td><td>N</td><td>29.98999023</td><td>2</td><td>1</td><td>NA</td><td>0</td><td>0</td><td>O</td><td>7</td><td>S</td><td>M</td><td>2</td><td>M</td><td>5</td><td>2</td><td>C</td><td>A</td><td>0</td><td>N</td><td>U</td><td>Y</td><td>U</td><td>U</td><td>U</td><td>Y</td><td>1504</td><td>1000003</td><td>1</td></tr>\n",
       "<tr><td>38.0</td><td>7.5</td><td>38.0</td><td>0.0</td><td>0.0</td><td>0.0</td><td>0.0</td><td>0.0</td><td>0.0</td><td>-1.5</td><td>0.0</td><td>0.0</td><td>0.0</td><td>0.0</td><td>0.0</td><td>0.0</td><td>0.0</td><td>3.666666667</td><td>0.0</td><td>1.333333333</td><td>0.0</td><td>3.666666667</td><td>0.0</td><td>0.0</td><td>0.0</td><td>0.0</td><td>1.333333333</td><td>0.0</td><td>8.41</td><td>0.0</td><td>0.413333333</td><td>0.333333333</td><td>0.256666667</td><td>0.0</td><td>0.0</td><td>1.333333333</td><td>0.0</td><td>3.38</td><td>0.0</td><td>3.666666667</td><td>0.0</td><td>5.45</td><td>0.0</td><td>0.0</td><td>3.666666667</td><td>3.666666667</td><td>0.0</td><td>0.0</td><td>0</td><td>60</td><td>1</td><td>1</td><td>Y</td><td>B</td><td>N</td><td>1502</td><td>3065.0</td><td>2000.9</td><td>1941.81</td><td>3035.0</td><td>1479</td><td>40.45</td><td>63.23</td><td>30.81</td><td>8</td><td>3</td><td>38</td><td>50</td><td>25</td><td>40</td><td>T</td><td>CHICAGO AREA</td><td>N</td><td>N</td><td>29.98999023</td><td>1</td><td>1</td><td>NA</td><td>0</td><td>0</td><td>U</td><td>6</td><td>M</td><td>M</td><td>4</td><td>M</td><td>6</td><td>1</td><td>C</td><td>D</td><td>0</td><td>U</td><td>Y</td><td>U</td><td>U</td><td>U</td><td>U</td><td>Y</td><td>1812</td><td>1000004</td><td>1</td></tr>\n",
       "<tr><td>55.23</td><td>570.5</td><td>71.98</td><td>0.0</td><td>0.0</td><td>0.0</td><td>0.0</td><td>0.0</td><td>0.0</td><td>38.5</td><td>0.0</td><td>9.666666667</td><td>0.0</td><td>0.666666667</td><td>0.0</td><td>77.0</td><td>0.0</td><td>222.3333333</td><td>0.0</td><td>94.66666667</td><td>0.0</td><td>137.0</td><td>0.0</td><td>8.666666667</td><td>15.0</td><td>11.07666667</td><td>66.0</td><td>0.0</td><td>285.2333333</td><td>0.0</td><td>106.33</td><td>14.66666667</td><td>10.81666667</td><td>0.666666667</td><td>0.366666667</td><td>97.33333333</td><td>0.0</td><td>173.4766667</td><td>0.0</td><td>90.33333333</td><td>0.0</td><td>218.0866667</td><td>0.0</td><td>10.33333333</td><td>222.3333333</td><td>137.0</td><td>0.0</td><td>0.0</td><td>0</td><td>57</td><td>1</td><td>1</td><td>Y</td><td>A</td><td>N</td><td>4485</td><td>14028.0</td><td>2181.12</td><td>2166.48</td><td>13965.0</td><td>4452</td><td>38.69</td><td>249.38</td><td>79.5</td><td>558</td><td>191</td><td>55</td><td>586</td><td>196</td><td>80</td><td>U</td><td>NEW ENGLAND AREA</td><td>Y</td><td>N</td><td>149.9899902</td><td>6</td><td>4</td><td>WCMB</td><td>0</td><td>0</td><td>R</td><td>5</td><td>M</td><td>S</td><td>1</td><td>M</td><td>6</td><td>1</td><td>C</td><td>O</td><td>0</td><td>I</td><td>U</td><td>U</td><td>U</td><td>U</td><td>U</td><td>Y</td><td>434</td><td>1000005</td><td>1</td></tr>\n",
       "<tr><td>82.275</td><td>1312.25</td><td>75.0</td><td>1.2375</td><td>0.0</td><td>0.0</td><td>0.0</td><td>0.0</td><td>0.0</td><td>156.75</td><td>8.145</td><td>52.0</td><td>0.0</td><td>7.666666667</td><td>0.0</td><td>76.0</td><td>0.0</td><td>702.0</td><td>0.0</td><td>365.0</td><td>0.0</td><td>577.3333333</td><td>0.0</td><td>4.333333333</td><td>11.0</td><td>7.753333333</td><td>301.6666667</td><td>1.333333333</td><td>369.5366667</td><td>0.0</td><td>200.32</td><td>370.3333333</td><td>243.2133333</td><td>147.0</td><td>85.14666667</td><td>555.6666667</td><td>0.0</td><td>382.0966667</td><td>0.0</td><td>303.6666667</td><td>0.0</td><td>187.76</td><td>0.0</td><td>59.66666667</td><td>702.0</td><td>577.3333333</td><td>0.0</td><td>22.66666667</td><td>0</td><td>59</td><td>2</td><td>2</td><td>Y</td><td>C</td><td>N</td><td>26812</td><td>40869.0</td><td>4033.98</td><td>3932.9</td><td>40295.0</td><td>26362</td><td>83.68</td><td>857.34</td><td>560.89</td><td>1260</td><td>960</td><td>80</td><td>1187</td><td>853</td><td>78</td><td>U</td><td>GREAT LAKES AREA</td><td>N</td><td>N</td><td>129.9899902</td><td>9</td><td>4</td><td>WCMB</td><td>0</td><td>0</td><td>O</td><td>1</td><td>U</td><td>S</td><td>1</td><td>M</td><td>6</td><td>1</td><td>C</td><td>U</td><td>0</td><td>U</td><td>U</td><td>U</td><td>U</td><td>U</td><td>U</td><td>Y</td><td>458</td><td>1000006</td><td>1</td></tr>\n",
       "<tr><td>17.145</td><td>0.0</td><td>16.99</td><td>0.0</td><td>0.0</td><td>0.0</td><td>0.0</td><td>0.0</td><td>0.0</td><td>0.0</td><td>-0.155</td><td>0.0</td><td>0.0</td><td>0.0</td><td>0.0</td><td>0.0</td><td>0.0</td><td>0.0</td><td>0.0</td><td>0.0</td><td>0.0</td><td>0.0</td><td>0.0</td><td>0.0</td><td>0.0</td><td>0.0</td><td>0.0</td><td>0.0</td><td>0.0</td><td>0.0</td><td>0.0</td><td>0.0</td><td>0.0</td><td>0.0</td><td>0.0</td><td>0.0</td><td>0.0</td><td>0.0</td><td>0.0</td><td>0.0</td><td>0.0</td><td>0.0</td><td>0.0</td><td>0.0</td><td>0.0</td><td>0.0</td><td>0.0</td><td>0.0</td><td>1</td><td>53</td><td>2</td><td>2</td><td>N</td><td>A</td><td>N</td><td>6279</td><td>17390.03333</td><td>3091.7</td><td>3065.24</td><td>17371.03</td><td>6271</td><td>58.95</td><td>334.06</td><td>120.6</td><td>0</td><td>0</td><td>17</td><td>0</td><td>0</td><td>17</td><td>C</td><td>DALLAS AREA</td><td>Y</td><td>N</td><td>29.98999023</td><td>4</td><td>3</td><td>NA</td><td>0</td><td>0</td><td>O</td><td>8</td><td>S</td><td>M</td><td>3</td><td>M</td><td>9</td><td>0</td><td>I</td><td>A</td><td>0</td><td>N</td><td>U</td><td>U</td><td>U</td><td>U</td><td>U</td><td>Y</td><td>852</td><td>1000007</td><td>1</td></tr>\n",
       "<tr><td>38.0525</td><td>682.5</td><td>52.49</td><td>0.2475</td><td>0.0</td><td>0.0</td><td>0.0</td><td>0.0</td><td>0.0</td><td>147.5</td><td>-3.0625</td><td>9.0</td><td>0.0</td><td>1.666666667</td><td>0.0</td><td>13.0</td><td>0.0</td><td>97.0</td><td>0.0</td><td>13.0</td><td>0.0</td><td>73.33333333</td><td>0.0</td><td>0.666666667</td><td>5.333333333</td><td>5.276666667</td><td>5.0</td><td>0.0</td><td>470.0233333</td><td>0.0</td><td>42.19666667</td><td>6.666666667</td><td>6.23</td><td>0.0</td><td>0.0</td><td>33.33333333</td><td>0.0</td><td>81.06666667</td><td>0.0</td><td>53.0</td><td>0.0</td><td>431.1533333</td><td>0.0</td><td>10.66666667</td><td>97.0</td><td>73.33333333</td><td>0.0</td><td>0.666666667</td><td>0</td><td>53</td><td>1</td><td>1</td><td>Y</td><td>B</td><td>N</td><td>4491</td><td>12492.0</td><td>1427.71</td><td>1423.06</td><td>12439.0</td><td>4470</td><td>34.71</td><td>303.39</td><td>109.02</td><td>633</td><td>96</td><td>39</td><td>719</td><td>112</td><td>58</td><td>null</td><td>DALLAS AREA</td><td>Y</td><td>N</td><td>79.98999023</td><td>3</td><td>2</td><td>WCMB</td><td>0</td><td>0</td><td>R</td><td>0</td><td>S</td><td>M</td><td>2</td><td>M</td><td>1</td><td>2</td><td>C</td><td>A</td><td>1</td><td>S</td><td>U</td><td>U</td><td>U</td><td>U</td><td>U</td><td>Y</td><td>231</td><td>1000008</td><td>1</td></tr>\n",
       "<tr><td>97.3375</td><td>1039.0</td><td>50.0</td><td>4.95</td><td>419.5</td><td>41.95</td><td>41.95</td><td>0.0</td><td>0.0</td><td>198.0</td><td>23.2625</td><td>12.66666667</td><td>0.0</td><td>3.0</td><td>0.0</td><td>176.0</td><td>0.0</td><td>533.6666667</td><td>0.0</td><td>96.0</td><td>0.0</td><td>346.6666667</td><td>0.0</td><td>11.33333333</td><td>13.66666667</td><td>6.25</td><td>45.0</td><td>0.333333333</td><td>460.92</td><td>0.0</td><td>213.8533333</td><td>103.3333333</td><td>54.71333333</td><td>0.333333333</td><td>0.056666667</td><td>238.3333333</td><td>0.0</td><td>377.4533333</td><td>0.0</td><td>192.3333333</td><td>0.0</td><td>297.32</td><td>0.0</td><td>15.66666667</td><td>533.6666667</td><td>346.6666667</td><td>0.0</td><td>4.0</td><td>0</td><td>55</td><td>1</td><td>1</td><td>Y</td><td>B</td><td>N</td><td>16730</td><td>43231.05333</td><td>4404.44</td><td>4313.71</td><td>42943.05</td><td>16579</td><td>81.39</td><td>810.25</td><td>312.81</td><td>973</td><td>465</td><td>90</td><td>915</td><td>434</td><td>90</td><td>S</td><td>CHICAGO AREA</td><td>Y</td><td>N</td><td>29.98999023</td><td>3</td><td>3</td><td>NA</td><td>0</td><td>0</td><td>U</td><td>3</td><td>M</td><td>M</td><td>3</td><td>M</td><td>4</td><td>1</td><td>C</td><td>E</td><td>0</td><td>F</td><td>U</td><td>U</td><td>U</td><td>U</td><td>U</td><td>N</td><td>700</td><td>1000009</td><td>1</td></tr>\n",
       "<tr><td>31.6625</td><td>25.5</td><td>29.99</td><td>0.2475</td><td>0.0</td><td>0.0</td><td>0.0</td><td>0.0</td><td>0.0</td><td>59.5</td><td>4.0275</td><td>0.0</td><td>0.0</td><td>1.0</td><td>0.0</td><td>2.333333333</td><td>0.0</td><td>6.666666667</td><td>0.0</td><td>0.0</td><td>0.0</td><td>3.333333333</td><td>0.0</td><td>0.0</td><td>0.0</td><td>0.0</td><td>0.0</td><td>0.0</td><td>3.8</td><td>0.0</td><td>0.0</td><td>0.0</td><td>0.0</td><td>0.0</td><td>0.0</td><td>1.666666667</td><td>0.0</td><td>1.866666667</td><td>0.0</td><td>1.666666667</td><td>0.0</td><td>1.933333333</td><td>0.0</td><td>1.0</td><td>6.666666667</td><td>3.333333333</td><td>0.0</td><td>0.0</td><td>0</td><td>57</td><td>2</td><td>2</td><td>N</td><td>A</td><td>N</td><td>391</td><td>994.0</td><td>1458.42</td><td>1457.84</td><td>976.0</td><td>377</td><td>26.51</td><td>17.75</td><td>6.85</td><td>6</td><td>3</td><td>30</td><td>54</td><td>7</td><td>34</td><td>C</td><td>DALLAS AREA</td><td>Y</td><td>N</td><td>79.98999023</td><td>2</td><td>2</td><td>WCMB</td><td>0</td><td>0</td><td>O</td><td>8</td><td>S</td><td>M</td><td>2</td><td>M</td><td>9</td><td>2</td><td>I</td><td>A</td><td>1</td><td>N</td><td>U</td><td>U</td><td>U</td><td>U</td><td>U</td><td>Y</td><td>601</td><td>1000010</td><td>1</td></tr>\n",
       "<tr><td>62.1275</td><td>97.5</td><td>65.985</td><td>2.475</td><td>0.0</td><td>0.0</td><td>0.0</td><td>0.0</td><td>0.0</td><td>23.5</td><td>6.8225</td><td>0.0</td><td>0.0</td><td>0.333333333</td><td>0.0</td><td>4.0</td><td>0.0</td><td>19.33333333</td><td>0.333333333</td><td>0.0</td><td>0.0</td><td>15.0</td><td>0.333333333</td><td>4.0</td><td>98.66666667</td><td>96.92</td><td>0.0</td><td>0.0</td><td>136.4933333</td><td>0.056666667</td><td>0.0</td><td>3.666666667</td><td>15.36666667</td><td>0.0</td><td>0.0</td><td>7.666666667</td><td>0.333333333</td><td>66.07333333</td><td>0.056666667</td><td>7.333333333</td><td>0.0</td><td>70.42</td><td>0.0</td><td>0.333333333</td><td>19.66666667</td><td>15.33333333</td><td>0.0</td><td>0.0</td><td>0</td><td>59</td><td>2</td><td>2</td><td>Y</td><td>A</td><td>N</td><td>2392</td><td>6868.11</td><td>3290.73</td><td>3195.01</td><td>6620.11</td><td>2312</td><td>56.05</td><td>116.14</td><td>40.56</td><td>90</td><td>16</td><td>60</td><td>123</td><td>32</td><td>64</td><td>C</td><td>DALLAS AREA</td><td>Y</td><td>N</td><td>79.98999023</td><td>3</td><td>3</td><td>WCMB</td><td>0</td><td>0</td><td>O</td><td>15</td><td>S</td><td>S</td><td>5</td><td>M</td><td>6</td><td>0</td><td>C</td><td>A</td><td>0</td><td>N</td><td>Y</td><td>U</td><td>U</td><td>U</td><td>U</td><td>Y</td><td>464</td><td>1000011</td><td>1</td></tr>\n",
       "<tr><td>35.295</td><td>24.25</td><td>34.98</td><td>0.0</td><td>0.0</td><td>0.0</td><td>0.0</td><td>0.0</td><td>0.0</td><td>19.75</td><td>-0.315</td><td>0.0</td><td>0.0</td><td>0.0</td><td>0.0</td><td>1.0</td><td>0.0</td><td>9.0</td><td>0.0</td><td>3.0</td><td>0.0</td><td>8.0</td><td>0.0</td><td>0.0</td><td>0.0</td><td>0.0</td><td>2.333333333</td><td>0.0</td><td>5.533333333</td><td>0.0</td><td>2.386666667</td><td>4.0</td><td>2.926666667</td><td>1.666666667</td><td>1.516666667</td><td>9.333333333</td><td>0.0</td><td>7.17</td><td>0.0</td><td>1.666666667</td><td>0.0</td><td>0.75</td><td>0.0</td><td>0.0</td><td>9.0</td><td>8.0</td><td>0.0</td><td>0.0</td><td>0</td><td>53</td><td>3</td><td>3</td><td>Y</td><td>A</td><td>N</td><td>3207</td><td>5579.136667</td><td>3104.16</td><td>2796.06</td><td>5358.14</td><td>3087</td><td>54.82</td><td>105.06</td><td>60.53</td><td>18</td><td>13</td><td>36</td><td>36</td><td>26</td><td>36</td><td>C</td><td>CENTRAL/SOUTH TEX...</td><td>N</td><td>N</td><td>79.98999023</td><td>4</td><td>3</td><td>WC</td><td>0</td><td>0</td><td>O</td><td>4</td><td>S</td><td>A</td><td>3</td><td>M</td><td>9</td><td>0</td><td>U</td><td>A</td><td>0</td><td>N</td><td>U</td><td>U</td><td>Y</td><td>Y</td><td>U</td><td>Y</td><td>544</td><td>1000012</td><td>1</td></tr>\n",
       "<tr><td>81.0</td><td>1056.25</td><td>75.0</td><td>0.0</td><td>0.0</td><td>0.0</td><td>0.0</td><td>0.0</td><td>0.0</td><td>42.75</td><td>2.35</td><td>0.0</td><td>0.0</td><td>0.0</td><td>0.0</td><td>0.0</td><td>0.0</td><td>0.0</td><td>0.0</td><td>0.0</td><td>0.0</td><td>0.0</td><td>0.0</td><td>0.0</td><td>0.0</td><td>0.0</td><td>0.0</td><td>0.0</td><td>0.0</td><td>0.0</td><td>0.0</td><td>0.0</td><td>0.0</td><td>0.0</td><td>0.0</td><td>0.0</td><td>0.0</td><td>0.0</td><td>0.0</td><td>0.0</td><td>0.0</td><td>0.0</td><td>0.0</td><td>0.0</td><td>0.0</td><td>0.0</td><td>0.0</td><td>0.0</td><td>0</td><td>55</td><td>1</td><td>1</td><td>Y</td><td>BA</td><td>N</td><td>31584</td><td>51857.07</td><td>4270.87</td><td>4181.91</td><td>51553.07</td><td>31397</td><td>78.9</td><td>972.7</td><td>592.4</td><td>1042</td><td>625</td><td>80</td><td>999</td><td>625</td><td>76</td><td>U</td><td>GREAT LAKES AREA</td><td>Y</td><td>N</td><td>199.9899902</td><td>9</td><td>5</td><td>WCMB</td><td>0</td><td>0</td><td>O</td><td>15</td><td>S</td><td>S</td><td>3</td><td>M</td><td>5</td><td>0</td><td>B</td><td>A</td><td>0</td><td>J</td><td>U</td><td>U</td><td>U</td><td>U</td><td>U</td><td>Y</td><td>388</td><td>1000013</td><td>1</td></tr>\n",
       "<tr><td>25.225</td><td>2.5</td><td>25.0</td><td>0.0</td><td>0.0</td><td>0.0</td><td>0.0</td><td>0.0</td><td>0.0</td><td>-2.5</td><td>-0.225</td><td>0.0</td><td>0.0</td><td>0.0</td><td>0.0</td><td>0.333333333</td><td>0.0</td><td>1.333333333</td><td>0.0</td><td>0.333333333</td><td>0.0</td><td>1.0</td><td>0.0</td><td>0.0</td><td>0.0</td><td>0.0</td><td>0.0</td><td>0.0</td><td>1.306666667</td><td>0.0</td><td>1.133333333</td><td>0.333333333</td><td>0.023333333</td><td>0.0</td><td>0.0</td><td>0.666666667</td><td>0.0</td><td>2.2</td><td>0.0</td><td>0.666666667</td><td>0.0</td><td>0.24</td><td>0.0</td><td>0.0</td><td>1.333333333</td><td>1.0</td><td>0.0</td><td>0.0</td><td>0</td><td>53</td><td>2</td><td>2</td><td>Y</td><td>A</td><td>N</td><td>400</td><td>642.0</td><td>1370.94</td><td>1323.62</td><td>613.0</td><td>385</td><td>25.95</td><td>12.02</td><td>7.55</td><td>3</td><td>2</td><td>25</td><td>4</td><td>3</td><td>25</td><td>C</td><td>CENTRAL/SOUTH TEX...</td><td>Y</td><td>N</td><td>59.98999023</td><td>2</td><td>2</td><td>WCMB</td><td>1</td><td>0</td><td>U</td><td>1</td><td>S</td><td>U</td><td>1</td><td>M</td><td>7</td><td>0</td><td>A</td><td>A</td><td>0</td><td>N</td><td>U</td><td>U</td><td>U</td><td>U</td><td>U</td><td>N</td><td>354</td><td>1000014</td><td>1</td></tr>\n",
       "<tr><td>212.515</td><td>1971.5</td><td>84.99</td><td>2.2275</td><td>249.5</td><td>99.8</td><td>99.8</td><td>0.0</td><td>35.4975</td><td>-200.5</td><td>-106.765</td><td>9.0</td><td>0.0</td><td>0.0</td><td>0.0</td><td>43.66666667</td><td>0.0</td><td>344.6666667</td><td>0.0</td><td>271.3333333</td><td>0.0</td><td>296.0</td><td>0.0</td><td>0.333333333</td><td>3.333333333</td><td>3.316666667</td><td>126.3333333</td><td>0.0</td><td>581.2966667</td><td>0.0</td><td>718.07</td><td>49.33333333</td><td>35.16333333</td><td>4.666666667</td><td>9.263333333</td><td>351.6666667</td><td>0.0</td><td>864.1733333</td><td>0.0</td><td>128.6666667</td><td>0.0</td><td>435.1933333</td><td>0.0</td><td>9.0</td><td>344.6666667</td><td>296.0</td><td>0.0</td><td>1.0</td><td>0</td><td>59</td><td>5</td><td>1</td><td>Y</td><td>C</td><td>N</td><td>33184</td><td>69161.08333</td><td>6616.72</td><td>6572.7</td><td>69104.08</td><td>33139</td><td>115.31</td><td>1212.35</td><td>581.39</td><td>2038</td><td>637</td><td>248</td><td>1817</td><td>576</td><td>182</td><td>S</td><td>NORTHWEST/ROCKY M...</td><td>Y</td><td>N</td><td>149.9899902</td><td>10</td><td>6</td><td>WCMB</td><td>0</td><td>0</td><td>O</td><td>11</td><td>S</td><td>S</td><td>3</td><td>M</td><td>3</td><td>2</td><td>I</td><td>A</td><td>0</td><td>N</td><td>U</td><td>U</td><td>Y</td><td>U</td><td>U</td><td>Y</td><td>199</td><td>1000015</td><td>1</td></tr>\n",
       "<tr><td>42.565</td><td>270.5</td><td>37.48</td><td>0.2475</td><td>6.0</td><td>1.5</td><td>1.5</td><td>0.0</td><td>0.0</td><td>201.5</td><td>-1.785</td><td>3.333333333</td><td>0.0</td><td>1.666666667</td><td>0.0</td><td>7.666666667</td><td>0.0</td><td>67.66666667</td><td>0.0</td><td>25.33333333</td><td>0.0</td><td>55.33333333</td><td>0.0</td><td>1.0</td><td>1.666666667</td><td>1.026666667</td><td>11.66666667</td><td>0.0</td><td>117.8466667</td><td>0.0</td><td>57.09333333</td><td>11.0</td><td>10.81</td><td>3.666666667</td><td>4.0</td><td>62.33333333</td><td>0.0</td><td>136.7966667</td><td>0.0</td><td>18.0</td><td>0.0</td><td>38.14333333</td><td>0.0</td><td>5.0</td><td>67.66666667</td><td>55.33333333</td><td>0.0</td><td>0.333333333</td><td>0</td><td>55</td><td>2</td><td>2</td><td>N</td><td>B</td><td>N</td><td>7586</td><td>15226.03</td><td>2311.08</td><td>2303.38</td><td>15180.03</td><td>7560</td><td>43.46</td><td>286.42</td><td>142.64</td><td>203</td><td>106</td><td>43</td><td>222</td><td>115</td><td>41</td><td>S</td><td>DALLAS AREA</td><td>Y</td><td>N</td><td>79.98999023</td><td>5</td><td>4</td><td>WCMB</td><td>0</td><td>0</td><td>O</td><td>4</td><td>M</td><td>U</td><td>3</td><td>M</td><td>1</td><td>0</td><td>U</td><td>U</td><td>0</td><td>N</td><td>U</td><td>Y</td><td>U</td><td>U</td><td>U</td><td>Y</td><td>697</td><td>1000016</td><td>1</td></tr>\n",
       "<tr><td>63.0175</td><td>440.25</td><td>59.98</td><td>0.0</td><td>5.75</td><td>1.725</td><td>1.725</td><td>0.0</td><td>1.3125</td><td>-16.25</td><td>0.2125</td><td>5.0</td><td>0.0</td><td>0.0</td><td>0.0</td><td>17.33333333</td><td>0.0</td><td>138.3333333</td><td>0.0</td><td>53.0</td><td>0.0</td><td>118.0</td><td>0.0</td><td>3.666666667</td><td>10.66666667</td><td>8.27</td><td>22.0</td><td>0.333333333</td><td>225.0533333</td><td>0.0</td><td>93.87666667</td><td>0.0</td><td>0.0</td><td>0.0</td><td>0.0</td><td>141.3333333</td><td>0.0</td><td>268.56</td><td>0.0</td><td>14.33333333</td><td>0.0</td><td>50.37</td><td>0.0</td><td>5.0</td><td>138.3333333</td><td>118.0</td><td>0.0</td><td>1.666666667</td><td>0</td><td>57</td><td>1</td><td>1</td><td>N</td><td>B</td><td>N</td><td>4078</td><td>11330.0</td><td>1739.43</td><td>1722.98</td><td>11316.0</td><td>4067</td><td>50.68</td><td>332.82</td><td>119.62</td><td>446</td><td>193</td><td>63</td><td>429</td><td>183</td><td>64</td><td>T</td><td>NORTHWEST/ROCKY M...</td><td>N</td><td>N</td><td>29.98999023</td><td>3</td><td>2</td><td>WCMB</td><td>0</td><td>0</td><td>O</td><td>3</td><td>S</td><td>U</td><td>2</td><td>M</td><td>3</td><td>1</td><td>C</td><td>A</td><td>0</td><td>N</td><td>U</td><td>U</td><td>U</td><td>U</td><td>U</td><td>Y</td><td>530</td><td>1000017</td><td>1</td></tr>\n",
       "<tr><td>35.59</td><td>153.0</td><td>29.99</td><td>0.0</td><td>16.0</td><td>5.6</td><td>5.6</td><td>0.0</td><td>0.0</td><td>30.0</td><td>7.35</td><td>2.0</td><td>0.0</td><td>0.666666667</td><td>0.0</td><td>17.33333333</td><td>0.0</td><td>53.0</td><td>0.0</td><td>26.0</td><td>0.0</td><td>33.33333333</td><td>0.0</td><td>0.0</td><td>0.0</td><td>0.0</td><td>14.66666667</td><td>0.0</td><td>50.13333333</td><td>0.0</td><td>33.10666667</td><td>8.0</td><td>10.94666667</td><td>4.666666667</td><td>5.253333333</td><td>48.33333333</td><td>0.0</td><td>77.15333333</td><td>0.0</td><td>7.0</td><td>0.0</td><td>6.086666667</td><td>0.0</td><td>2.666666667</td><td>53.0</td><td>33.33333333</td><td>0.0</td><td>0.333333333</td><td>0</td><td>59</td><td>3</td><td>2</td><td>N</td><td>A</td><td>N</td><td>7043</td><td>12661.0</td><td>2036.85</td><td>2013.28</td><td>12657.0</td><td>7041</td><td>36.61</td><td>230.13</td><td>128.02</td><td>143</td><td>76</td><td>33</td><td>135</td><td>73</td><td>32</td><td>U</td><td>NORTHWEST/ROCKY M...</td><td>N</td><td>N</td><td>79.98999023</td><td>6</td><td>5</td><td>WC</td><td>1</td><td>1</td><td>O</td><td>7</td><td>S</td><td>S</td><td>5</td><td>M</td><td>4</td><td>0</td><td>C</td><td>A</td><td>0</td><td>N</td><td>U</td><td>U</td><td>U</td><td>U</td><td>Y</td><td>Y</td><td>48</td><td>1000018</td><td>1</td></tr>\n",
       "<tr><td>55.27</td><td>1212.75</td><td>49.99</td><td>0.7425</td><td>0.0</td><td>0.0</td><td>0.0</td><td>0.0</td><td>1.285</td><td>169.25</td><td>0.99</td><td>2.666666667</td><td>0.0</td><td>6.0</td><td>0.0</td><td>43.66666667</td><td>0.0</td><td>225.0</td><td>0.0</td><td>121.6666667</td><td>0.0</td><td>173.6666667</td><td>0.0</td><td>4.333333333</td><td>9.666666667</td><td>7.5</td><td>43.0</td><td>0.0</td><td>456.98</td><td>0.0</td><td>490.1266667</td><td>50.66666667</td><td>50.00666667</td><td>8.333333333</td><td>18.40666667</td><td>189.3333333</td><td>0.0</td><td>593.0866667</td><td>0.0</td><td>105.0</td><td>0.0</td><td>354.02</td><td>0.0</td><td>8.666666667</td><td>225.0</td><td>173.6666667</td><td>0.0</td><td>4.333333333</td><td>0</td><td>52</td><td>1</td><td>1</td><td>N</td><td>A</td><td>N</td><td>8468</td><td>23835.0</td><td>1935.97</td><td>1914.23</td><td>23524.0</td><td>8378</td><td>47.86</td><td>588.1</td><td>209.45</td><td>1156</td><td>254</td><td>55</td><td>1031</td><td>248</td><td>55</td><td>S</td><td>DALLAS AREA</td><td>Y</td><td>N</td><td>29.98999023</td><td>4</td><td>4</td><td>WC</td><td>0</td><td>0</td><td>O</td><td>10</td><td>S</td><td>B</td><td>1</td><td>M</td><td>3</td><td>1</td><td>C</td><td>A</td><td>0</td><td>N</td><td>U</td><td>U</td><td>U</td><td>U</td><td>U</td><td>Y</td><td>408</td><td>1000019</td><td>1</td></tr>\n",
       "<tr><td>50.965</td><td>162.0</td><td>69.99</td><td>0.0</td><td>2.5</td><td>0.975</td><td>0.0</td><td>0.975</td><td>0.0</td><td>-58.0</td><td>-0.975</td><td>1.666666667</td><td>0.0</td><td>0.333333333</td><td>0.0</td><td>9.0</td><td>0.0</td><td>60.66666667</td><td>1.333333333</td><td>14.0</td><td>0.0</td><td>50.0</td><td>1.333333333</td><td>0.333333333</td><td>0.333333333</td><td>0.276666667</td><td>7.0</td><td>0.0</td><td>65.24666667</td><td>2.373333333</td><td>38.37333333</td><td>34.33333333</td><td>17.40666667</td><td>5.666666667</td><td>11.69</td><td>19.33333333</td><td>0.0</td><td>37.26666667</td><td>0.0</td><td>42.33333333</td><td>1.333333333</td><td>66.35333333</td><td>2.373333333</td><td>2.0</td><td>62.0</td><td>51.33333333</td><td>0.0</td><td>0.0</td><td>0</td><td>56</td><td>1</td><td>1</td><td>Y</td><td>B</td><td>N</td><td>1319</td><td>4531.016667</td><td>1348.33</td><td>1276.0</td><td>4504.02</td><td>1306</td><td>42.53</td><td>150.13</td><td>43.53</td><td>181</td><td>63</td><td>51</td><td>240</td><td>62</td><td>51</td><td>U</td><td>CHICAGO AREA</td><td>Y</td><td>N</td><td>129.9899902</td><td>4</td><td>3</td><td>WCMB</td><td>0</td><td>0</td><td>R</td><td>15</td><td>S</td><td>S</td><td>4</td><td>M</td><td>1</td><td>2</td><td>C</td><td>A</td><td>0</td><td>S</td><td>U</td><td>U</td><td>Y</td><td>Y</td><td>Y</td><td>N</td><td>253</td><td>1000020</td><td>1</td></tr>\n",
       "</table>\n",
       "only showing top 20 rows\n"
      ],
      "text/plain": [
       "+--------+--------+-----------+-------+-----------+-----------+-----------+-----------+---------+----------+----------+-------------+-------------+-------------+-------------+-------------+-------------+-------------+-------------+-------------+-------------+-------------+-------------+-------------+-------------+-----------+-------------+-------------+-------------+-------------+-------------+---------------+---------------+---------------+---------------+-------------+-------------+-------------+-------------+------------+------------+-------------+-------------+-------------+------------+-------------+-------------+-------------+-----+------+--------+--------+--------+--------+--------+--------+-----------+-------+-------+--------+------+------+-------+------+-------+-------+-------+-------+-------+-------+----------------+--------------------+--------+----------+-----------+------+------+----------+-----+---+-------+---+--------+-------+------+--------+------+--------+--------+--------+--------+------+------+------+-------+--------+--------+--------+-------+-----------+--------+\n",
       "|rev_Mean|mou_Mean|totmrc_Mean|da_Mean|ovrmou_Mean|ovrrev_Mean|vceovr_Mean|datovr_Mean|roam_Mean|change_mou|change_rev|drop_vce_Mean|drop_dat_Mean|blck_vce_Mean|blck_dat_Mean|unan_vce_Mean|unan_dat_Mean|plcd_vce_Mean|plcd_dat_Mean|recv_vce_Mean|recv_sms_Mean|comp_vce_Mean|comp_dat_Mean|custcare_Mean|ccrndmou_Mean|cc_mou_Mean|inonemin_Mean|threeway_Mean|mou_cvce_Mean|mou_cdat_Mean|mou_rvce_Mean|owylis_vce_Mean|mouowylisv_Mean|iwylis_vce_Mean|mouiwylisv_Mean|peak_vce_Mean|peak_dat_Mean|mou_peav_Mean|mou_pead_Mean|opk_vce_Mean|opk_dat_Mean|mou_opkv_Mean|mou_opkd_Mean|drop_blk_Mean|attempt_Mean|complete_Mean|callfwdv_Mean|callwait_Mean|churn|months|uniqsubs|actvsubs|new_cell|crclscod|asl_flag|totcalls|     totmou| totrev| adjrev|  adjmou|adjqty|avgrev| avgmou|avgqty|avg3mou|avg3qty|avg3rev|avg6mou|avg6qty|avg6rev|prizm_social_one|                area|dualband|refurb_new|  hnd_price|phones|models|hnd_webcap|truck| rv|ownrent|lor|dwlltype|marital|adults|infobase|income|numbcars|HHstatin|dwllsize|forgntvl|ethnic|kid0_2|kid3_5|kid6_10|kid11_15|kid16_17|creditcd|eqpdays|Customer_ID|lor_null|\n",
       "+--------+--------+-----------+-------+-----------+-----------+-----------+-----------+---------+----------+----------+-------------+-------------+-------------+-------------+-------------+-------------+-------------+-------------+-------------+-------------+-------------+-------------+-------------+-------------+-----------+-------------+-------------+-------------+-------------+-------------+---------------+---------------+---------------+---------------+-------------+-------------+-------------+-------------+------------+------------+-------------+-------------+-------------+------------+-------------+-------------+-------------+-----+------+--------+--------+--------+--------+--------+--------+-----------+-------+-------+--------+------+------+-------+------+-------+-------+-------+-------+-------+-------+----------------+--------------------+--------+----------+-----------+------+------+----------+-----+---+-------+---+--------+-------+------+--------+------+--------+--------+--------+--------+------+------+------+-------+--------+--------+--------+-------+-----------+--------+\n",
       "| 23.9975|  219.25|       22.5| 0.2475|        0.0|        0.0|        0.0|        0.0|      0.0|   -157.25|  -18.9975|  0.666666667|          0.0|  0.666666667|          0.0|  6.333333333|          0.0|  52.33333333|          0.0|  42.33333333|          0.0|         45.0|          0.0|          0.0|          0.0|        0.0|         18.0|          0.0|  90.64333333|          0.0|  97.17666667|            0.0|            0.0|            0.0|            0.0|         58.0|          0.0|        132.6|          0.0|        24.0|         0.0|        55.22|          0.0|  1.333333333| 52.33333333|         45.0|          0.0|  0.333333333|    1|    61|       2|       1|       U|       A|       N|    1652|     4228.0|1504.62|1453.44|  4085.0|  1602| 29.66|  83.37| 32.69|    272|    116|     30|    322|    136|     38|               S|NORTHWEST/ROCKY M...|       Y|         N|149.9899902|     2|     2|      WCMB|    0|  0|      O| 15|       S|      S|     1|       M|     4|       3|       C|       A|       0|     N|     U|     U|      U|       U|       U|       Y|    361|    1000001|       1|\n",
       "| 57.4925|  482.75|     37.425| 0.2475|      22.75|        9.1|        9.1|        0.0|      0.0|    532.25|   50.9875|  8.333333333|          0.0|          1.0|          0.0|  61.33333333|          0.0|  263.3333333|          0.0|         69.0|          0.0|  193.3333333|          0.0|  1.666666667|  6.333333333|5.463333333|         53.0|  0.333333333|  189.3966667|          0.0|        55.28|    46.33333333|    24.21666667|    6.333333333|    3.696666667|  83.66666667|          0.0|  75.33333333|          0.0|       157.0|         0.0|  169.3433333|          0.0|  9.333333333| 263.3333333|  193.3333333|          0.0|  5.666666667|    0|    56|       1|       1|       N|      EA|       N|   14654|    26400.0|2851.68|2833.88| 26367.0| 14624| 51.53|  479.4|265.89|    305|    158|     40|    477|    275|     48|               U|        CHICAGO AREA|       N|         N|       null|     7|     6|        WC|    1|  1|      U|  1|       S|      S|     1|       M|     5|       1|       C|       A|       0|     Z|     U|     U|      U|       U|       U|       Y|    240|    1000002|       1|\n",
       "|   16.99|   10.25|      16.99|    0.0|        0.0|        0.0|        0.0|        0.0|      0.0|     -4.25|       0.0|  0.333333333|          0.0|          0.0|          0.0|  2.666666667|          0.0|          9.0|          0.0|  0.333333333|          0.0|          6.0|          0.0|          0.0|          0.0|        0.0|  0.333333333|          0.0|  5.426666667|          0.0|          0.0|            0.0|            0.0|            0.0|            0.0|          5.0|          0.0|  5.193333333|          0.0|         1.0|         0.0|  0.233333333|          0.0|  0.333333333|         9.0|          6.0|          0.0|          0.0|    1|    58|       1|       1|       Y|       C|       N|    7903|24385.05333|2155.91|1934.47|24303.05|  7888| 34.54| 433.98|140.86|     12|      7|     17|     11|      6|     17|               S|    GREAT LAKES AREA|       N|         N|29.98999023|     2|     1|        NA|    0|  0|      O|  7|       S|      M|     2|       M|     5|       2|       C|       A|       0|     N|     U|     Y|      U|       U|       U|       Y|   1504|    1000003|       1|\n",
       "|    38.0|     7.5|       38.0|    0.0|        0.0|        0.0|        0.0|        0.0|      0.0|      -1.5|       0.0|          0.0|          0.0|          0.0|          0.0|          0.0|          0.0|  3.666666667|          0.0|  1.333333333|          0.0|  3.666666667|          0.0|          0.0|          0.0|        0.0|  1.333333333|          0.0|         8.41|          0.0|  0.413333333|    0.333333333|    0.256666667|            0.0|            0.0|  1.333333333|          0.0|         3.38|          0.0| 3.666666667|         0.0|         5.45|          0.0|          0.0| 3.666666667|  3.666666667|          0.0|          0.0|    0|    60|       1|       1|       Y|       B|       N|    1502|     3065.0| 2000.9|1941.81|  3035.0|  1479| 40.45|  63.23| 30.81|      8|      3|     38|     50|     25|     40|               T|        CHICAGO AREA|       N|         N|29.98999023|     1|     1|        NA|    0|  0|      U|  6|       M|      M|     4|       M|     6|       1|       C|       D|       0|     U|     Y|     U|      U|       U|       U|       Y|   1812|    1000004|       1|\n",
       "|   55.23|   570.5|      71.98|    0.0|        0.0|        0.0|        0.0|        0.0|      0.0|      38.5|       0.0|  9.666666667|          0.0|  0.666666667|          0.0|         77.0|          0.0|  222.3333333|          0.0|  94.66666667|          0.0|        137.0|          0.0|  8.666666667|         15.0|11.07666667|         66.0|          0.0|  285.2333333|          0.0|       106.33|    14.66666667|    10.81666667|    0.666666667|    0.366666667|  97.33333333|          0.0|  173.4766667|          0.0| 90.33333333|         0.0|  218.0866667|          0.0|  10.33333333| 222.3333333|        137.0|          0.0|          0.0|    0|    57|       1|       1|       Y|       A|       N|    4485|    14028.0|2181.12|2166.48| 13965.0|  4452| 38.69| 249.38|  79.5|    558|    191|     55|    586|    196|     80|               U|    NEW ENGLAND AREA|       Y|         N|149.9899902|     6|     4|      WCMB|    0|  0|      R|  5|       M|      S|     1|       M|     6|       1|       C|       O|       0|     I|     U|     U|      U|       U|       U|       Y|    434|    1000005|       1|\n",
       "|  82.275| 1312.25|       75.0| 1.2375|        0.0|        0.0|        0.0|        0.0|      0.0|    156.75|     8.145|         52.0|          0.0|  7.666666667|          0.0|         76.0|          0.0|        702.0|          0.0|        365.0|          0.0|  577.3333333|          0.0|  4.333333333|         11.0|7.753333333|  301.6666667|  1.333333333|  369.5366667|          0.0|       200.32|    370.3333333|    243.2133333|          147.0|    85.14666667|  555.6666667|          0.0|  382.0966667|          0.0| 303.6666667|         0.0|       187.76|          0.0|  59.66666667|       702.0|  577.3333333|          0.0|  22.66666667|    0|    59|       2|       2|       Y|       C|       N|   26812|    40869.0|4033.98| 3932.9| 40295.0| 26362| 83.68| 857.34|560.89|   1260|    960|     80|   1187|    853|     78|               U|    GREAT LAKES AREA|       N|         N|129.9899902|     9|     4|      WCMB|    0|  0|      O|  1|       U|      S|     1|       M|     6|       1|       C|       U|       0|     U|     U|     U|      U|       U|       U|       Y|    458|    1000006|       1|\n",
       "|  17.145|     0.0|      16.99|    0.0|        0.0|        0.0|        0.0|        0.0|      0.0|       0.0|    -0.155|          0.0|          0.0|          0.0|          0.0|          0.0|          0.0|          0.0|          0.0|          0.0|          0.0|          0.0|          0.0|          0.0|          0.0|        0.0|          0.0|          0.0|          0.0|          0.0|          0.0|            0.0|            0.0|            0.0|            0.0|          0.0|          0.0|          0.0|          0.0|         0.0|         0.0|          0.0|          0.0|          0.0|         0.0|          0.0|          0.0|          0.0|    1|    53|       2|       2|       N|       A|       N|    6279|17390.03333| 3091.7|3065.24|17371.03|  6271| 58.95| 334.06| 120.6|      0|      0|     17|      0|      0|     17|               C|         DALLAS AREA|       Y|         N|29.98999023|     4|     3|        NA|    0|  0|      O|  8|       S|      M|     3|       M|     9|       0|       I|       A|       0|     N|     U|     U|      U|       U|       U|       Y|    852|    1000007|       1|\n",
       "| 38.0525|   682.5|      52.49| 0.2475|        0.0|        0.0|        0.0|        0.0|      0.0|     147.5|   -3.0625|          9.0|          0.0|  1.666666667|          0.0|         13.0|          0.0|         97.0|          0.0|         13.0|          0.0|  73.33333333|          0.0|  0.666666667|  5.333333333|5.276666667|          5.0|          0.0|  470.0233333|          0.0|  42.19666667|    6.666666667|           6.23|            0.0|            0.0|  33.33333333|          0.0|  81.06666667|          0.0|        53.0|         0.0|  431.1533333|          0.0|  10.66666667|        97.0|  73.33333333|          0.0|  0.666666667|    0|    53|       1|       1|       Y|       B|       N|    4491|    12492.0|1427.71|1423.06| 12439.0|  4470| 34.71| 303.39|109.02|    633|     96|     39|    719|    112|     58|            null|         DALLAS AREA|       Y|         N|79.98999023|     3|     2|      WCMB|    0|  0|      R|  0|       S|      M|     2|       M|     1|       2|       C|       A|       1|     S|     U|     U|      U|       U|       U|       Y|    231|    1000008|       1|\n",
       "| 97.3375|  1039.0|       50.0|   4.95|      419.5|      41.95|      41.95|        0.0|      0.0|     198.0|   23.2625|  12.66666667|          0.0|          3.0|          0.0|        176.0|          0.0|  533.6666667|          0.0|         96.0|          0.0|  346.6666667|          0.0|  11.33333333|  13.66666667|       6.25|         45.0|  0.333333333|       460.92|          0.0|  213.8533333|    103.3333333|    54.71333333|    0.333333333|    0.056666667|  238.3333333|          0.0|  377.4533333|          0.0| 192.3333333|         0.0|       297.32|          0.0|  15.66666667| 533.6666667|  346.6666667|          0.0|          4.0|    0|    55|       1|       1|       Y|       B|       N|   16730|43231.05333|4404.44|4313.71|42943.05| 16579| 81.39| 810.25|312.81|    973|    465|     90|    915|    434|     90|               S|        CHICAGO AREA|       Y|         N|29.98999023|     3|     3|        NA|    0|  0|      U|  3|       M|      M|     3|       M|     4|       1|       C|       E|       0|     F|     U|     U|      U|       U|       U|       N|    700|    1000009|       1|\n",
       "| 31.6625|    25.5|      29.99| 0.2475|        0.0|        0.0|        0.0|        0.0|      0.0|      59.5|    4.0275|          0.0|          0.0|          1.0|          0.0|  2.333333333|          0.0|  6.666666667|          0.0|          0.0|          0.0|  3.333333333|          0.0|          0.0|          0.0|        0.0|          0.0|          0.0|          3.8|          0.0|          0.0|            0.0|            0.0|            0.0|            0.0|  1.666666667|          0.0|  1.866666667|          0.0| 1.666666667|         0.0|  1.933333333|          0.0|          1.0| 6.666666667|  3.333333333|          0.0|          0.0|    0|    57|       2|       2|       N|       A|       N|     391|      994.0|1458.42|1457.84|   976.0|   377| 26.51|  17.75|  6.85|      6|      3|     30|     54|      7|     34|               C|         DALLAS AREA|       Y|         N|79.98999023|     2|     2|      WCMB|    0|  0|      O|  8|       S|      M|     2|       M|     9|       2|       I|       A|       1|     N|     U|     U|      U|       U|       U|       Y|    601|    1000010|       1|\n",
       "| 62.1275|    97.5|     65.985|  2.475|        0.0|        0.0|        0.0|        0.0|      0.0|      23.5|    6.8225|          0.0|          0.0|  0.333333333|          0.0|          4.0|          0.0|  19.33333333|  0.333333333|          0.0|          0.0|         15.0|  0.333333333|          4.0|  98.66666667|      96.92|          0.0|          0.0|  136.4933333|  0.056666667|          0.0|    3.666666667|    15.36666667|            0.0|            0.0|  7.666666667|  0.333333333|  66.07333333|  0.056666667| 7.333333333|         0.0|        70.42|          0.0|  0.333333333| 19.66666667|  15.33333333|          0.0|          0.0|    0|    59|       2|       2|       Y|       A|       N|    2392|    6868.11|3290.73|3195.01| 6620.11|  2312| 56.05| 116.14| 40.56|     90|     16|     60|    123|     32|     64|               C|         DALLAS AREA|       Y|         N|79.98999023|     3|     3|      WCMB|    0|  0|      O| 15|       S|      S|     5|       M|     6|       0|       C|       A|       0|     N|     Y|     U|      U|       U|       U|       Y|    464|    1000011|       1|\n",
       "|  35.295|   24.25|      34.98|    0.0|        0.0|        0.0|        0.0|        0.0|      0.0|     19.75|    -0.315|          0.0|          0.0|          0.0|          0.0|          1.0|          0.0|          9.0|          0.0|          3.0|          0.0|          8.0|          0.0|          0.0|          0.0|        0.0|  2.333333333|          0.0|  5.533333333|          0.0|  2.386666667|            4.0|    2.926666667|    1.666666667|    1.516666667|  9.333333333|          0.0|         7.17|          0.0| 1.666666667|         0.0|         0.75|          0.0|          0.0|         9.0|          8.0|          0.0|          0.0|    0|    53|       3|       3|       Y|       A|       N|    3207|5579.136667|3104.16|2796.06| 5358.14|  3087| 54.82| 105.06| 60.53|     18|     13|     36|     36|     26|     36|               C|CENTRAL/SOUTH TEX...|       N|         N|79.98999023|     4|     3|        WC|    0|  0|      O|  4|       S|      A|     3|       M|     9|       0|       U|       A|       0|     N|     U|     U|      Y|       Y|       U|       Y|    544|    1000012|       1|\n",
       "|    81.0| 1056.25|       75.0|    0.0|        0.0|        0.0|        0.0|        0.0|      0.0|     42.75|      2.35|          0.0|          0.0|          0.0|          0.0|          0.0|          0.0|          0.0|          0.0|          0.0|          0.0|          0.0|          0.0|          0.0|          0.0|        0.0|          0.0|          0.0|          0.0|          0.0|          0.0|            0.0|            0.0|            0.0|            0.0|          0.0|          0.0|          0.0|          0.0|         0.0|         0.0|          0.0|          0.0|          0.0|         0.0|          0.0|          0.0|          0.0|    0|    55|       1|       1|       Y|      BA|       N|   31584|   51857.07|4270.87|4181.91|51553.07| 31397|  78.9|  972.7| 592.4|   1042|    625|     80|    999|    625|     76|               U|    GREAT LAKES AREA|       Y|         N|199.9899902|     9|     5|      WCMB|    0|  0|      O| 15|       S|      S|     3|       M|     5|       0|       B|       A|       0|     J|     U|     U|      U|       U|       U|       Y|    388|    1000013|       1|\n",
       "|  25.225|     2.5|       25.0|    0.0|        0.0|        0.0|        0.0|        0.0|      0.0|      -2.5|    -0.225|          0.0|          0.0|          0.0|          0.0|  0.333333333|          0.0|  1.333333333|          0.0|  0.333333333|          0.0|          1.0|          0.0|          0.0|          0.0|        0.0|          0.0|          0.0|  1.306666667|          0.0|  1.133333333|    0.333333333|    0.023333333|            0.0|            0.0|  0.666666667|          0.0|          2.2|          0.0| 0.666666667|         0.0|         0.24|          0.0|          0.0| 1.333333333|          1.0|          0.0|          0.0|    0|    53|       2|       2|       Y|       A|       N|     400|      642.0|1370.94|1323.62|   613.0|   385| 25.95|  12.02|  7.55|      3|      2|     25|      4|      3|     25|               C|CENTRAL/SOUTH TEX...|       Y|         N|59.98999023|     2|     2|      WCMB|    1|  0|      U|  1|       S|      U|     1|       M|     7|       0|       A|       A|       0|     N|     U|     U|      U|       U|       U|       N|    354|    1000014|       1|\n",
       "| 212.515|  1971.5|      84.99| 2.2275|      249.5|       99.8|       99.8|        0.0|  35.4975|    -200.5|  -106.765|          9.0|          0.0|          0.0|          0.0|  43.66666667|          0.0|  344.6666667|          0.0|  271.3333333|          0.0|        296.0|          0.0|  0.333333333|  3.333333333|3.316666667|  126.3333333|          0.0|  581.2966667|          0.0|       718.07|    49.33333333|    35.16333333|    4.666666667|    9.263333333|  351.6666667|          0.0|  864.1733333|          0.0| 128.6666667|         0.0|  435.1933333|          0.0|          9.0| 344.6666667|        296.0|          0.0|          1.0|    0|    59|       5|       1|       Y|       C|       N|   33184|69161.08333|6616.72| 6572.7|69104.08| 33139|115.31|1212.35|581.39|   2038|    637|    248|   1817|    576|    182|               S|NORTHWEST/ROCKY M...|       Y|         N|149.9899902|    10|     6|      WCMB|    0|  0|      O| 11|       S|      S|     3|       M|     3|       2|       I|       A|       0|     N|     U|     U|      Y|       U|       U|       Y|    199|    1000015|       1|\n",
       "|  42.565|   270.5|      37.48| 0.2475|        6.0|        1.5|        1.5|        0.0|      0.0|     201.5|    -1.785|  3.333333333|          0.0|  1.666666667|          0.0|  7.666666667|          0.0|  67.66666667|          0.0|  25.33333333|          0.0|  55.33333333|          0.0|          1.0|  1.666666667|1.026666667|  11.66666667|          0.0|  117.8466667|          0.0|  57.09333333|           11.0|          10.81|    3.666666667|            4.0|  62.33333333|          0.0|  136.7966667|          0.0|        18.0|         0.0|  38.14333333|          0.0|          5.0| 67.66666667|  55.33333333|          0.0|  0.333333333|    0|    55|       2|       2|       N|       B|       N|    7586|   15226.03|2311.08|2303.38|15180.03|  7560| 43.46| 286.42|142.64|    203|    106|     43|    222|    115|     41|               S|         DALLAS AREA|       Y|         N|79.98999023|     5|     4|      WCMB|    0|  0|      O|  4|       M|      U|     3|       M|     1|       0|       U|       U|       0|     N|     U|     Y|      U|       U|       U|       Y|    697|    1000016|       1|\n",
       "| 63.0175|  440.25|      59.98|    0.0|       5.75|      1.725|      1.725|        0.0|   1.3125|    -16.25|    0.2125|          5.0|          0.0|          0.0|          0.0|  17.33333333|          0.0|  138.3333333|          0.0|         53.0|          0.0|        118.0|          0.0|  3.666666667|  10.66666667|       8.27|         22.0|  0.333333333|  225.0533333|          0.0|  93.87666667|            0.0|            0.0|            0.0|            0.0|  141.3333333|          0.0|       268.56|          0.0| 14.33333333|         0.0|        50.37|          0.0|          5.0| 138.3333333|        118.0|          0.0|  1.666666667|    0|    57|       1|       1|       N|       B|       N|    4078|    11330.0|1739.43|1722.98| 11316.0|  4067| 50.68| 332.82|119.62|    446|    193|     63|    429|    183|     64|               T|NORTHWEST/ROCKY M...|       N|         N|29.98999023|     3|     2|      WCMB|    0|  0|      O|  3|       S|      U|     2|       M|     3|       1|       C|       A|       0|     N|     U|     U|      U|       U|       U|       Y|    530|    1000017|       1|\n",
       "|   35.59|   153.0|      29.99|    0.0|       16.0|        5.6|        5.6|        0.0|      0.0|      30.0|      7.35|          2.0|          0.0|  0.666666667|          0.0|  17.33333333|          0.0|         53.0|          0.0|         26.0|          0.0|  33.33333333|          0.0|          0.0|          0.0|        0.0|  14.66666667|          0.0|  50.13333333|          0.0|  33.10666667|            8.0|    10.94666667|    4.666666667|    5.253333333|  48.33333333|          0.0|  77.15333333|          0.0|         7.0|         0.0|  6.086666667|          0.0|  2.666666667|        53.0|  33.33333333|          0.0|  0.333333333|    0|    59|       3|       2|       N|       A|       N|    7043|    12661.0|2036.85|2013.28| 12657.0|  7041| 36.61| 230.13|128.02|    143|     76|     33|    135|     73|     32|               U|NORTHWEST/ROCKY M...|       N|         N|79.98999023|     6|     5|        WC|    1|  1|      O|  7|       S|      S|     5|       M|     4|       0|       C|       A|       0|     N|     U|     U|      U|       U|       Y|       Y|     48|    1000018|       1|\n",
       "|   55.27| 1212.75|      49.99| 0.7425|        0.0|        0.0|        0.0|        0.0|    1.285|    169.25|      0.99|  2.666666667|          0.0|          6.0|          0.0|  43.66666667|          0.0|        225.0|          0.0|  121.6666667|          0.0|  173.6666667|          0.0|  4.333333333|  9.666666667|        7.5|         43.0|          0.0|       456.98|          0.0|  490.1266667|    50.66666667|    50.00666667|    8.333333333|    18.40666667|  189.3333333|          0.0|  593.0866667|          0.0|       105.0|         0.0|       354.02|          0.0|  8.666666667|       225.0|  173.6666667|          0.0|  4.333333333|    0|    52|       1|       1|       N|       A|       N|    8468|    23835.0|1935.97|1914.23| 23524.0|  8378| 47.86|  588.1|209.45|   1156|    254|     55|   1031|    248|     55|               S|         DALLAS AREA|       Y|         N|29.98999023|     4|     4|        WC|    0|  0|      O| 10|       S|      B|     1|       M|     3|       1|       C|       A|       0|     N|     U|     U|      U|       U|       U|       Y|    408|    1000019|       1|\n",
       "|  50.965|   162.0|      69.99|    0.0|        2.5|      0.975|        0.0|      0.975|      0.0|     -58.0|    -0.975|  1.666666667|          0.0|  0.333333333|          0.0|          9.0|          0.0|  60.66666667|  1.333333333|         14.0|          0.0|         50.0|  1.333333333|  0.333333333|  0.333333333|0.276666667|          7.0|          0.0|  65.24666667|  2.373333333|  38.37333333|    34.33333333|    17.40666667|    5.666666667|          11.69|  19.33333333|          0.0|  37.26666667|          0.0| 42.33333333| 1.333333333|  66.35333333|  2.373333333|          2.0|        62.0|  51.33333333|          0.0|          0.0|    0|    56|       1|       1|       Y|       B|       N|    1319|4531.016667|1348.33| 1276.0| 4504.02|  1306| 42.53| 150.13| 43.53|    181|     63|     51|    240|     62|     51|               U|        CHICAGO AREA|       Y|         N|129.9899902|     4|     3|      WCMB|    0|  0|      R| 15|       S|      S|     4|       M|     1|       2|       C|       A|       0|     S|     U|     U|      Y|       Y|       Y|       N|    253|    1000020|       1|\n",
       "+--------+--------+-----------+-------+-----------+-----------+-----------+-----------+---------+----------+----------+-------------+-------------+-------------+-------------+-------------+-------------+-------------+-------------+-------------+-------------+-------------+-------------+-------------+-------------+-----------+-------------+-------------+-------------+-------------+-------------+---------------+---------------+---------------+---------------+-------------+-------------+-------------+-------------+------------+------------+-------------+-------------+-------------+------------+-------------+-------------+-------------+-----+------+--------+--------+--------+--------+--------+--------+-----------+-------+-------+--------+------+------+-------+------+-------+-------+-------+-------+-------+-------+----------------+--------------------+--------+----------+-----------+------+------+----------+-----+---+-------+---+--------+-------+------+--------+------+--------+--------+--------+--------+------+------+------+-------+--------+--------+--------+-------+-----------+--------+\n",
       "only showing top 20 rows"
      ]
     },
     "execution_count": 29,
     "metadata": {},
     "output_type": "execute_result"
    }
   ],
   "source": [
    "sdf_with_lor"
   ]
  },
  {
   "cell_type": "code",
   "execution_count": 30,
   "metadata": {},
   "outputs": [
    {
     "data": {
      "text/html": [
       "<table border='1'>\n",
       "<tr><th>lor_null</th><th>count</th></tr>\n",
       "<tr><td>1</td><td>69810</td></tr>\n",
       "<tr><td>0</td><td>30190</td></tr>\n",
       "</table>\n"
      ],
      "text/plain": [
       "+--------+-----+\n",
       "|lor_null|count|\n",
       "+--------+-----+\n",
       "|       1|69810|\n",
       "|       0|30190|\n",
       "+--------+-----+"
      ]
     },
     "execution_count": 30,
     "metadata": {},
     "output_type": "execute_result"
    }
   ],
   "source": [
    "sdf_with_lor.select('*').groupBy(\"lor_null\").count().orderBy('count', ascending=False)"
   ]
  },
  {
   "cell_type": "code",
   "execution_count": 31,
   "metadata": {},
   "outputs": [],
   "source": [
    "sdf_with_lor=sdf_with_lor.fillna( { 'lor':-1} )"
   ]
  },
  {
   "cell_type": "code",
   "execution_count": 32,
   "metadata": {},
   "outputs": [
    {
     "data": {
      "text/html": [
       "<div>\n",
       "<style scoped>\n",
       "    .dataframe tbody tr th:only-of-type {\n",
       "        vertical-align: middle;\n",
       "    }\n",
       "\n",
       "    .dataframe tbody tr th {\n",
       "        vertical-align: top;\n",
       "    }\n",
       "\n",
       "    .dataframe thead th {\n",
       "        text-align: right;\n",
       "    }\n",
       "</style>\n",
       "<table border=\"1\" class=\"dataframe\">\n",
       "  <thead>\n",
       "    <tr style=\"text-align: right;\">\n",
       "      <th></th>\n",
       "      <th>0</th>\n",
       "    </tr>\n",
       "  </thead>\n",
       "  <tbody>\n",
       "    <tr>\n",
       "      <th>prizm_social_one</th>\n",
       "      <td>7388</td>\n",
       "    </tr>\n",
       "    <tr>\n",
       "      <th>avg6mou</th>\n",
       "      <td>2839</td>\n",
       "    </tr>\n",
       "    <tr>\n",
       "      <th>avg6qty</th>\n",
       "      <td>2839</td>\n",
       "    </tr>\n",
       "    <tr>\n",
       "      <th>avg6rev</th>\n",
       "      <td>2839</td>\n",
       "    </tr>\n",
       "    <tr>\n",
       "      <th>marital</th>\n",
       "      <td>1732</td>\n",
       "    </tr>\n",
       "    <tr>\n",
       "      <th>rv</th>\n",
       "      <td>1732</td>\n",
       "    </tr>\n",
       "    <tr>\n",
       "      <th>kid6_10</th>\n",
       "      <td>1732</td>\n",
       "    </tr>\n",
       "    <tr>\n",
       "      <th>kid11_15</th>\n",
       "      <td>1732</td>\n",
       "    </tr>\n",
       "    <tr>\n",
       "      <th>kid16_17</th>\n",
       "      <td>1732</td>\n",
       "    </tr>\n",
       "    <tr>\n",
       "      <th>ethnic</th>\n",
       "      <td>1732</td>\n",
       "    </tr>\n",
       "    <tr>\n",
       "      <th>forgntvl</th>\n",
       "      <td>1732</td>\n",
       "    </tr>\n",
       "    <tr>\n",
       "      <th>kid3_5</th>\n",
       "      <td>1732</td>\n",
       "    </tr>\n",
       "    <tr>\n",
       "      <th>kid0_2</th>\n",
       "      <td>1732</td>\n",
       "    </tr>\n",
       "    <tr>\n",
       "      <th>truck</th>\n",
       "      <td>1732</td>\n",
       "    </tr>\n",
       "    <tr>\n",
       "      <th>change_rev</th>\n",
       "      <td>891</td>\n",
       "    </tr>\n",
       "    <tr>\n",
       "      <th>change_mou</th>\n",
       "      <td>891</td>\n",
       "    </tr>\n",
       "    <tr>\n",
       "      <th>hnd_price</th>\n",
       "      <td>847</td>\n",
       "    </tr>\n",
       "    <tr>\n",
       "      <th>mou_Mean</th>\n",
       "      <td>357</td>\n",
       "    </tr>\n",
       "    <tr>\n",
       "      <th>rev_Mean</th>\n",
       "      <td>357</td>\n",
       "    </tr>\n",
       "    <tr>\n",
       "      <th>vceovr_Mean</th>\n",
       "      <td>357</td>\n",
       "    </tr>\n",
       "    <tr>\n",
       "      <th>da_Mean</th>\n",
       "      <td>357</td>\n",
       "    </tr>\n",
       "    <tr>\n",
       "      <th>ovrmou_Mean</th>\n",
       "      <td>357</td>\n",
       "    </tr>\n",
       "    <tr>\n",
       "      <th>totmrc_Mean</th>\n",
       "      <td>357</td>\n",
       "    </tr>\n",
       "    <tr>\n",
       "      <th>datovr_Mean</th>\n",
       "      <td>357</td>\n",
       "    </tr>\n",
       "    <tr>\n",
       "      <th>roam_Mean</th>\n",
       "      <td>357</td>\n",
       "    </tr>\n",
       "    <tr>\n",
       "      <th>ovrrev_Mean</th>\n",
       "      <td>357</td>\n",
       "    </tr>\n",
       "    <tr>\n",
       "      <th>dualband</th>\n",
       "      <td>1</td>\n",
       "    </tr>\n",
       "    <tr>\n",
       "      <th>eqpdays</th>\n",
       "      <td>1</td>\n",
       "    </tr>\n",
       "    <tr>\n",
       "      <th>phones</th>\n",
       "      <td>1</td>\n",
       "    </tr>\n",
       "    <tr>\n",
       "      <th>models</th>\n",
       "      <td>1</td>\n",
       "    </tr>\n",
       "  </tbody>\n",
       "</table>\n",
       "</div>"
      ],
      "text/plain": [
       "                     0\n",
       "prizm_social_one  7388\n",
       "avg6mou           2839\n",
       "avg6qty           2839\n",
       "avg6rev           2839\n",
       "marital           1732\n",
       "rv                1732\n",
       "kid6_10           1732\n",
       "kid11_15          1732\n",
       "kid16_17          1732\n",
       "ethnic            1732\n",
       "forgntvl          1732\n",
       "kid3_5            1732\n",
       "kid0_2            1732\n",
       "truck             1732\n",
       "change_rev         891\n",
       "change_mou         891\n",
       "hnd_price          847\n",
       "mou_Mean           357\n",
       "rev_Mean           357\n",
       "vceovr_Mean        357\n",
       "da_Mean            357\n",
       "ovrmou_Mean        357\n",
       "totmrc_Mean        357\n",
       "datovr_Mean        357\n",
       "roam_Mean          357\n",
       "ovrrev_Mean        357\n",
       "dualband             1\n",
       "eqpdays              1\n",
       "phones               1\n",
       "models               1"
      ]
     },
     "execution_count": 32,
     "metadata": {},
     "output_type": "execute_result"
    }
   ],
   "source": [
    "df=sdf_with_lor.select([count(when(isnan(c) | col(c).isNull(), c)).alias(c) \n",
    "                        for c in sdf_with_lor.columns]).toPandas()\n",
    "df1=df.T\n",
    "df1=df1.sort_values(by=[0],ascending=False)\n",
    "df1.head(30)"
   ]
  },
  {
   "cell_type": "markdown",
   "metadata": {},
   "source": [
    "Drop the NAN/NULL values and check it"
   ]
  },
  {
   "cell_type": "code",
   "execution_count": 33,
   "metadata": {},
   "outputs": [],
   "source": [
    "sdf_clean=sdf_with_lor.dropna(how='any')"
   ]
  },
  {
   "cell_type": "code",
   "execution_count": 34,
   "metadata": {},
   "outputs": [
    {
     "data": {
      "text/html": [
       "<table border='1'>\n",
       "<tr><th>rev_Mean</th><th>mou_Mean</th><th>totmrc_Mean</th><th>da_Mean</th><th>ovrmou_Mean</th><th>ovrrev_Mean</th><th>vceovr_Mean</th><th>datovr_Mean</th><th>roam_Mean</th><th>change_mou</th><th>change_rev</th><th>drop_vce_Mean</th><th>drop_dat_Mean</th><th>blck_vce_Mean</th><th>blck_dat_Mean</th><th>unan_vce_Mean</th><th>unan_dat_Mean</th><th>plcd_vce_Mean</th><th>plcd_dat_Mean</th><th>recv_vce_Mean</th><th>recv_sms_Mean</th><th>comp_vce_Mean</th><th>comp_dat_Mean</th><th>custcare_Mean</th><th>ccrndmou_Mean</th><th>cc_mou_Mean</th><th>inonemin_Mean</th><th>threeway_Mean</th><th>mou_cvce_Mean</th><th>mou_cdat_Mean</th><th>mou_rvce_Mean</th><th>owylis_vce_Mean</th><th>mouowylisv_Mean</th><th>iwylis_vce_Mean</th><th>mouiwylisv_Mean</th><th>peak_vce_Mean</th><th>peak_dat_Mean</th><th>mou_peav_Mean</th><th>mou_pead_Mean</th><th>opk_vce_Mean</th><th>opk_dat_Mean</th><th>mou_opkv_Mean</th><th>mou_opkd_Mean</th><th>drop_blk_Mean</th><th>attempt_Mean</th><th>complete_Mean</th><th>callfwdv_Mean</th><th>callwait_Mean</th><th>churn</th><th>months</th><th>uniqsubs</th><th>actvsubs</th><th>new_cell</th><th>crclscod</th><th>asl_flag</th><th>totcalls</th><th>totmou</th><th>totrev</th><th>adjrev</th><th>adjmou</th><th>adjqty</th><th>avgrev</th><th>avgmou</th><th>avgqty</th><th>avg3mou</th><th>avg3qty</th><th>avg3rev</th><th>avg6mou</th><th>avg6qty</th><th>avg6rev</th><th>prizm_social_one</th><th>area</th><th>dualband</th><th>refurb_new</th><th>hnd_price</th><th>phones</th><th>models</th><th>hnd_webcap</th><th>truck</th><th>rv</th><th>ownrent</th><th>lor</th><th>dwlltype</th><th>marital</th><th>adults</th><th>infobase</th><th>income</th><th>numbcars</th><th>HHstatin</th><th>dwllsize</th><th>forgntvl</th><th>ethnic</th><th>kid0_2</th><th>kid3_5</th><th>kid6_10</th><th>kid11_15</th><th>kid16_17</th><th>creditcd</th><th>eqpdays</th><th>Customer_ID</th><th>lor_null</th></tr>\n",
       "<tr><td>23.9975</td><td>219.25</td><td>22.5</td><td>0.2475</td><td>0.0</td><td>0.0</td><td>0.0</td><td>0.0</td><td>0.0</td><td>-157.25</td><td>-18.9975</td><td>0.666666667</td><td>0.0</td><td>0.666666667</td><td>0.0</td><td>6.333333333</td><td>0.0</td><td>52.33333333</td><td>0.0</td><td>42.33333333</td><td>0.0</td><td>45.0</td><td>0.0</td><td>0.0</td><td>0.0</td><td>0.0</td><td>18.0</td><td>0.0</td><td>90.64333333</td><td>0.0</td><td>97.17666667</td><td>0.0</td><td>0.0</td><td>0.0</td><td>0.0</td><td>58.0</td><td>0.0</td><td>132.6</td><td>0.0</td><td>24.0</td><td>0.0</td><td>55.22</td><td>0.0</td><td>1.333333333</td><td>52.33333333</td><td>45.0</td><td>0.0</td><td>0.333333333</td><td>1</td><td>61</td><td>2</td><td>1</td><td>U</td><td>A</td><td>N</td><td>1652</td><td>4228.0</td><td>1504.62</td><td>1453.44</td><td>4085.0</td><td>1602</td><td>29.66</td><td>83.37</td><td>32.69</td><td>272</td><td>116</td><td>30</td><td>322</td><td>136</td><td>38</td><td>S</td><td>NORTHWEST/ROCKY M...</td><td>Y</td><td>N</td><td>149.9899902</td><td>2</td><td>2</td><td>WCMB</td><td>0</td><td>0</td><td>O</td><td>15</td><td>S</td><td>S</td><td>1</td><td>M</td><td>4</td><td>3</td><td>C</td><td>A</td><td>0</td><td>N</td><td>U</td><td>U</td><td>U</td><td>U</td><td>U</td><td>Y</td><td>361</td><td>1000001</td><td>1</td></tr>\n",
       "<tr><td>16.99</td><td>10.25</td><td>16.99</td><td>0.0</td><td>0.0</td><td>0.0</td><td>0.0</td><td>0.0</td><td>0.0</td><td>-4.25</td><td>0.0</td><td>0.333333333</td><td>0.0</td><td>0.0</td><td>0.0</td><td>2.666666667</td><td>0.0</td><td>9.0</td><td>0.0</td><td>0.333333333</td><td>0.0</td><td>6.0</td><td>0.0</td><td>0.0</td><td>0.0</td><td>0.0</td><td>0.333333333</td><td>0.0</td><td>5.426666667</td><td>0.0</td><td>0.0</td><td>0.0</td><td>0.0</td><td>0.0</td><td>0.0</td><td>5.0</td><td>0.0</td><td>5.193333333</td><td>0.0</td><td>1.0</td><td>0.0</td><td>0.233333333</td><td>0.0</td><td>0.333333333</td><td>9.0</td><td>6.0</td><td>0.0</td><td>0.0</td><td>1</td><td>58</td><td>1</td><td>1</td><td>Y</td><td>C</td><td>N</td><td>7903</td><td>24385.05333</td><td>2155.91</td><td>1934.47</td><td>24303.05</td><td>7888</td><td>34.54</td><td>433.98</td><td>140.86</td><td>12</td><td>7</td><td>17</td><td>11</td><td>6</td><td>17</td><td>S</td><td>GREAT LAKES AREA</td><td>N</td><td>N</td><td>29.98999023</td><td>2</td><td>1</td><td>NA</td><td>0</td><td>0</td><td>O</td><td>7</td><td>S</td><td>M</td><td>2</td><td>M</td><td>5</td><td>2</td><td>C</td><td>A</td><td>0</td><td>N</td><td>U</td><td>Y</td><td>U</td><td>U</td><td>U</td><td>Y</td><td>1504</td><td>1000003</td><td>1</td></tr>\n",
       "<tr><td>38.0</td><td>7.5</td><td>38.0</td><td>0.0</td><td>0.0</td><td>0.0</td><td>0.0</td><td>0.0</td><td>0.0</td><td>-1.5</td><td>0.0</td><td>0.0</td><td>0.0</td><td>0.0</td><td>0.0</td><td>0.0</td><td>0.0</td><td>3.666666667</td><td>0.0</td><td>1.333333333</td><td>0.0</td><td>3.666666667</td><td>0.0</td><td>0.0</td><td>0.0</td><td>0.0</td><td>1.333333333</td><td>0.0</td><td>8.41</td><td>0.0</td><td>0.413333333</td><td>0.333333333</td><td>0.256666667</td><td>0.0</td><td>0.0</td><td>1.333333333</td><td>0.0</td><td>3.38</td><td>0.0</td><td>3.666666667</td><td>0.0</td><td>5.45</td><td>0.0</td><td>0.0</td><td>3.666666667</td><td>3.666666667</td><td>0.0</td><td>0.0</td><td>0</td><td>60</td><td>1</td><td>1</td><td>Y</td><td>B</td><td>N</td><td>1502</td><td>3065.0</td><td>2000.9</td><td>1941.81</td><td>3035.0</td><td>1479</td><td>40.45</td><td>63.23</td><td>30.81</td><td>8</td><td>3</td><td>38</td><td>50</td><td>25</td><td>40</td><td>T</td><td>CHICAGO AREA</td><td>N</td><td>N</td><td>29.98999023</td><td>1</td><td>1</td><td>NA</td><td>0</td><td>0</td><td>U</td><td>6</td><td>M</td><td>M</td><td>4</td><td>M</td><td>6</td><td>1</td><td>C</td><td>D</td><td>0</td><td>U</td><td>Y</td><td>U</td><td>U</td><td>U</td><td>U</td><td>Y</td><td>1812</td><td>1000004</td><td>1</td></tr>\n",
       "<tr><td>55.23</td><td>570.5</td><td>71.98</td><td>0.0</td><td>0.0</td><td>0.0</td><td>0.0</td><td>0.0</td><td>0.0</td><td>38.5</td><td>0.0</td><td>9.666666667</td><td>0.0</td><td>0.666666667</td><td>0.0</td><td>77.0</td><td>0.0</td><td>222.3333333</td><td>0.0</td><td>94.66666667</td><td>0.0</td><td>137.0</td><td>0.0</td><td>8.666666667</td><td>15.0</td><td>11.07666667</td><td>66.0</td><td>0.0</td><td>285.2333333</td><td>0.0</td><td>106.33</td><td>14.66666667</td><td>10.81666667</td><td>0.666666667</td><td>0.366666667</td><td>97.33333333</td><td>0.0</td><td>173.4766667</td><td>0.0</td><td>90.33333333</td><td>0.0</td><td>218.0866667</td><td>0.0</td><td>10.33333333</td><td>222.3333333</td><td>137.0</td><td>0.0</td><td>0.0</td><td>0</td><td>57</td><td>1</td><td>1</td><td>Y</td><td>A</td><td>N</td><td>4485</td><td>14028.0</td><td>2181.12</td><td>2166.48</td><td>13965.0</td><td>4452</td><td>38.69</td><td>249.38</td><td>79.5</td><td>558</td><td>191</td><td>55</td><td>586</td><td>196</td><td>80</td><td>U</td><td>NEW ENGLAND AREA</td><td>Y</td><td>N</td><td>149.9899902</td><td>6</td><td>4</td><td>WCMB</td><td>0</td><td>0</td><td>R</td><td>5</td><td>M</td><td>S</td><td>1</td><td>M</td><td>6</td><td>1</td><td>C</td><td>O</td><td>0</td><td>I</td><td>U</td><td>U</td><td>U</td><td>U</td><td>U</td><td>Y</td><td>434</td><td>1000005</td><td>1</td></tr>\n",
       "<tr><td>82.275</td><td>1312.25</td><td>75.0</td><td>1.2375</td><td>0.0</td><td>0.0</td><td>0.0</td><td>0.0</td><td>0.0</td><td>156.75</td><td>8.145</td><td>52.0</td><td>0.0</td><td>7.666666667</td><td>0.0</td><td>76.0</td><td>0.0</td><td>702.0</td><td>0.0</td><td>365.0</td><td>0.0</td><td>577.3333333</td><td>0.0</td><td>4.333333333</td><td>11.0</td><td>7.753333333</td><td>301.6666667</td><td>1.333333333</td><td>369.5366667</td><td>0.0</td><td>200.32</td><td>370.3333333</td><td>243.2133333</td><td>147.0</td><td>85.14666667</td><td>555.6666667</td><td>0.0</td><td>382.0966667</td><td>0.0</td><td>303.6666667</td><td>0.0</td><td>187.76</td><td>0.0</td><td>59.66666667</td><td>702.0</td><td>577.3333333</td><td>0.0</td><td>22.66666667</td><td>0</td><td>59</td><td>2</td><td>2</td><td>Y</td><td>C</td><td>N</td><td>26812</td><td>40869.0</td><td>4033.98</td><td>3932.9</td><td>40295.0</td><td>26362</td><td>83.68</td><td>857.34</td><td>560.89</td><td>1260</td><td>960</td><td>80</td><td>1187</td><td>853</td><td>78</td><td>U</td><td>GREAT LAKES AREA</td><td>N</td><td>N</td><td>129.9899902</td><td>9</td><td>4</td><td>WCMB</td><td>0</td><td>0</td><td>O</td><td>1</td><td>U</td><td>S</td><td>1</td><td>M</td><td>6</td><td>1</td><td>C</td><td>U</td><td>0</td><td>U</td><td>U</td><td>U</td><td>U</td><td>U</td><td>U</td><td>Y</td><td>458</td><td>1000006</td><td>1</td></tr>\n",
       "<tr><td>17.145</td><td>0.0</td><td>16.99</td><td>0.0</td><td>0.0</td><td>0.0</td><td>0.0</td><td>0.0</td><td>0.0</td><td>0.0</td><td>-0.155</td><td>0.0</td><td>0.0</td><td>0.0</td><td>0.0</td><td>0.0</td><td>0.0</td><td>0.0</td><td>0.0</td><td>0.0</td><td>0.0</td><td>0.0</td><td>0.0</td><td>0.0</td><td>0.0</td><td>0.0</td><td>0.0</td><td>0.0</td><td>0.0</td><td>0.0</td><td>0.0</td><td>0.0</td><td>0.0</td><td>0.0</td><td>0.0</td><td>0.0</td><td>0.0</td><td>0.0</td><td>0.0</td><td>0.0</td><td>0.0</td><td>0.0</td><td>0.0</td><td>0.0</td><td>0.0</td><td>0.0</td><td>0.0</td><td>0.0</td><td>1</td><td>53</td><td>2</td><td>2</td><td>N</td><td>A</td><td>N</td><td>6279</td><td>17390.03333</td><td>3091.7</td><td>3065.24</td><td>17371.03</td><td>6271</td><td>58.95</td><td>334.06</td><td>120.6</td><td>0</td><td>0</td><td>17</td><td>0</td><td>0</td><td>17</td><td>C</td><td>DALLAS AREA</td><td>Y</td><td>N</td><td>29.98999023</td><td>4</td><td>3</td><td>NA</td><td>0</td><td>0</td><td>O</td><td>8</td><td>S</td><td>M</td><td>3</td><td>M</td><td>9</td><td>0</td><td>I</td><td>A</td><td>0</td><td>N</td><td>U</td><td>U</td><td>U</td><td>U</td><td>U</td><td>Y</td><td>852</td><td>1000007</td><td>1</td></tr>\n",
       "<tr><td>97.3375</td><td>1039.0</td><td>50.0</td><td>4.95</td><td>419.5</td><td>41.95</td><td>41.95</td><td>0.0</td><td>0.0</td><td>198.0</td><td>23.2625</td><td>12.66666667</td><td>0.0</td><td>3.0</td><td>0.0</td><td>176.0</td><td>0.0</td><td>533.6666667</td><td>0.0</td><td>96.0</td><td>0.0</td><td>346.6666667</td><td>0.0</td><td>11.33333333</td><td>13.66666667</td><td>6.25</td><td>45.0</td><td>0.333333333</td><td>460.92</td><td>0.0</td><td>213.8533333</td><td>103.3333333</td><td>54.71333333</td><td>0.333333333</td><td>0.056666667</td><td>238.3333333</td><td>0.0</td><td>377.4533333</td><td>0.0</td><td>192.3333333</td><td>0.0</td><td>297.32</td><td>0.0</td><td>15.66666667</td><td>533.6666667</td><td>346.6666667</td><td>0.0</td><td>4.0</td><td>0</td><td>55</td><td>1</td><td>1</td><td>Y</td><td>B</td><td>N</td><td>16730</td><td>43231.05333</td><td>4404.44</td><td>4313.71</td><td>42943.05</td><td>16579</td><td>81.39</td><td>810.25</td><td>312.81</td><td>973</td><td>465</td><td>90</td><td>915</td><td>434</td><td>90</td><td>S</td><td>CHICAGO AREA</td><td>Y</td><td>N</td><td>29.98999023</td><td>3</td><td>3</td><td>NA</td><td>0</td><td>0</td><td>U</td><td>3</td><td>M</td><td>M</td><td>3</td><td>M</td><td>4</td><td>1</td><td>C</td><td>E</td><td>0</td><td>F</td><td>U</td><td>U</td><td>U</td><td>U</td><td>U</td><td>N</td><td>700</td><td>1000009</td><td>1</td></tr>\n",
       "<tr><td>31.6625</td><td>25.5</td><td>29.99</td><td>0.2475</td><td>0.0</td><td>0.0</td><td>0.0</td><td>0.0</td><td>0.0</td><td>59.5</td><td>4.0275</td><td>0.0</td><td>0.0</td><td>1.0</td><td>0.0</td><td>2.333333333</td><td>0.0</td><td>6.666666667</td><td>0.0</td><td>0.0</td><td>0.0</td><td>3.333333333</td><td>0.0</td><td>0.0</td><td>0.0</td><td>0.0</td><td>0.0</td><td>0.0</td><td>3.8</td><td>0.0</td><td>0.0</td><td>0.0</td><td>0.0</td><td>0.0</td><td>0.0</td><td>1.666666667</td><td>0.0</td><td>1.866666667</td><td>0.0</td><td>1.666666667</td><td>0.0</td><td>1.933333333</td><td>0.0</td><td>1.0</td><td>6.666666667</td><td>3.333333333</td><td>0.0</td><td>0.0</td><td>0</td><td>57</td><td>2</td><td>2</td><td>N</td><td>A</td><td>N</td><td>391</td><td>994.0</td><td>1458.42</td><td>1457.84</td><td>976.0</td><td>377</td><td>26.51</td><td>17.75</td><td>6.85</td><td>6</td><td>3</td><td>30</td><td>54</td><td>7</td><td>34</td><td>C</td><td>DALLAS AREA</td><td>Y</td><td>N</td><td>79.98999023</td><td>2</td><td>2</td><td>WCMB</td><td>0</td><td>0</td><td>O</td><td>8</td><td>S</td><td>M</td><td>2</td><td>M</td><td>9</td><td>2</td><td>I</td><td>A</td><td>1</td><td>N</td><td>U</td><td>U</td><td>U</td><td>U</td><td>U</td><td>Y</td><td>601</td><td>1000010</td><td>1</td></tr>\n",
       "<tr><td>62.1275</td><td>97.5</td><td>65.985</td><td>2.475</td><td>0.0</td><td>0.0</td><td>0.0</td><td>0.0</td><td>0.0</td><td>23.5</td><td>6.8225</td><td>0.0</td><td>0.0</td><td>0.333333333</td><td>0.0</td><td>4.0</td><td>0.0</td><td>19.33333333</td><td>0.333333333</td><td>0.0</td><td>0.0</td><td>15.0</td><td>0.333333333</td><td>4.0</td><td>98.66666667</td><td>96.92</td><td>0.0</td><td>0.0</td><td>136.4933333</td><td>0.056666667</td><td>0.0</td><td>3.666666667</td><td>15.36666667</td><td>0.0</td><td>0.0</td><td>7.666666667</td><td>0.333333333</td><td>66.07333333</td><td>0.056666667</td><td>7.333333333</td><td>0.0</td><td>70.42</td><td>0.0</td><td>0.333333333</td><td>19.66666667</td><td>15.33333333</td><td>0.0</td><td>0.0</td><td>0</td><td>59</td><td>2</td><td>2</td><td>Y</td><td>A</td><td>N</td><td>2392</td><td>6868.11</td><td>3290.73</td><td>3195.01</td><td>6620.11</td><td>2312</td><td>56.05</td><td>116.14</td><td>40.56</td><td>90</td><td>16</td><td>60</td><td>123</td><td>32</td><td>64</td><td>C</td><td>DALLAS AREA</td><td>Y</td><td>N</td><td>79.98999023</td><td>3</td><td>3</td><td>WCMB</td><td>0</td><td>0</td><td>O</td><td>15</td><td>S</td><td>S</td><td>5</td><td>M</td><td>6</td><td>0</td><td>C</td><td>A</td><td>0</td><td>N</td><td>Y</td><td>U</td><td>U</td><td>U</td><td>U</td><td>Y</td><td>464</td><td>1000011</td><td>1</td></tr>\n",
       "<tr><td>35.295</td><td>24.25</td><td>34.98</td><td>0.0</td><td>0.0</td><td>0.0</td><td>0.0</td><td>0.0</td><td>0.0</td><td>19.75</td><td>-0.315</td><td>0.0</td><td>0.0</td><td>0.0</td><td>0.0</td><td>1.0</td><td>0.0</td><td>9.0</td><td>0.0</td><td>3.0</td><td>0.0</td><td>8.0</td><td>0.0</td><td>0.0</td><td>0.0</td><td>0.0</td><td>2.333333333</td><td>0.0</td><td>5.533333333</td><td>0.0</td><td>2.386666667</td><td>4.0</td><td>2.926666667</td><td>1.666666667</td><td>1.516666667</td><td>9.333333333</td><td>0.0</td><td>7.17</td><td>0.0</td><td>1.666666667</td><td>0.0</td><td>0.75</td><td>0.0</td><td>0.0</td><td>9.0</td><td>8.0</td><td>0.0</td><td>0.0</td><td>0</td><td>53</td><td>3</td><td>3</td><td>Y</td><td>A</td><td>N</td><td>3207</td><td>5579.136667</td><td>3104.16</td><td>2796.06</td><td>5358.14</td><td>3087</td><td>54.82</td><td>105.06</td><td>60.53</td><td>18</td><td>13</td><td>36</td><td>36</td><td>26</td><td>36</td><td>C</td><td>CENTRAL/SOUTH TEX...</td><td>N</td><td>N</td><td>79.98999023</td><td>4</td><td>3</td><td>WC</td><td>0</td><td>0</td><td>O</td><td>4</td><td>S</td><td>A</td><td>3</td><td>M</td><td>9</td><td>0</td><td>U</td><td>A</td><td>0</td><td>N</td><td>U</td><td>U</td><td>Y</td><td>Y</td><td>U</td><td>Y</td><td>544</td><td>1000012</td><td>1</td></tr>\n",
       "<tr><td>81.0</td><td>1056.25</td><td>75.0</td><td>0.0</td><td>0.0</td><td>0.0</td><td>0.0</td><td>0.0</td><td>0.0</td><td>42.75</td><td>2.35</td><td>0.0</td><td>0.0</td><td>0.0</td><td>0.0</td><td>0.0</td><td>0.0</td><td>0.0</td><td>0.0</td><td>0.0</td><td>0.0</td><td>0.0</td><td>0.0</td><td>0.0</td><td>0.0</td><td>0.0</td><td>0.0</td><td>0.0</td><td>0.0</td><td>0.0</td><td>0.0</td><td>0.0</td><td>0.0</td><td>0.0</td><td>0.0</td><td>0.0</td><td>0.0</td><td>0.0</td><td>0.0</td><td>0.0</td><td>0.0</td><td>0.0</td><td>0.0</td><td>0.0</td><td>0.0</td><td>0.0</td><td>0.0</td><td>0.0</td><td>0</td><td>55</td><td>1</td><td>1</td><td>Y</td><td>BA</td><td>N</td><td>31584</td><td>51857.07</td><td>4270.87</td><td>4181.91</td><td>51553.07</td><td>31397</td><td>78.9</td><td>972.7</td><td>592.4</td><td>1042</td><td>625</td><td>80</td><td>999</td><td>625</td><td>76</td><td>U</td><td>GREAT LAKES AREA</td><td>Y</td><td>N</td><td>199.9899902</td><td>9</td><td>5</td><td>WCMB</td><td>0</td><td>0</td><td>O</td><td>15</td><td>S</td><td>S</td><td>3</td><td>M</td><td>5</td><td>0</td><td>B</td><td>A</td><td>0</td><td>J</td><td>U</td><td>U</td><td>U</td><td>U</td><td>U</td><td>Y</td><td>388</td><td>1000013</td><td>1</td></tr>\n",
       "<tr><td>25.225</td><td>2.5</td><td>25.0</td><td>0.0</td><td>0.0</td><td>0.0</td><td>0.0</td><td>0.0</td><td>0.0</td><td>-2.5</td><td>-0.225</td><td>0.0</td><td>0.0</td><td>0.0</td><td>0.0</td><td>0.333333333</td><td>0.0</td><td>1.333333333</td><td>0.0</td><td>0.333333333</td><td>0.0</td><td>1.0</td><td>0.0</td><td>0.0</td><td>0.0</td><td>0.0</td><td>0.0</td><td>0.0</td><td>1.306666667</td><td>0.0</td><td>1.133333333</td><td>0.333333333</td><td>0.023333333</td><td>0.0</td><td>0.0</td><td>0.666666667</td><td>0.0</td><td>2.2</td><td>0.0</td><td>0.666666667</td><td>0.0</td><td>0.24</td><td>0.0</td><td>0.0</td><td>1.333333333</td><td>1.0</td><td>0.0</td><td>0.0</td><td>0</td><td>53</td><td>2</td><td>2</td><td>Y</td><td>A</td><td>N</td><td>400</td><td>642.0</td><td>1370.94</td><td>1323.62</td><td>613.0</td><td>385</td><td>25.95</td><td>12.02</td><td>7.55</td><td>3</td><td>2</td><td>25</td><td>4</td><td>3</td><td>25</td><td>C</td><td>CENTRAL/SOUTH TEX...</td><td>Y</td><td>N</td><td>59.98999023</td><td>2</td><td>2</td><td>WCMB</td><td>1</td><td>0</td><td>U</td><td>1</td><td>S</td><td>U</td><td>1</td><td>M</td><td>7</td><td>0</td><td>A</td><td>A</td><td>0</td><td>N</td><td>U</td><td>U</td><td>U</td><td>U</td><td>U</td><td>N</td><td>354</td><td>1000014</td><td>1</td></tr>\n",
       "<tr><td>212.515</td><td>1971.5</td><td>84.99</td><td>2.2275</td><td>249.5</td><td>99.8</td><td>99.8</td><td>0.0</td><td>35.4975</td><td>-200.5</td><td>-106.765</td><td>9.0</td><td>0.0</td><td>0.0</td><td>0.0</td><td>43.66666667</td><td>0.0</td><td>344.6666667</td><td>0.0</td><td>271.3333333</td><td>0.0</td><td>296.0</td><td>0.0</td><td>0.333333333</td><td>3.333333333</td><td>3.316666667</td><td>126.3333333</td><td>0.0</td><td>581.2966667</td><td>0.0</td><td>718.07</td><td>49.33333333</td><td>35.16333333</td><td>4.666666667</td><td>9.263333333</td><td>351.6666667</td><td>0.0</td><td>864.1733333</td><td>0.0</td><td>128.6666667</td><td>0.0</td><td>435.1933333</td><td>0.0</td><td>9.0</td><td>344.6666667</td><td>296.0</td><td>0.0</td><td>1.0</td><td>0</td><td>59</td><td>5</td><td>1</td><td>Y</td><td>C</td><td>N</td><td>33184</td><td>69161.08333</td><td>6616.72</td><td>6572.7</td><td>69104.08</td><td>33139</td><td>115.31</td><td>1212.35</td><td>581.39</td><td>2038</td><td>637</td><td>248</td><td>1817</td><td>576</td><td>182</td><td>S</td><td>NORTHWEST/ROCKY M...</td><td>Y</td><td>N</td><td>149.9899902</td><td>10</td><td>6</td><td>WCMB</td><td>0</td><td>0</td><td>O</td><td>11</td><td>S</td><td>S</td><td>3</td><td>M</td><td>3</td><td>2</td><td>I</td><td>A</td><td>0</td><td>N</td><td>U</td><td>U</td><td>Y</td><td>U</td><td>U</td><td>Y</td><td>199</td><td>1000015</td><td>1</td></tr>\n",
       "<tr><td>42.565</td><td>270.5</td><td>37.48</td><td>0.2475</td><td>6.0</td><td>1.5</td><td>1.5</td><td>0.0</td><td>0.0</td><td>201.5</td><td>-1.785</td><td>3.333333333</td><td>0.0</td><td>1.666666667</td><td>0.0</td><td>7.666666667</td><td>0.0</td><td>67.66666667</td><td>0.0</td><td>25.33333333</td><td>0.0</td><td>55.33333333</td><td>0.0</td><td>1.0</td><td>1.666666667</td><td>1.026666667</td><td>11.66666667</td><td>0.0</td><td>117.8466667</td><td>0.0</td><td>57.09333333</td><td>11.0</td><td>10.81</td><td>3.666666667</td><td>4.0</td><td>62.33333333</td><td>0.0</td><td>136.7966667</td><td>0.0</td><td>18.0</td><td>0.0</td><td>38.14333333</td><td>0.0</td><td>5.0</td><td>67.66666667</td><td>55.33333333</td><td>0.0</td><td>0.333333333</td><td>0</td><td>55</td><td>2</td><td>2</td><td>N</td><td>B</td><td>N</td><td>7586</td><td>15226.03</td><td>2311.08</td><td>2303.38</td><td>15180.03</td><td>7560</td><td>43.46</td><td>286.42</td><td>142.64</td><td>203</td><td>106</td><td>43</td><td>222</td><td>115</td><td>41</td><td>S</td><td>DALLAS AREA</td><td>Y</td><td>N</td><td>79.98999023</td><td>5</td><td>4</td><td>WCMB</td><td>0</td><td>0</td><td>O</td><td>4</td><td>M</td><td>U</td><td>3</td><td>M</td><td>1</td><td>0</td><td>U</td><td>U</td><td>0</td><td>N</td><td>U</td><td>Y</td><td>U</td><td>U</td><td>U</td><td>Y</td><td>697</td><td>1000016</td><td>1</td></tr>\n",
       "<tr><td>63.0175</td><td>440.25</td><td>59.98</td><td>0.0</td><td>5.75</td><td>1.725</td><td>1.725</td><td>0.0</td><td>1.3125</td><td>-16.25</td><td>0.2125</td><td>5.0</td><td>0.0</td><td>0.0</td><td>0.0</td><td>17.33333333</td><td>0.0</td><td>138.3333333</td><td>0.0</td><td>53.0</td><td>0.0</td><td>118.0</td><td>0.0</td><td>3.666666667</td><td>10.66666667</td><td>8.27</td><td>22.0</td><td>0.333333333</td><td>225.0533333</td><td>0.0</td><td>93.87666667</td><td>0.0</td><td>0.0</td><td>0.0</td><td>0.0</td><td>141.3333333</td><td>0.0</td><td>268.56</td><td>0.0</td><td>14.33333333</td><td>0.0</td><td>50.37</td><td>0.0</td><td>5.0</td><td>138.3333333</td><td>118.0</td><td>0.0</td><td>1.666666667</td><td>0</td><td>57</td><td>1</td><td>1</td><td>N</td><td>B</td><td>N</td><td>4078</td><td>11330.0</td><td>1739.43</td><td>1722.98</td><td>11316.0</td><td>4067</td><td>50.68</td><td>332.82</td><td>119.62</td><td>446</td><td>193</td><td>63</td><td>429</td><td>183</td><td>64</td><td>T</td><td>NORTHWEST/ROCKY M...</td><td>N</td><td>N</td><td>29.98999023</td><td>3</td><td>2</td><td>WCMB</td><td>0</td><td>0</td><td>O</td><td>3</td><td>S</td><td>U</td><td>2</td><td>M</td><td>3</td><td>1</td><td>C</td><td>A</td><td>0</td><td>N</td><td>U</td><td>U</td><td>U</td><td>U</td><td>U</td><td>Y</td><td>530</td><td>1000017</td><td>1</td></tr>\n",
       "<tr><td>35.59</td><td>153.0</td><td>29.99</td><td>0.0</td><td>16.0</td><td>5.6</td><td>5.6</td><td>0.0</td><td>0.0</td><td>30.0</td><td>7.35</td><td>2.0</td><td>0.0</td><td>0.666666667</td><td>0.0</td><td>17.33333333</td><td>0.0</td><td>53.0</td><td>0.0</td><td>26.0</td><td>0.0</td><td>33.33333333</td><td>0.0</td><td>0.0</td><td>0.0</td><td>0.0</td><td>14.66666667</td><td>0.0</td><td>50.13333333</td><td>0.0</td><td>33.10666667</td><td>8.0</td><td>10.94666667</td><td>4.666666667</td><td>5.253333333</td><td>48.33333333</td><td>0.0</td><td>77.15333333</td><td>0.0</td><td>7.0</td><td>0.0</td><td>6.086666667</td><td>0.0</td><td>2.666666667</td><td>53.0</td><td>33.33333333</td><td>0.0</td><td>0.333333333</td><td>0</td><td>59</td><td>3</td><td>2</td><td>N</td><td>A</td><td>N</td><td>7043</td><td>12661.0</td><td>2036.85</td><td>2013.28</td><td>12657.0</td><td>7041</td><td>36.61</td><td>230.13</td><td>128.02</td><td>143</td><td>76</td><td>33</td><td>135</td><td>73</td><td>32</td><td>U</td><td>NORTHWEST/ROCKY M...</td><td>N</td><td>N</td><td>79.98999023</td><td>6</td><td>5</td><td>WC</td><td>1</td><td>1</td><td>O</td><td>7</td><td>S</td><td>S</td><td>5</td><td>M</td><td>4</td><td>0</td><td>C</td><td>A</td><td>0</td><td>N</td><td>U</td><td>U</td><td>U</td><td>U</td><td>Y</td><td>Y</td><td>48</td><td>1000018</td><td>1</td></tr>\n",
       "<tr><td>55.27</td><td>1212.75</td><td>49.99</td><td>0.7425</td><td>0.0</td><td>0.0</td><td>0.0</td><td>0.0</td><td>1.285</td><td>169.25</td><td>0.99</td><td>2.666666667</td><td>0.0</td><td>6.0</td><td>0.0</td><td>43.66666667</td><td>0.0</td><td>225.0</td><td>0.0</td><td>121.6666667</td><td>0.0</td><td>173.6666667</td><td>0.0</td><td>4.333333333</td><td>9.666666667</td><td>7.5</td><td>43.0</td><td>0.0</td><td>456.98</td><td>0.0</td><td>490.1266667</td><td>50.66666667</td><td>50.00666667</td><td>8.333333333</td><td>18.40666667</td><td>189.3333333</td><td>0.0</td><td>593.0866667</td><td>0.0</td><td>105.0</td><td>0.0</td><td>354.02</td><td>0.0</td><td>8.666666667</td><td>225.0</td><td>173.6666667</td><td>0.0</td><td>4.333333333</td><td>0</td><td>52</td><td>1</td><td>1</td><td>N</td><td>A</td><td>N</td><td>8468</td><td>23835.0</td><td>1935.97</td><td>1914.23</td><td>23524.0</td><td>8378</td><td>47.86</td><td>588.1</td><td>209.45</td><td>1156</td><td>254</td><td>55</td><td>1031</td><td>248</td><td>55</td><td>S</td><td>DALLAS AREA</td><td>Y</td><td>N</td><td>29.98999023</td><td>4</td><td>4</td><td>WC</td><td>0</td><td>0</td><td>O</td><td>10</td><td>S</td><td>B</td><td>1</td><td>M</td><td>3</td><td>1</td><td>C</td><td>A</td><td>0</td><td>N</td><td>U</td><td>U</td><td>U</td><td>U</td><td>U</td><td>Y</td><td>408</td><td>1000019</td><td>1</td></tr>\n",
       "<tr><td>50.965</td><td>162.0</td><td>69.99</td><td>0.0</td><td>2.5</td><td>0.975</td><td>0.0</td><td>0.975</td><td>0.0</td><td>-58.0</td><td>-0.975</td><td>1.666666667</td><td>0.0</td><td>0.333333333</td><td>0.0</td><td>9.0</td><td>0.0</td><td>60.66666667</td><td>1.333333333</td><td>14.0</td><td>0.0</td><td>50.0</td><td>1.333333333</td><td>0.333333333</td><td>0.333333333</td><td>0.276666667</td><td>7.0</td><td>0.0</td><td>65.24666667</td><td>2.373333333</td><td>38.37333333</td><td>34.33333333</td><td>17.40666667</td><td>5.666666667</td><td>11.69</td><td>19.33333333</td><td>0.0</td><td>37.26666667</td><td>0.0</td><td>42.33333333</td><td>1.333333333</td><td>66.35333333</td><td>2.373333333</td><td>2.0</td><td>62.0</td><td>51.33333333</td><td>0.0</td><td>0.0</td><td>0</td><td>56</td><td>1</td><td>1</td><td>Y</td><td>B</td><td>N</td><td>1319</td><td>4531.016667</td><td>1348.33</td><td>1276.0</td><td>4504.02</td><td>1306</td><td>42.53</td><td>150.13</td><td>43.53</td><td>181</td><td>63</td><td>51</td><td>240</td><td>62</td><td>51</td><td>U</td><td>CHICAGO AREA</td><td>Y</td><td>N</td><td>129.9899902</td><td>4</td><td>3</td><td>WCMB</td><td>0</td><td>0</td><td>R</td><td>15</td><td>S</td><td>S</td><td>4</td><td>M</td><td>1</td><td>2</td><td>C</td><td>A</td><td>0</td><td>S</td><td>U</td><td>U</td><td>Y</td><td>Y</td><td>Y</td><td>N</td><td>253</td><td>1000020</td><td>1</td></tr>\n",
       "<tr><td>172.44</td><td>1978.0</td><td>99.99</td><td>0.0</td><td>362.25</td><td>72.45</td><td>72.45</td><td>0.0</td><td>0.0</td><td>-1007.0</td><td>-72.45</td><td>7.333333333</td><td>0.0</td><td>18.0</td><td>0.0</td><td>114.3333333</td><td>0.0</td><td>760.3333333</td><td>0.0</td><td>157.6666667</td><td>0.0</td><td>622.0</td><td>0.0</td><td>0.333333333</td><td>1.0</td><td>0.94</td><td>69.0</td><td>0.666666667</td><td>1397.513333</td><td>0.0</td><td>515.2333333</td><td>22.66666667</td><td>22.08666667</td><td>2.666666667</td><td>8.476666667</td><td>718.0</td><td>0.0</td><td>1797.173333</td><td>0.0</td><td>60.33333333</td><td>0.0</td><td>115.5766667</td><td>0.0</td><td>25.33333333</td><td>760.3333333</td><td>622.0</td><td>0.0</td><td>20.33333333</td><td>1</td><td>58</td><td>2</td><td>1</td><td>U</td><td>A</td><td>N</td><td>28477</td><td>79406.01667</td><td>6751.7</td><td>6472.05</td><td>78927.02</td><td>28359</td><td>115.57</td><td>1409.41</td><td>506.41</td><td>2314</td><td>862</td><td>197</td><td>2192</td><td>810</td><td>163</td><td>U</td><td>TENNESSEE AREA</td><td>Y</td><td>N</td><td>149.9899902</td><td>4</td><td>3</td><td>WCMB</td><td>1</td><td>1</td><td>O</td><td>7</td><td>S</td><td>U</td><td>2</td><td>M</td><td>6</td><td>1</td><td>C</td><td>A</td><td>0</td><td>Z</td><td>U</td><td>U</td><td>U</td><td>U</td><td>U</td><td>Y</td><td>143</td><td>1000021</td><td>1</td></tr>\n",
       "<tr><td>60.185</td><td>1424.5</td><td>56.25</td><td>0.2475</td><td>0.0</td><td>0.0</td><td>0.0</td><td>0.0</td><td>0.0</td><td>-1134.5</td><td>-55.185</td><td>23.66666667</td><td>0.0</td><td>0.0</td><td>0.0</td><td>11.66666667</td><td>0.0</td><td>47.33333333</td><td>0.0</td><td>646.0</td><td>0.0</td><td>33.33333333</td><td>0.0</td><td>0.333333333</td><td>0.666666667</td><td>0.593333333</td><td>285.3333333</td><td>0.0</td><td>44.04</td><td>0.0</td><td>939.3466667</td><td>7.666666667</td><td>11.76666667</td><td>39.0</td><td>58.91333333</td><td>459.6666667</td><td>0.0</td><td>692.0166667</td><td>0.0</td><td>174.6666667</td><td>0.0</td><td>291.3733333</td><td>0.0</td><td>23.66666667</td><td>47.33333333</td><td>33.33333333</td><td>0.0</td><td>5.666666667</td><td>1</td><td>54</td><td>1</td><td>1</td><td>U</td><td>D</td><td>N</td><td>79038</td><td>117808.04</td><td>6005.39</td><td>5935.58</td><td>117230.04</td><td>78664</td><td>114.15</td><td>2254.42</td><td>1512.77</td><td>1803</td><td>1290</td><td>78</td><td>1720</td><td>1226</td><td>91</td><td>S</td><td>NORTHWEST/ROCKY M...</td><td>N</td><td>N</td><td>129.9899902</td><td>13</td><td>6</td><td>WCMB</td><td>1</td><td>1</td><td>U</td><td>13</td><td>M</td><td>A</td><td>3</td><td>M</td><td>5</td><td>3</td><td>C</td><td>J</td><td>0</td><td>U</td><td>U</td><td>U</td><td>U</td><td>U</td><td>U</td><td>Y</td><td>162</td><td>1000022</td><td>1</td></tr>\n",
       "</table>\n",
       "only showing top 20 rows\n"
      ],
      "text/plain": [
       "+--------+--------+-----------+-------+-----------+-----------+-----------+-----------+---------+----------+----------+-------------+-------------+-------------+-------------+-------------+-------------+-------------+-------------+-------------+-------------+-------------+-------------+-------------+-------------+-----------+-------------+-------------+-------------+-------------+-------------+---------------+---------------+---------------+---------------+-------------+-------------+-------------+-------------+------------+------------+-------------+-------------+-------------+------------+-------------+-------------+-------------+-----+------+--------+--------+--------+--------+--------+--------+-----------+-------+-------+---------+------+------+-------+-------+-------+-------+-------+-------+-------+-------+----------------+--------------------+--------+----------+-----------+------+------+----------+-----+---+-------+---+--------+-------+------+--------+------+--------+--------+--------+--------+------+------+------+-------+--------+--------+--------+-------+-----------+--------+\n",
       "|rev_Mean|mou_Mean|totmrc_Mean|da_Mean|ovrmou_Mean|ovrrev_Mean|vceovr_Mean|datovr_Mean|roam_Mean|change_mou|change_rev|drop_vce_Mean|drop_dat_Mean|blck_vce_Mean|blck_dat_Mean|unan_vce_Mean|unan_dat_Mean|plcd_vce_Mean|plcd_dat_Mean|recv_vce_Mean|recv_sms_Mean|comp_vce_Mean|comp_dat_Mean|custcare_Mean|ccrndmou_Mean|cc_mou_Mean|inonemin_Mean|threeway_Mean|mou_cvce_Mean|mou_cdat_Mean|mou_rvce_Mean|owylis_vce_Mean|mouowylisv_Mean|iwylis_vce_Mean|mouiwylisv_Mean|peak_vce_Mean|peak_dat_Mean|mou_peav_Mean|mou_pead_Mean|opk_vce_Mean|opk_dat_Mean|mou_opkv_Mean|mou_opkd_Mean|drop_blk_Mean|attempt_Mean|complete_Mean|callfwdv_Mean|callwait_Mean|churn|months|uniqsubs|actvsubs|new_cell|crclscod|asl_flag|totcalls|     totmou| totrev| adjrev|   adjmou|adjqty|avgrev| avgmou| avgqty|avg3mou|avg3qty|avg3rev|avg6mou|avg6qty|avg6rev|prizm_social_one|                area|dualband|refurb_new|  hnd_price|phones|models|hnd_webcap|truck| rv|ownrent|lor|dwlltype|marital|adults|infobase|income|numbcars|HHstatin|dwllsize|forgntvl|ethnic|kid0_2|kid3_5|kid6_10|kid11_15|kid16_17|creditcd|eqpdays|Customer_ID|lor_null|\n",
       "+--------+--------+-----------+-------+-----------+-----------+-----------+-----------+---------+----------+----------+-------------+-------------+-------------+-------------+-------------+-------------+-------------+-------------+-------------+-------------+-------------+-------------+-------------+-------------+-----------+-------------+-------------+-------------+-------------+-------------+---------------+---------------+---------------+---------------+-------------+-------------+-------------+-------------+------------+------------+-------------+-------------+-------------+------------+-------------+-------------+-------------+-----+------+--------+--------+--------+--------+--------+--------+-----------+-------+-------+---------+------+------+-------+-------+-------+-------+-------+-------+-------+-------+----------------+--------------------+--------+----------+-----------+------+------+----------+-----+---+-------+---+--------+-------+------+--------+------+--------+--------+--------+--------+------+------+------+-------+--------+--------+--------+-------+-----------+--------+\n",
       "| 23.9975|  219.25|       22.5| 0.2475|        0.0|        0.0|        0.0|        0.0|      0.0|   -157.25|  -18.9975|  0.666666667|          0.0|  0.666666667|          0.0|  6.333333333|          0.0|  52.33333333|          0.0|  42.33333333|          0.0|         45.0|          0.0|          0.0|          0.0|        0.0|         18.0|          0.0|  90.64333333|          0.0|  97.17666667|            0.0|            0.0|            0.0|            0.0|         58.0|          0.0|        132.6|          0.0|        24.0|         0.0|        55.22|          0.0|  1.333333333| 52.33333333|         45.0|          0.0|  0.333333333|    1|    61|       2|       1|       U|       A|       N|    1652|     4228.0|1504.62|1453.44|   4085.0|  1602| 29.66|  83.37|  32.69|    272|    116|     30|    322|    136|     38|               S|NORTHWEST/ROCKY M...|       Y|         N|149.9899902|     2|     2|      WCMB|    0|  0|      O| 15|       S|      S|     1|       M|     4|       3|       C|       A|       0|     N|     U|     U|      U|       U|       U|       Y|    361|    1000001|       1|\n",
       "|   16.99|   10.25|      16.99|    0.0|        0.0|        0.0|        0.0|        0.0|      0.0|     -4.25|       0.0|  0.333333333|          0.0|          0.0|          0.0|  2.666666667|          0.0|          9.0|          0.0|  0.333333333|          0.0|          6.0|          0.0|          0.0|          0.0|        0.0|  0.333333333|          0.0|  5.426666667|          0.0|          0.0|            0.0|            0.0|            0.0|            0.0|          5.0|          0.0|  5.193333333|          0.0|         1.0|         0.0|  0.233333333|          0.0|  0.333333333|         9.0|          6.0|          0.0|          0.0|    1|    58|       1|       1|       Y|       C|       N|    7903|24385.05333|2155.91|1934.47| 24303.05|  7888| 34.54| 433.98| 140.86|     12|      7|     17|     11|      6|     17|               S|    GREAT LAKES AREA|       N|         N|29.98999023|     2|     1|        NA|    0|  0|      O|  7|       S|      M|     2|       M|     5|       2|       C|       A|       0|     N|     U|     Y|      U|       U|       U|       Y|   1504|    1000003|       1|\n",
       "|    38.0|     7.5|       38.0|    0.0|        0.0|        0.0|        0.0|        0.0|      0.0|      -1.5|       0.0|          0.0|          0.0|          0.0|          0.0|          0.0|          0.0|  3.666666667|          0.0|  1.333333333|          0.0|  3.666666667|          0.0|          0.0|          0.0|        0.0|  1.333333333|          0.0|         8.41|          0.0|  0.413333333|    0.333333333|    0.256666667|            0.0|            0.0|  1.333333333|          0.0|         3.38|          0.0| 3.666666667|         0.0|         5.45|          0.0|          0.0| 3.666666667|  3.666666667|          0.0|          0.0|    0|    60|       1|       1|       Y|       B|       N|    1502|     3065.0| 2000.9|1941.81|   3035.0|  1479| 40.45|  63.23|  30.81|      8|      3|     38|     50|     25|     40|               T|        CHICAGO AREA|       N|         N|29.98999023|     1|     1|        NA|    0|  0|      U|  6|       M|      M|     4|       M|     6|       1|       C|       D|       0|     U|     Y|     U|      U|       U|       U|       Y|   1812|    1000004|       1|\n",
       "|   55.23|   570.5|      71.98|    0.0|        0.0|        0.0|        0.0|        0.0|      0.0|      38.5|       0.0|  9.666666667|          0.0|  0.666666667|          0.0|         77.0|          0.0|  222.3333333|          0.0|  94.66666667|          0.0|        137.0|          0.0|  8.666666667|         15.0|11.07666667|         66.0|          0.0|  285.2333333|          0.0|       106.33|    14.66666667|    10.81666667|    0.666666667|    0.366666667|  97.33333333|          0.0|  173.4766667|          0.0| 90.33333333|         0.0|  218.0866667|          0.0|  10.33333333| 222.3333333|        137.0|          0.0|          0.0|    0|    57|       1|       1|       Y|       A|       N|    4485|    14028.0|2181.12|2166.48|  13965.0|  4452| 38.69| 249.38|   79.5|    558|    191|     55|    586|    196|     80|               U|    NEW ENGLAND AREA|       Y|         N|149.9899902|     6|     4|      WCMB|    0|  0|      R|  5|       M|      S|     1|       M|     6|       1|       C|       O|       0|     I|     U|     U|      U|       U|       U|       Y|    434|    1000005|       1|\n",
       "|  82.275| 1312.25|       75.0| 1.2375|        0.0|        0.0|        0.0|        0.0|      0.0|    156.75|     8.145|         52.0|          0.0|  7.666666667|          0.0|         76.0|          0.0|        702.0|          0.0|        365.0|          0.0|  577.3333333|          0.0|  4.333333333|         11.0|7.753333333|  301.6666667|  1.333333333|  369.5366667|          0.0|       200.32|    370.3333333|    243.2133333|          147.0|    85.14666667|  555.6666667|          0.0|  382.0966667|          0.0| 303.6666667|         0.0|       187.76|          0.0|  59.66666667|       702.0|  577.3333333|          0.0|  22.66666667|    0|    59|       2|       2|       Y|       C|       N|   26812|    40869.0|4033.98| 3932.9|  40295.0| 26362| 83.68| 857.34| 560.89|   1260|    960|     80|   1187|    853|     78|               U|    GREAT LAKES AREA|       N|         N|129.9899902|     9|     4|      WCMB|    0|  0|      O|  1|       U|      S|     1|       M|     6|       1|       C|       U|       0|     U|     U|     U|      U|       U|       U|       Y|    458|    1000006|       1|\n",
       "|  17.145|     0.0|      16.99|    0.0|        0.0|        0.0|        0.0|        0.0|      0.0|       0.0|    -0.155|          0.0|          0.0|          0.0|          0.0|          0.0|          0.0|          0.0|          0.0|          0.0|          0.0|          0.0|          0.0|          0.0|          0.0|        0.0|          0.0|          0.0|          0.0|          0.0|          0.0|            0.0|            0.0|            0.0|            0.0|          0.0|          0.0|          0.0|          0.0|         0.0|         0.0|          0.0|          0.0|          0.0|         0.0|          0.0|          0.0|          0.0|    1|    53|       2|       2|       N|       A|       N|    6279|17390.03333| 3091.7|3065.24| 17371.03|  6271| 58.95| 334.06|  120.6|      0|      0|     17|      0|      0|     17|               C|         DALLAS AREA|       Y|         N|29.98999023|     4|     3|        NA|    0|  0|      O|  8|       S|      M|     3|       M|     9|       0|       I|       A|       0|     N|     U|     U|      U|       U|       U|       Y|    852|    1000007|       1|\n",
       "| 97.3375|  1039.0|       50.0|   4.95|      419.5|      41.95|      41.95|        0.0|      0.0|     198.0|   23.2625|  12.66666667|          0.0|          3.0|          0.0|        176.0|          0.0|  533.6666667|          0.0|         96.0|          0.0|  346.6666667|          0.0|  11.33333333|  13.66666667|       6.25|         45.0|  0.333333333|       460.92|          0.0|  213.8533333|    103.3333333|    54.71333333|    0.333333333|    0.056666667|  238.3333333|          0.0|  377.4533333|          0.0| 192.3333333|         0.0|       297.32|          0.0|  15.66666667| 533.6666667|  346.6666667|          0.0|          4.0|    0|    55|       1|       1|       Y|       B|       N|   16730|43231.05333|4404.44|4313.71| 42943.05| 16579| 81.39| 810.25| 312.81|    973|    465|     90|    915|    434|     90|               S|        CHICAGO AREA|       Y|         N|29.98999023|     3|     3|        NA|    0|  0|      U|  3|       M|      M|     3|       M|     4|       1|       C|       E|       0|     F|     U|     U|      U|       U|       U|       N|    700|    1000009|       1|\n",
       "| 31.6625|    25.5|      29.99| 0.2475|        0.0|        0.0|        0.0|        0.0|      0.0|      59.5|    4.0275|          0.0|          0.0|          1.0|          0.0|  2.333333333|          0.0|  6.666666667|          0.0|          0.0|          0.0|  3.333333333|          0.0|          0.0|          0.0|        0.0|          0.0|          0.0|          3.8|          0.0|          0.0|            0.0|            0.0|            0.0|            0.0|  1.666666667|          0.0|  1.866666667|          0.0| 1.666666667|         0.0|  1.933333333|          0.0|          1.0| 6.666666667|  3.333333333|          0.0|          0.0|    0|    57|       2|       2|       N|       A|       N|     391|      994.0|1458.42|1457.84|    976.0|   377| 26.51|  17.75|   6.85|      6|      3|     30|     54|      7|     34|               C|         DALLAS AREA|       Y|         N|79.98999023|     2|     2|      WCMB|    0|  0|      O|  8|       S|      M|     2|       M|     9|       2|       I|       A|       1|     N|     U|     U|      U|       U|       U|       Y|    601|    1000010|       1|\n",
       "| 62.1275|    97.5|     65.985|  2.475|        0.0|        0.0|        0.0|        0.0|      0.0|      23.5|    6.8225|          0.0|          0.0|  0.333333333|          0.0|          4.0|          0.0|  19.33333333|  0.333333333|          0.0|          0.0|         15.0|  0.333333333|          4.0|  98.66666667|      96.92|          0.0|          0.0|  136.4933333|  0.056666667|          0.0|    3.666666667|    15.36666667|            0.0|            0.0|  7.666666667|  0.333333333|  66.07333333|  0.056666667| 7.333333333|         0.0|        70.42|          0.0|  0.333333333| 19.66666667|  15.33333333|          0.0|          0.0|    0|    59|       2|       2|       Y|       A|       N|    2392|    6868.11|3290.73|3195.01|  6620.11|  2312| 56.05| 116.14|  40.56|     90|     16|     60|    123|     32|     64|               C|         DALLAS AREA|       Y|         N|79.98999023|     3|     3|      WCMB|    0|  0|      O| 15|       S|      S|     5|       M|     6|       0|       C|       A|       0|     N|     Y|     U|      U|       U|       U|       Y|    464|    1000011|       1|\n",
       "|  35.295|   24.25|      34.98|    0.0|        0.0|        0.0|        0.0|        0.0|      0.0|     19.75|    -0.315|          0.0|          0.0|          0.0|          0.0|          1.0|          0.0|          9.0|          0.0|          3.0|          0.0|          8.0|          0.0|          0.0|          0.0|        0.0|  2.333333333|          0.0|  5.533333333|          0.0|  2.386666667|            4.0|    2.926666667|    1.666666667|    1.516666667|  9.333333333|          0.0|         7.17|          0.0| 1.666666667|         0.0|         0.75|          0.0|          0.0|         9.0|          8.0|          0.0|          0.0|    0|    53|       3|       3|       Y|       A|       N|    3207|5579.136667|3104.16|2796.06|  5358.14|  3087| 54.82| 105.06|  60.53|     18|     13|     36|     36|     26|     36|               C|CENTRAL/SOUTH TEX...|       N|         N|79.98999023|     4|     3|        WC|    0|  0|      O|  4|       S|      A|     3|       M|     9|       0|       U|       A|       0|     N|     U|     U|      Y|       Y|       U|       Y|    544|    1000012|       1|\n",
       "|    81.0| 1056.25|       75.0|    0.0|        0.0|        0.0|        0.0|        0.0|      0.0|     42.75|      2.35|          0.0|          0.0|          0.0|          0.0|          0.0|          0.0|          0.0|          0.0|          0.0|          0.0|          0.0|          0.0|          0.0|          0.0|        0.0|          0.0|          0.0|          0.0|          0.0|          0.0|            0.0|            0.0|            0.0|            0.0|          0.0|          0.0|          0.0|          0.0|         0.0|         0.0|          0.0|          0.0|          0.0|         0.0|          0.0|          0.0|          0.0|    0|    55|       1|       1|       Y|      BA|       N|   31584|   51857.07|4270.87|4181.91| 51553.07| 31397|  78.9|  972.7|  592.4|   1042|    625|     80|    999|    625|     76|               U|    GREAT LAKES AREA|       Y|         N|199.9899902|     9|     5|      WCMB|    0|  0|      O| 15|       S|      S|     3|       M|     5|       0|       B|       A|       0|     J|     U|     U|      U|       U|       U|       Y|    388|    1000013|       1|\n",
       "|  25.225|     2.5|       25.0|    0.0|        0.0|        0.0|        0.0|        0.0|      0.0|      -2.5|    -0.225|          0.0|          0.0|          0.0|          0.0|  0.333333333|          0.0|  1.333333333|          0.0|  0.333333333|          0.0|          1.0|          0.0|          0.0|          0.0|        0.0|          0.0|          0.0|  1.306666667|          0.0|  1.133333333|    0.333333333|    0.023333333|            0.0|            0.0|  0.666666667|          0.0|          2.2|          0.0| 0.666666667|         0.0|         0.24|          0.0|          0.0| 1.333333333|          1.0|          0.0|          0.0|    0|    53|       2|       2|       Y|       A|       N|     400|      642.0|1370.94|1323.62|    613.0|   385| 25.95|  12.02|   7.55|      3|      2|     25|      4|      3|     25|               C|CENTRAL/SOUTH TEX...|       Y|         N|59.98999023|     2|     2|      WCMB|    1|  0|      U|  1|       S|      U|     1|       M|     7|       0|       A|       A|       0|     N|     U|     U|      U|       U|       U|       N|    354|    1000014|       1|\n",
       "| 212.515|  1971.5|      84.99| 2.2275|      249.5|       99.8|       99.8|        0.0|  35.4975|    -200.5|  -106.765|          9.0|          0.0|          0.0|          0.0|  43.66666667|          0.0|  344.6666667|          0.0|  271.3333333|          0.0|        296.0|          0.0|  0.333333333|  3.333333333|3.316666667|  126.3333333|          0.0|  581.2966667|          0.0|       718.07|    49.33333333|    35.16333333|    4.666666667|    9.263333333|  351.6666667|          0.0|  864.1733333|          0.0| 128.6666667|         0.0|  435.1933333|          0.0|          9.0| 344.6666667|        296.0|          0.0|          1.0|    0|    59|       5|       1|       Y|       C|       N|   33184|69161.08333|6616.72| 6572.7| 69104.08| 33139|115.31|1212.35| 581.39|   2038|    637|    248|   1817|    576|    182|               S|NORTHWEST/ROCKY M...|       Y|         N|149.9899902|    10|     6|      WCMB|    0|  0|      O| 11|       S|      S|     3|       M|     3|       2|       I|       A|       0|     N|     U|     U|      Y|       U|       U|       Y|    199|    1000015|       1|\n",
       "|  42.565|   270.5|      37.48| 0.2475|        6.0|        1.5|        1.5|        0.0|      0.0|     201.5|    -1.785|  3.333333333|          0.0|  1.666666667|          0.0|  7.666666667|          0.0|  67.66666667|          0.0|  25.33333333|          0.0|  55.33333333|          0.0|          1.0|  1.666666667|1.026666667|  11.66666667|          0.0|  117.8466667|          0.0|  57.09333333|           11.0|          10.81|    3.666666667|            4.0|  62.33333333|          0.0|  136.7966667|          0.0|        18.0|         0.0|  38.14333333|          0.0|          5.0| 67.66666667|  55.33333333|          0.0|  0.333333333|    0|    55|       2|       2|       N|       B|       N|    7586|   15226.03|2311.08|2303.38| 15180.03|  7560| 43.46| 286.42| 142.64|    203|    106|     43|    222|    115|     41|               S|         DALLAS AREA|       Y|         N|79.98999023|     5|     4|      WCMB|    0|  0|      O|  4|       M|      U|     3|       M|     1|       0|       U|       U|       0|     N|     U|     Y|      U|       U|       U|       Y|    697|    1000016|       1|\n",
       "| 63.0175|  440.25|      59.98|    0.0|       5.75|      1.725|      1.725|        0.0|   1.3125|    -16.25|    0.2125|          5.0|          0.0|          0.0|          0.0|  17.33333333|          0.0|  138.3333333|          0.0|         53.0|          0.0|        118.0|          0.0|  3.666666667|  10.66666667|       8.27|         22.0|  0.333333333|  225.0533333|          0.0|  93.87666667|            0.0|            0.0|            0.0|            0.0|  141.3333333|          0.0|       268.56|          0.0| 14.33333333|         0.0|        50.37|          0.0|          5.0| 138.3333333|        118.0|          0.0|  1.666666667|    0|    57|       1|       1|       N|       B|       N|    4078|    11330.0|1739.43|1722.98|  11316.0|  4067| 50.68| 332.82| 119.62|    446|    193|     63|    429|    183|     64|               T|NORTHWEST/ROCKY M...|       N|         N|29.98999023|     3|     2|      WCMB|    0|  0|      O|  3|       S|      U|     2|       M|     3|       1|       C|       A|       0|     N|     U|     U|      U|       U|       U|       Y|    530|    1000017|       1|\n",
       "|   35.59|   153.0|      29.99|    0.0|       16.0|        5.6|        5.6|        0.0|      0.0|      30.0|      7.35|          2.0|          0.0|  0.666666667|          0.0|  17.33333333|          0.0|         53.0|          0.0|         26.0|          0.0|  33.33333333|          0.0|          0.0|          0.0|        0.0|  14.66666667|          0.0|  50.13333333|          0.0|  33.10666667|            8.0|    10.94666667|    4.666666667|    5.253333333|  48.33333333|          0.0|  77.15333333|          0.0|         7.0|         0.0|  6.086666667|          0.0|  2.666666667|        53.0|  33.33333333|          0.0|  0.333333333|    0|    59|       3|       2|       N|       A|       N|    7043|    12661.0|2036.85|2013.28|  12657.0|  7041| 36.61| 230.13| 128.02|    143|     76|     33|    135|     73|     32|               U|NORTHWEST/ROCKY M...|       N|         N|79.98999023|     6|     5|        WC|    1|  1|      O|  7|       S|      S|     5|       M|     4|       0|       C|       A|       0|     N|     U|     U|      U|       U|       Y|       Y|     48|    1000018|       1|\n",
       "|   55.27| 1212.75|      49.99| 0.7425|        0.0|        0.0|        0.0|        0.0|    1.285|    169.25|      0.99|  2.666666667|          0.0|          6.0|          0.0|  43.66666667|          0.0|        225.0|          0.0|  121.6666667|          0.0|  173.6666667|          0.0|  4.333333333|  9.666666667|        7.5|         43.0|          0.0|       456.98|          0.0|  490.1266667|    50.66666667|    50.00666667|    8.333333333|    18.40666667|  189.3333333|          0.0|  593.0866667|          0.0|       105.0|         0.0|       354.02|          0.0|  8.666666667|       225.0|  173.6666667|          0.0|  4.333333333|    0|    52|       1|       1|       N|       A|       N|    8468|    23835.0|1935.97|1914.23|  23524.0|  8378| 47.86|  588.1| 209.45|   1156|    254|     55|   1031|    248|     55|               S|         DALLAS AREA|       Y|         N|29.98999023|     4|     4|        WC|    0|  0|      O| 10|       S|      B|     1|       M|     3|       1|       C|       A|       0|     N|     U|     U|      U|       U|       U|       Y|    408|    1000019|       1|\n",
       "|  50.965|   162.0|      69.99|    0.0|        2.5|      0.975|        0.0|      0.975|      0.0|     -58.0|    -0.975|  1.666666667|          0.0|  0.333333333|          0.0|          9.0|          0.0|  60.66666667|  1.333333333|         14.0|          0.0|         50.0|  1.333333333|  0.333333333|  0.333333333|0.276666667|          7.0|          0.0|  65.24666667|  2.373333333|  38.37333333|    34.33333333|    17.40666667|    5.666666667|          11.69|  19.33333333|          0.0|  37.26666667|          0.0| 42.33333333| 1.333333333|  66.35333333|  2.373333333|          2.0|        62.0|  51.33333333|          0.0|          0.0|    0|    56|       1|       1|       Y|       B|       N|    1319|4531.016667|1348.33| 1276.0|  4504.02|  1306| 42.53| 150.13|  43.53|    181|     63|     51|    240|     62|     51|               U|        CHICAGO AREA|       Y|         N|129.9899902|     4|     3|      WCMB|    0|  0|      R| 15|       S|      S|     4|       M|     1|       2|       C|       A|       0|     S|     U|     U|      Y|       Y|       Y|       N|    253|    1000020|       1|\n",
       "|  172.44|  1978.0|      99.99|    0.0|     362.25|      72.45|      72.45|        0.0|      0.0|   -1007.0|    -72.45|  7.333333333|          0.0|         18.0|          0.0|  114.3333333|          0.0|  760.3333333|          0.0|  157.6666667|          0.0|        622.0|          0.0|  0.333333333|          1.0|       0.94|         69.0|  0.666666667|  1397.513333|          0.0|  515.2333333|    22.66666667|    22.08666667|    2.666666667|    8.476666667|        718.0|          0.0|  1797.173333|          0.0| 60.33333333|         0.0|  115.5766667|          0.0|  25.33333333| 760.3333333|        622.0|          0.0|  20.33333333|    1|    58|       2|       1|       U|       A|       N|   28477|79406.01667| 6751.7|6472.05| 78927.02| 28359|115.57|1409.41| 506.41|   2314|    862|    197|   2192|    810|    163|               U|      TENNESSEE AREA|       Y|         N|149.9899902|     4|     3|      WCMB|    1|  1|      O|  7|       S|      U|     2|       M|     6|       1|       C|       A|       0|     Z|     U|     U|      U|       U|       U|       Y|    143|    1000021|       1|\n",
       "|  60.185|  1424.5|      56.25| 0.2475|        0.0|        0.0|        0.0|        0.0|      0.0|   -1134.5|   -55.185|  23.66666667|          0.0|          0.0|          0.0|  11.66666667|          0.0|  47.33333333|          0.0|        646.0|          0.0|  33.33333333|          0.0|  0.333333333|  0.666666667|0.593333333|  285.3333333|          0.0|        44.04|          0.0|  939.3466667|    7.666666667|    11.76666667|           39.0|    58.91333333|  459.6666667|          0.0|  692.0166667|          0.0| 174.6666667|         0.0|  291.3733333|          0.0|  23.66666667| 47.33333333|  33.33333333|          0.0|  5.666666667|    1|    54|       1|       1|       U|       D|       N|   79038|  117808.04|6005.39|5935.58|117230.04| 78664|114.15|2254.42|1512.77|   1803|   1290|     78|   1720|   1226|     91|               S|NORTHWEST/ROCKY M...|       N|         N|129.9899902|    13|     6|      WCMB|    1|  1|      U| 13|       M|      A|     3|       M|     5|       3|       C|       J|       0|     U|     U|     U|      U|       U|       U|       Y|    162|    1000022|       1|\n",
       "+--------+--------+-----------+-------+-----------+-----------+-----------+-----------+---------+----------+----------+-------------+-------------+-------------+-------------+-------------+-------------+-------------+-------------+-------------+-------------+-------------+-------------+-------------+-------------+-----------+-------------+-------------+-------------+-------------+-------------+---------------+---------------+---------------+---------------+-------------+-------------+-------------+-------------+------------+------------+-------------+-------------+-------------+------------+-------------+-------------+-------------+-----+------+--------+--------+--------+--------+--------+--------+-----------+-------+-------+---------+------+------+-------+-------+-------+-------+-------+-------+-------+-------+----------------+--------------------+--------+----------+-----------+------+------+----------+-----+---+-------+---+--------+-------+------+--------+------+--------+--------+--------+--------+------+------+------+-------+--------+--------+--------+-------+-----------+--------+\n",
       "only showing top 20 rows"
      ]
     },
     "execution_count": 34,
     "metadata": {},
     "output_type": "execute_result"
    }
   ],
   "source": [
    "sdf_clean"
   ]
  },
  {
   "cell_type": "code",
   "execution_count": 35,
   "metadata": {},
   "outputs": [
    {
     "data": {
      "text/html": [
       "<div>\n",
       "<style scoped>\n",
       "    .dataframe tbody tr th:only-of-type {\n",
       "        vertical-align: middle;\n",
       "    }\n",
       "\n",
       "    .dataframe tbody tr th {\n",
       "        vertical-align: top;\n",
       "    }\n",
       "\n",
       "    .dataframe thead th {\n",
       "        text-align: right;\n",
       "    }\n",
       "</style>\n",
       "<table border=\"1\" class=\"dataframe\">\n",
       "  <thead>\n",
       "    <tr style=\"text-align: right;\">\n",
       "      <th></th>\n",
       "      <th>0</th>\n",
       "    </tr>\n",
       "  </thead>\n",
       "  <tbody>\n",
       "    <tr>\n",
       "      <th>rev_Mean</th>\n",
       "      <td>0</td>\n",
       "    </tr>\n",
       "    <tr>\n",
       "      <th>avg3mou</th>\n",
       "      <td>0</td>\n",
       "    </tr>\n",
       "    <tr>\n",
       "      <th>hnd_price</th>\n",
       "      <td>0</td>\n",
       "    </tr>\n",
       "    <tr>\n",
       "      <th>refurb_new</th>\n",
       "      <td>0</td>\n",
       "    </tr>\n",
       "    <tr>\n",
       "      <th>dualband</th>\n",
       "      <td>0</td>\n",
       "    </tr>\n",
       "  </tbody>\n",
       "</table>\n",
       "</div>"
      ],
      "text/plain": [
       "            0\n",
       "rev_Mean    0\n",
       "avg3mou     0\n",
       "hnd_price   0\n",
       "refurb_new  0\n",
       "dualband    0"
      ]
     },
     "execution_count": 35,
     "metadata": {},
     "output_type": "execute_result"
    }
   ],
   "source": [
    "df=sdf_clean.select([count(when(isnan(c) | col(c).isNull(), c)).alias(c) \n",
    "                        for c in sdf_with_lor.columns]).toPandas()\n",
    "df1=df.T\n",
    "df1=df1.sort_values(by=[0],ascending=False)\n",
    "df1.head()"
   ]
  },
  {
   "cell_type": "code",
   "execution_count": 36,
   "metadata": {},
   "outputs": [
    {
     "data": {
      "text/plain": [
       "87597"
      ]
     },
     "execution_count": 36,
     "metadata": {},
     "output_type": "execute_result"
    }
   ],
   "source": [
    "sdf_clean.count()"
   ]
  },
  {
   "cell_type": "code",
   "execution_count": null,
   "metadata": {},
   "outputs": [],
   "source": []
  },
  {
   "cell_type": "code",
   "execution_count": 37,
   "metadata": {},
   "outputs": [
    {
     "data": {
      "text/html": [
       "<table border='1'>\n",
       "<tr><th>rev_Mean</th><th>mou_Mean</th><th>totmrc_Mean</th><th>da_Mean</th><th>ovrmou_Mean</th><th>ovrrev_Mean</th><th>vceovr_Mean</th><th>datovr_Mean</th><th>roam_Mean</th><th>change_mou</th><th>change_rev</th><th>drop_vce_Mean</th><th>drop_dat_Mean</th><th>blck_vce_Mean</th><th>blck_dat_Mean</th><th>unan_vce_Mean</th><th>unan_dat_Mean</th><th>plcd_vce_Mean</th><th>plcd_dat_Mean</th><th>recv_vce_Mean</th><th>recv_sms_Mean</th><th>comp_vce_Mean</th><th>comp_dat_Mean</th><th>custcare_Mean</th><th>ccrndmou_Mean</th><th>cc_mou_Mean</th><th>inonemin_Mean</th><th>threeway_Mean</th><th>mou_cvce_Mean</th><th>mou_cdat_Mean</th><th>mou_rvce_Mean</th><th>owylis_vce_Mean</th><th>mouowylisv_Mean</th><th>iwylis_vce_Mean</th><th>mouiwylisv_Mean</th><th>peak_vce_Mean</th><th>peak_dat_Mean</th><th>mou_peav_Mean</th><th>mou_pead_Mean</th><th>opk_vce_Mean</th><th>opk_dat_Mean</th><th>mou_opkv_Mean</th><th>mou_opkd_Mean</th><th>drop_blk_Mean</th><th>attempt_Mean</th><th>complete_Mean</th><th>callfwdv_Mean</th><th>callwait_Mean</th><th>churn</th><th>months</th><th>uniqsubs</th><th>actvsubs</th><th>new_cell</th><th>crclscod</th><th>asl_flag</th><th>totcalls</th><th>totmou</th><th>totrev</th><th>adjrev</th><th>adjmou</th><th>adjqty</th><th>avgrev</th><th>avgmou</th><th>avgqty</th><th>avg3mou</th><th>avg3qty</th><th>avg3rev</th><th>avg6mou</th><th>avg6qty</th><th>avg6rev</th><th>prizm_social_one</th><th>area</th><th>dualband</th><th>refurb_new</th><th>hnd_price</th><th>phones</th><th>models</th><th>hnd_webcap</th><th>truck</th><th>rv</th><th>ownrent</th><th>lor</th><th>dwlltype</th><th>marital</th><th>adults</th><th>infobase</th><th>income</th><th>numbcars</th><th>HHstatin</th><th>dwllsize</th><th>forgntvl</th><th>ethnic</th><th>kid0_2</th><th>kid3_5</th><th>kid6_10</th><th>kid11_15</th><th>kid16_17</th><th>creditcd</th><th>eqpdays</th><th>Customer_ID</th><th>lor_null</th></tr>\n",
       "<tr><td>23.9975</td><td>219.25</td><td>22.5</td><td>0.2475</td><td>0.0</td><td>0.0</td><td>0.0</td><td>0.0</td><td>0.0</td><td>-157.25</td><td>-18.9975</td><td>0.666666667</td><td>0.0</td><td>0.666666667</td><td>0.0</td><td>6.333333333</td><td>0.0</td><td>52.33333333</td><td>0.0</td><td>42.33333333</td><td>0.0</td><td>45.0</td><td>0.0</td><td>0.0</td><td>0.0</td><td>0.0</td><td>18.0</td><td>0.0</td><td>90.64333333</td><td>0.0</td><td>97.17666667</td><td>0.0</td><td>0.0</td><td>0.0</td><td>0.0</td><td>58.0</td><td>0.0</td><td>132.6</td><td>0.0</td><td>24.0</td><td>0.0</td><td>55.22</td><td>0.0</td><td>1.333333333</td><td>52.33333333</td><td>45.0</td><td>0.0</td><td>0.333333333</td><td>1</td><td>61</td><td>2</td><td>1</td><td>U</td><td>A</td><td>N</td><td>1652</td><td>4228.0</td><td>1504.62</td><td>1453.44</td><td>4085.0</td><td>1602</td><td>29.66</td><td>83.37</td><td>32.69</td><td>272</td><td>116</td><td>30</td><td>322</td><td>136</td><td>38</td><td>S</td><td>NORTHWEST/ROCKY M...</td><td>Y</td><td>N</td><td>149.9899902</td><td>2</td><td>2</td><td>WCMB</td><td>0</td><td>0</td><td>O</td><td>15</td><td>S</td><td>S</td><td>1</td><td>M</td><td>4</td><td>3</td><td>C</td><td>A</td><td>0</td><td>N</td><td>U</td><td>U</td><td>U</td><td>U</td><td>U</td><td>Y</td><td>361</td><td>1000001</td><td>1</td></tr>\n",
       "<tr><td>57.4925</td><td>482.75</td><td>37.425</td><td>0.2475</td><td>22.75</td><td>9.1</td><td>9.1</td><td>0.0</td><td>0.0</td><td>532.25</td><td>50.9875</td><td>8.333333333</td><td>0.0</td><td>1.0</td><td>0.0</td><td>61.33333333</td><td>0.0</td><td>263.3333333</td><td>0.0</td><td>69.0</td><td>0.0</td><td>193.3333333</td><td>0.0</td><td>1.666666667</td><td>6.333333333</td><td>5.463333333</td><td>53.0</td><td>0.333333333</td><td>189.3966667</td><td>0.0</td><td>55.28</td><td>46.33333333</td><td>24.21666667</td><td>6.333333333</td><td>3.696666667</td><td>83.66666667</td><td>0.0</td><td>75.33333333</td><td>0.0</td><td>157.0</td><td>0.0</td><td>169.3433333</td><td>0.0</td><td>9.333333333</td><td>263.3333333</td><td>193.3333333</td><td>0.0</td><td>5.666666667</td><td>0</td><td>56</td><td>1</td><td>1</td><td>N</td><td>EA</td><td>N</td><td>14654</td><td>26400.0</td><td>2851.68</td><td>2833.88</td><td>26367.0</td><td>14624</td><td>51.53</td><td>479.4</td><td>265.89</td><td>305</td><td>158</td><td>40</td><td>477</td><td>275</td><td>48</td><td>U</td><td>CHICAGO AREA</td><td>N</td><td>N</td><td>null</td><td>7</td><td>6</td><td>WC</td><td>1</td><td>1</td><td>U</td><td>1</td><td>S</td><td>S</td><td>1</td><td>M</td><td>5</td><td>1</td><td>C</td><td>A</td><td>0</td><td>Z</td><td>U</td><td>U</td><td>U</td><td>U</td><td>U</td><td>Y</td><td>240</td><td>1000002</td><td>1</td></tr>\n",
       "<tr><td>16.99</td><td>10.25</td><td>16.99</td><td>0.0</td><td>0.0</td><td>0.0</td><td>0.0</td><td>0.0</td><td>0.0</td><td>-4.25</td><td>0.0</td><td>0.333333333</td><td>0.0</td><td>0.0</td><td>0.0</td><td>2.666666667</td><td>0.0</td><td>9.0</td><td>0.0</td><td>0.333333333</td><td>0.0</td><td>6.0</td><td>0.0</td><td>0.0</td><td>0.0</td><td>0.0</td><td>0.333333333</td><td>0.0</td><td>5.426666667</td><td>0.0</td><td>0.0</td><td>0.0</td><td>0.0</td><td>0.0</td><td>0.0</td><td>5.0</td><td>0.0</td><td>5.193333333</td><td>0.0</td><td>1.0</td><td>0.0</td><td>0.233333333</td><td>0.0</td><td>0.333333333</td><td>9.0</td><td>6.0</td><td>0.0</td><td>0.0</td><td>1</td><td>58</td><td>1</td><td>1</td><td>Y</td><td>C</td><td>N</td><td>7903</td><td>24385.05333</td><td>2155.91</td><td>1934.47</td><td>24303.05</td><td>7888</td><td>34.54</td><td>433.98</td><td>140.86</td><td>12</td><td>7</td><td>17</td><td>11</td><td>6</td><td>17</td><td>S</td><td>GREAT LAKES AREA</td><td>N</td><td>N</td><td>29.98999023</td><td>2</td><td>1</td><td>NA</td><td>0</td><td>0</td><td>O</td><td>7</td><td>S</td><td>M</td><td>2</td><td>M</td><td>5</td><td>2</td><td>C</td><td>A</td><td>0</td><td>N</td><td>U</td><td>Y</td><td>U</td><td>U</td><td>U</td><td>Y</td><td>1504</td><td>1000003</td><td>1</td></tr>\n",
       "<tr><td>38.0</td><td>7.5</td><td>38.0</td><td>0.0</td><td>0.0</td><td>0.0</td><td>0.0</td><td>0.0</td><td>0.0</td><td>-1.5</td><td>0.0</td><td>0.0</td><td>0.0</td><td>0.0</td><td>0.0</td><td>0.0</td><td>0.0</td><td>3.666666667</td><td>0.0</td><td>1.333333333</td><td>0.0</td><td>3.666666667</td><td>0.0</td><td>0.0</td><td>0.0</td><td>0.0</td><td>1.333333333</td><td>0.0</td><td>8.41</td><td>0.0</td><td>0.413333333</td><td>0.333333333</td><td>0.256666667</td><td>0.0</td><td>0.0</td><td>1.333333333</td><td>0.0</td><td>3.38</td><td>0.0</td><td>3.666666667</td><td>0.0</td><td>5.45</td><td>0.0</td><td>0.0</td><td>3.666666667</td><td>3.666666667</td><td>0.0</td><td>0.0</td><td>0</td><td>60</td><td>1</td><td>1</td><td>Y</td><td>B</td><td>N</td><td>1502</td><td>3065.0</td><td>2000.9</td><td>1941.81</td><td>3035.0</td><td>1479</td><td>40.45</td><td>63.23</td><td>30.81</td><td>8</td><td>3</td><td>38</td><td>50</td><td>25</td><td>40</td><td>T</td><td>CHICAGO AREA</td><td>N</td><td>N</td><td>29.98999023</td><td>1</td><td>1</td><td>NA</td><td>0</td><td>0</td><td>U</td><td>6</td><td>M</td><td>M</td><td>4</td><td>M</td><td>6</td><td>1</td><td>C</td><td>D</td><td>0</td><td>U</td><td>Y</td><td>U</td><td>U</td><td>U</td><td>U</td><td>Y</td><td>1812</td><td>1000004</td><td>1</td></tr>\n",
       "<tr><td>55.23</td><td>570.5</td><td>71.98</td><td>0.0</td><td>0.0</td><td>0.0</td><td>0.0</td><td>0.0</td><td>0.0</td><td>38.5</td><td>0.0</td><td>9.666666667</td><td>0.0</td><td>0.666666667</td><td>0.0</td><td>77.0</td><td>0.0</td><td>222.3333333</td><td>0.0</td><td>94.66666667</td><td>0.0</td><td>137.0</td><td>0.0</td><td>8.666666667</td><td>15.0</td><td>11.07666667</td><td>66.0</td><td>0.0</td><td>285.2333333</td><td>0.0</td><td>106.33</td><td>14.66666667</td><td>10.81666667</td><td>0.666666667</td><td>0.366666667</td><td>97.33333333</td><td>0.0</td><td>173.4766667</td><td>0.0</td><td>90.33333333</td><td>0.0</td><td>218.0866667</td><td>0.0</td><td>10.33333333</td><td>222.3333333</td><td>137.0</td><td>0.0</td><td>0.0</td><td>0</td><td>57</td><td>1</td><td>1</td><td>Y</td><td>A</td><td>N</td><td>4485</td><td>14028.0</td><td>2181.12</td><td>2166.48</td><td>13965.0</td><td>4452</td><td>38.69</td><td>249.38</td><td>79.5</td><td>558</td><td>191</td><td>55</td><td>586</td><td>196</td><td>80</td><td>U</td><td>NEW ENGLAND AREA</td><td>Y</td><td>N</td><td>149.9899902</td><td>6</td><td>4</td><td>WCMB</td><td>0</td><td>0</td><td>R</td><td>5</td><td>M</td><td>S</td><td>1</td><td>M</td><td>6</td><td>1</td><td>C</td><td>O</td><td>0</td><td>I</td><td>U</td><td>U</td><td>U</td><td>U</td><td>U</td><td>Y</td><td>434</td><td>1000005</td><td>1</td></tr>\n",
       "<tr><td>82.275</td><td>1312.25</td><td>75.0</td><td>1.2375</td><td>0.0</td><td>0.0</td><td>0.0</td><td>0.0</td><td>0.0</td><td>156.75</td><td>8.145</td><td>52.0</td><td>0.0</td><td>7.666666667</td><td>0.0</td><td>76.0</td><td>0.0</td><td>702.0</td><td>0.0</td><td>365.0</td><td>0.0</td><td>577.3333333</td><td>0.0</td><td>4.333333333</td><td>11.0</td><td>7.753333333</td><td>301.6666667</td><td>1.333333333</td><td>369.5366667</td><td>0.0</td><td>200.32</td><td>370.3333333</td><td>243.2133333</td><td>147.0</td><td>85.14666667</td><td>555.6666667</td><td>0.0</td><td>382.0966667</td><td>0.0</td><td>303.6666667</td><td>0.0</td><td>187.76</td><td>0.0</td><td>59.66666667</td><td>702.0</td><td>577.3333333</td><td>0.0</td><td>22.66666667</td><td>0</td><td>59</td><td>2</td><td>2</td><td>Y</td><td>C</td><td>N</td><td>26812</td><td>40869.0</td><td>4033.98</td><td>3932.9</td><td>40295.0</td><td>26362</td><td>83.68</td><td>857.34</td><td>560.89</td><td>1260</td><td>960</td><td>80</td><td>1187</td><td>853</td><td>78</td><td>U</td><td>GREAT LAKES AREA</td><td>N</td><td>N</td><td>129.9899902</td><td>9</td><td>4</td><td>WCMB</td><td>0</td><td>0</td><td>O</td><td>1</td><td>U</td><td>S</td><td>1</td><td>M</td><td>6</td><td>1</td><td>C</td><td>U</td><td>0</td><td>U</td><td>U</td><td>U</td><td>U</td><td>U</td><td>U</td><td>Y</td><td>458</td><td>1000006</td><td>1</td></tr>\n",
       "<tr><td>17.145</td><td>0.0</td><td>16.99</td><td>0.0</td><td>0.0</td><td>0.0</td><td>0.0</td><td>0.0</td><td>0.0</td><td>0.0</td><td>-0.155</td><td>0.0</td><td>0.0</td><td>0.0</td><td>0.0</td><td>0.0</td><td>0.0</td><td>0.0</td><td>0.0</td><td>0.0</td><td>0.0</td><td>0.0</td><td>0.0</td><td>0.0</td><td>0.0</td><td>0.0</td><td>0.0</td><td>0.0</td><td>0.0</td><td>0.0</td><td>0.0</td><td>0.0</td><td>0.0</td><td>0.0</td><td>0.0</td><td>0.0</td><td>0.0</td><td>0.0</td><td>0.0</td><td>0.0</td><td>0.0</td><td>0.0</td><td>0.0</td><td>0.0</td><td>0.0</td><td>0.0</td><td>0.0</td><td>0.0</td><td>1</td><td>53</td><td>2</td><td>2</td><td>N</td><td>A</td><td>N</td><td>6279</td><td>17390.03333</td><td>3091.7</td><td>3065.24</td><td>17371.03</td><td>6271</td><td>58.95</td><td>334.06</td><td>120.6</td><td>0</td><td>0</td><td>17</td><td>0</td><td>0</td><td>17</td><td>C</td><td>DALLAS AREA</td><td>Y</td><td>N</td><td>29.98999023</td><td>4</td><td>3</td><td>NA</td><td>0</td><td>0</td><td>O</td><td>8</td><td>S</td><td>M</td><td>3</td><td>M</td><td>9</td><td>0</td><td>I</td><td>A</td><td>0</td><td>N</td><td>U</td><td>U</td><td>U</td><td>U</td><td>U</td><td>Y</td><td>852</td><td>1000007</td><td>1</td></tr>\n",
       "<tr><td>38.0525</td><td>682.5</td><td>52.49</td><td>0.2475</td><td>0.0</td><td>0.0</td><td>0.0</td><td>0.0</td><td>0.0</td><td>147.5</td><td>-3.0625</td><td>9.0</td><td>0.0</td><td>1.666666667</td><td>0.0</td><td>13.0</td><td>0.0</td><td>97.0</td><td>0.0</td><td>13.0</td><td>0.0</td><td>73.33333333</td><td>0.0</td><td>0.666666667</td><td>5.333333333</td><td>5.276666667</td><td>5.0</td><td>0.0</td><td>470.0233333</td><td>0.0</td><td>42.19666667</td><td>6.666666667</td><td>6.23</td><td>0.0</td><td>0.0</td><td>33.33333333</td><td>0.0</td><td>81.06666667</td><td>0.0</td><td>53.0</td><td>0.0</td><td>431.1533333</td><td>0.0</td><td>10.66666667</td><td>97.0</td><td>73.33333333</td><td>0.0</td><td>0.666666667</td><td>0</td><td>53</td><td>1</td><td>1</td><td>Y</td><td>B</td><td>N</td><td>4491</td><td>12492.0</td><td>1427.71</td><td>1423.06</td><td>12439.0</td><td>4470</td><td>34.71</td><td>303.39</td><td>109.02</td><td>633</td><td>96</td><td>39</td><td>719</td><td>112</td><td>58</td><td>null</td><td>DALLAS AREA</td><td>Y</td><td>N</td><td>79.98999023</td><td>3</td><td>2</td><td>WCMB</td><td>0</td><td>0</td><td>R</td><td>0</td><td>S</td><td>M</td><td>2</td><td>M</td><td>1</td><td>2</td><td>C</td><td>A</td><td>1</td><td>S</td><td>U</td><td>U</td><td>U</td><td>U</td><td>U</td><td>Y</td><td>231</td><td>1000008</td><td>1</td></tr>\n",
       "<tr><td>97.3375</td><td>1039.0</td><td>50.0</td><td>4.95</td><td>419.5</td><td>41.95</td><td>41.95</td><td>0.0</td><td>0.0</td><td>198.0</td><td>23.2625</td><td>12.66666667</td><td>0.0</td><td>3.0</td><td>0.0</td><td>176.0</td><td>0.0</td><td>533.6666667</td><td>0.0</td><td>96.0</td><td>0.0</td><td>346.6666667</td><td>0.0</td><td>11.33333333</td><td>13.66666667</td><td>6.25</td><td>45.0</td><td>0.333333333</td><td>460.92</td><td>0.0</td><td>213.8533333</td><td>103.3333333</td><td>54.71333333</td><td>0.333333333</td><td>0.056666667</td><td>238.3333333</td><td>0.0</td><td>377.4533333</td><td>0.0</td><td>192.3333333</td><td>0.0</td><td>297.32</td><td>0.0</td><td>15.66666667</td><td>533.6666667</td><td>346.6666667</td><td>0.0</td><td>4.0</td><td>0</td><td>55</td><td>1</td><td>1</td><td>Y</td><td>B</td><td>N</td><td>16730</td><td>43231.05333</td><td>4404.44</td><td>4313.71</td><td>42943.05</td><td>16579</td><td>81.39</td><td>810.25</td><td>312.81</td><td>973</td><td>465</td><td>90</td><td>915</td><td>434</td><td>90</td><td>S</td><td>CHICAGO AREA</td><td>Y</td><td>N</td><td>29.98999023</td><td>3</td><td>3</td><td>NA</td><td>0</td><td>0</td><td>U</td><td>3</td><td>M</td><td>M</td><td>3</td><td>M</td><td>4</td><td>1</td><td>C</td><td>E</td><td>0</td><td>F</td><td>U</td><td>U</td><td>U</td><td>U</td><td>U</td><td>N</td><td>700</td><td>1000009</td><td>1</td></tr>\n",
       "<tr><td>31.6625</td><td>25.5</td><td>29.99</td><td>0.2475</td><td>0.0</td><td>0.0</td><td>0.0</td><td>0.0</td><td>0.0</td><td>59.5</td><td>4.0275</td><td>0.0</td><td>0.0</td><td>1.0</td><td>0.0</td><td>2.333333333</td><td>0.0</td><td>6.666666667</td><td>0.0</td><td>0.0</td><td>0.0</td><td>3.333333333</td><td>0.0</td><td>0.0</td><td>0.0</td><td>0.0</td><td>0.0</td><td>0.0</td><td>3.8</td><td>0.0</td><td>0.0</td><td>0.0</td><td>0.0</td><td>0.0</td><td>0.0</td><td>1.666666667</td><td>0.0</td><td>1.866666667</td><td>0.0</td><td>1.666666667</td><td>0.0</td><td>1.933333333</td><td>0.0</td><td>1.0</td><td>6.666666667</td><td>3.333333333</td><td>0.0</td><td>0.0</td><td>0</td><td>57</td><td>2</td><td>2</td><td>N</td><td>A</td><td>N</td><td>391</td><td>994.0</td><td>1458.42</td><td>1457.84</td><td>976.0</td><td>377</td><td>26.51</td><td>17.75</td><td>6.85</td><td>6</td><td>3</td><td>30</td><td>54</td><td>7</td><td>34</td><td>C</td><td>DALLAS AREA</td><td>Y</td><td>N</td><td>79.98999023</td><td>2</td><td>2</td><td>WCMB</td><td>0</td><td>0</td><td>O</td><td>8</td><td>S</td><td>M</td><td>2</td><td>M</td><td>9</td><td>2</td><td>I</td><td>A</td><td>1</td><td>N</td><td>U</td><td>U</td><td>U</td><td>U</td><td>U</td><td>Y</td><td>601</td><td>1000010</td><td>1</td></tr>\n",
       "<tr><td>62.1275</td><td>97.5</td><td>65.985</td><td>2.475</td><td>0.0</td><td>0.0</td><td>0.0</td><td>0.0</td><td>0.0</td><td>23.5</td><td>6.8225</td><td>0.0</td><td>0.0</td><td>0.333333333</td><td>0.0</td><td>4.0</td><td>0.0</td><td>19.33333333</td><td>0.333333333</td><td>0.0</td><td>0.0</td><td>15.0</td><td>0.333333333</td><td>4.0</td><td>98.66666667</td><td>96.92</td><td>0.0</td><td>0.0</td><td>136.4933333</td><td>0.056666667</td><td>0.0</td><td>3.666666667</td><td>15.36666667</td><td>0.0</td><td>0.0</td><td>7.666666667</td><td>0.333333333</td><td>66.07333333</td><td>0.056666667</td><td>7.333333333</td><td>0.0</td><td>70.42</td><td>0.0</td><td>0.333333333</td><td>19.66666667</td><td>15.33333333</td><td>0.0</td><td>0.0</td><td>0</td><td>59</td><td>2</td><td>2</td><td>Y</td><td>A</td><td>N</td><td>2392</td><td>6868.11</td><td>3290.73</td><td>3195.01</td><td>6620.11</td><td>2312</td><td>56.05</td><td>116.14</td><td>40.56</td><td>90</td><td>16</td><td>60</td><td>123</td><td>32</td><td>64</td><td>C</td><td>DALLAS AREA</td><td>Y</td><td>N</td><td>79.98999023</td><td>3</td><td>3</td><td>WCMB</td><td>0</td><td>0</td><td>O</td><td>15</td><td>S</td><td>S</td><td>5</td><td>M</td><td>6</td><td>0</td><td>C</td><td>A</td><td>0</td><td>N</td><td>Y</td><td>U</td><td>U</td><td>U</td><td>U</td><td>Y</td><td>464</td><td>1000011</td><td>1</td></tr>\n",
       "<tr><td>35.295</td><td>24.25</td><td>34.98</td><td>0.0</td><td>0.0</td><td>0.0</td><td>0.0</td><td>0.0</td><td>0.0</td><td>19.75</td><td>-0.315</td><td>0.0</td><td>0.0</td><td>0.0</td><td>0.0</td><td>1.0</td><td>0.0</td><td>9.0</td><td>0.0</td><td>3.0</td><td>0.0</td><td>8.0</td><td>0.0</td><td>0.0</td><td>0.0</td><td>0.0</td><td>2.333333333</td><td>0.0</td><td>5.533333333</td><td>0.0</td><td>2.386666667</td><td>4.0</td><td>2.926666667</td><td>1.666666667</td><td>1.516666667</td><td>9.333333333</td><td>0.0</td><td>7.17</td><td>0.0</td><td>1.666666667</td><td>0.0</td><td>0.75</td><td>0.0</td><td>0.0</td><td>9.0</td><td>8.0</td><td>0.0</td><td>0.0</td><td>0</td><td>53</td><td>3</td><td>3</td><td>Y</td><td>A</td><td>N</td><td>3207</td><td>5579.136667</td><td>3104.16</td><td>2796.06</td><td>5358.14</td><td>3087</td><td>54.82</td><td>105.06</td><td>60.53</td><td>18</td><td>13</td><td>36</td><td>36</td><td>26</td><td>36</td><td>C</td><td>CENTRAL/SOUTH TEX...</td><td>N</td><td>N</td><td>79.98999023</td><td>4</td><td>3</td><td>WC</td><td>0</td><td>0</td><td>O</td><td>4</td><td>S</td><td>A</td><td>3</td><td>M</td><td>9</td><td>0</td><td>U</td><td>A</td><td>0</td><td>N</td><td>U</td><td>U</td><td>Y</td><td>Y</td><td>U</td><td>Y</td><td>544</td><td>1000012</td><td>1</td></tr>\n",
       "<tr><td>81.0</td><td>1056.25</td><td>75.0</td><td>0.0</td><td>0.0</td><td>0.0</td><td>0.0</td><td>0.0</td><td>0.0</td><td>42.75</td><td>2.35</td><td>0.0</td><td>0.0</td><td>0.0</td><td>0.0</td><td>0.0</td><td>0.0</td><td>0.0</td><td>0.0</td><td>0.0</td><td>0.0</td><td>0.0</td><td>0.0</td><td>0.0</td><td>0.0</td><td>0.0</td><td>0.0</td><td>0.0</td><td>0.0</td><td>0.0</td><td>0.0</td><td>0.0</td><td>0.0</td><td>0.0</td><td>0.0</td><td>0.0</td><td>0.0</td><td>0.0</td><td>0.0</td><td>0.0</td><td>0.0</td><td>0.0</td><td>0.0</td><td>0.0</td><td>0.0</td><td>0.0</td><td>0.0</td><td>0.0</td><td>0</td><td>55</td><td>1</td><td>1</td><td>Y</td><td>BA</td><td>N</td><td>31584</td><td>51857.07</td><td>4270.87</td><td>4181.91</td><td>51553.07</td><td>31397</td><td>78.9</td><td>972.7</td><td>592.4</td><td>1042</td><td>625</td><td>80</td><td>999</td><td>625</td><td>76</td><td>U</td><td>GREAT LAKES AREA</td><td>Y</td><td>N</td><td>199.9899902</td><td>9</td><td>5</td><td>WCMB</td><td>0</td><td>0</td><td>O</td><td>15</td><td>S</td><td>S</td><td>3</td><td>M</td><td>5</td><td>0</td><td>B</td><td>A</td><td>0</td><td>J</td><td>U</td><td>U</td><td>U</td><td>U</td><td>U</td><td>Y</td><td>388</td><td>1000013</td><td>1</td></tr>\n",
       "<tr><td>25.225</td><td>2.5</td><td>25.0</td><td>0.0</td><td>0.0</td><td>0.0</td><td>0.0</td><td>0.0</td><td>0.0</td><td>-2.5</td><td>-0.225</td><td>0.0</td><td>0.0</td><td>0.0</td><td>0.0</td><td>0.333333333</td><td>0.0</td><td>1.333333333</td><td>0.0</td><td>0.333333333</td><td>0.0</td><td>1.0</td><td>0.0</td><td>0.0</td><td>0.0</td><td>0.0</td><td>0.0</td><td>0.0</td><td>1.306666667</td><td>0.0</td><td>1.133333333</td><td>0.333333333</td><td>0.023333333</td><td>0.0</td><td>0.0</td><td>0.666666667</td><td>0.0</td><td>2.2</td><td>0.0</td><td>0.666666667</td><td>0.0</td><td>0.24</td><td>0.0</td><td>0.0</td><td>1.333333333</td><td>1.0</td><td>0.0</td><td>0.0</td><td>0</td><td>53</td><td>2</td><td>2</td><td>Y</td><td>A</td><td>N</td><td>400</td><td>642.0</td><td>1370.94</td><td>1323.62</td><td>613.0</td><td>385</td><td>25.95</td><td>12.02</td><td>7.55</td><td>3</td><td>2</td><td>25</td><td>4</td><td>3</td><td>25</td><td>C</td><td>CENTRAL/SOUTH TEX...</td><td>Y</td><td>N</td><td>59.98999023</td><td>2</td><td>2</td><td>WCMB</td><td>1</td><td>0</td><td>U</td><td>1</td><td>S</td><td>U</td><td>1</td><td>M</td><td>7</td><td>0</td><td>A</td><td>A</td><td>0</td><td>N</td><td>U</td><td>U</td><td>U</td><td>U</td><td>U</td><td>N</td><td>354</td><td>1000014</td><td>1</td></tr>\n",
       "<tr><td>212.515</td><td>1971.5</td><td>84.99</td><td>2.2275</td><td>249.5</td><td>99.8</td><td>99.8</td><td>0.0</td><td>35.4975</td><td>-200.5</td><td>-106.765</td><td>9.0</td><td>0.0</td><td>0.0</td><td>0.0</td><td>43.66666667</td><td>0.0</td><td>344.6666667</td><td>0.0</td><td>271.3333333</td><td>0.0</td><td>296.0</td><td>0.0</td><td>0.333333333</td><td>3.333333333</td><td>3.316666667</td><td>126.3333333</td><td>0.0</td><td>581.2966667</td><td>0.0</td><td>718.07</td><td>49.33333333</td><td>35.16333333</td><td>4.666666667</td><td>9.263333333</td><td>351.6666667</td><td>0.0</td><td>864.1733333</td><td>0.0</td><td>128.6666667</td><td>0.0</td><td>435.1933333</td><td>0.0</td><td>9.0</td><td>344.6666667</td><td>296.0</td><td>0.0</td><td>1.0</td><td>0</td><td>59</td><td>5</td><td>1</td><td>Y</td><td>C</td><td>N</td><td>33184</td><td>69161.08333</td><td>6616.72</td><td>6572.7</td><td>69104.08</td><td>33139</td><td>115.31</td><td>1212.35</td><td>581.39</td><td>2038</td><td>637</td><td>248</td><td>1817</td><td>576</td><td>182</td><td>S</td><td>NORTHWEST/ROCKY M...</td><td>Y</td><td>N</td><td>149.9899902</td><td>10</td><td>6</td><td>WCMB</td><td>0</td><td>0</td><td>O</td><td>11</td><td>S</td><td>S</td><td>3</td><td>M</td><td>3</td><td>2</td><td>I</td><td>A</td><td>0</td><td>N</td><td>U</td><td>U</td><td>Y</td><td>U</td><td>U</td><td>Y</td><td>199</td><td>1000015</td><td>1</td></tr>\n",
       "<tr><td>42.565</td><td>270.5</td><td>37.48</td><td>0.2475</td><td>6.0</td><td>1.5</td><td>1.5</td><td>0.0</td><td>0.0</td><td>201.5</td><td>-1.785</td><td>3.333333333</td><td>0.0</td><td>1.666666667</td><td>0.0</td><td>7.666666667</td><td>0.0</td><td>67.66666667</td><td>0.0</td><td>25.33333333</td><td>0.0</td><td>55.33333333</td><td>0.0</td><td>1.0</td><td>1.666666667</td><td>1.026666667</td><td>11.66666667</td><td>0.0</td><td>117.8466667</td><td>0.0</td><td>57.09333333</td><td>11.0</td><td>10.81</td><td>3.666666667</td><td>4.0</td><td>62.33333333</td><td>0.0</td><td>136.7966667</td><td>0.0</td><td>18.0</td><td>0.0</td><td>38.14333333</td><td>0.0</td><td>5.0</td><td>67.66666667</td><td>55.33333333</td><td>0.0</td><td>0.333333333</td><td>0</td><td>55</td><td>2</td><td>2</td><td>N</td><td>B</td><td>N</td><td>7586</td><td>15226.03</td><td>2311.08</td><td>2303.38</td><td>15180.03</td><td>7560</td><td>43.46</td><td>286.42</td><td>142.64</td><td>203</td><td>106</td><td>43</td><td>222</td><td>115</td><td>41</td><td>S</td><td>DALLAS AREA</td><td>Y</td><td>N</td><td>79.98999023</td><td>5</td><td>4</td><td>WCMB</td><td>0</td><td>0</td><td>O</td><td>4</td><td>M</td><td>U</td><td>3</td><td>M</td><td>1</td><td>0</td><td>U</td><td>U</td><td>0</td><td>N</td><td>U</td><td>Y</td><td>U</td><td>U</td><td>U</td><td>Y</td><td>697</td><td>1000016</td><td>1</td></tr>\n",
       "<tr><td>63.0175</td><td>440.25</td><td>59.98</td><td>0.0</td><td>5.75</td><td>1.725</td><td>1.725</td><td>0.0</td><td>1.3125</td><td>-16.25</td><td>0.2125</td><td>5.0</td><td>0.0</td><td>0.0</td><td>0.0</td><td>17.33333333</td><td>0.0</td><td>138.3333333</td><td>0.0</td><td>53.0</td><td>0.0</td><td>118.0</td><td>0.0</td><td>3.666666667</td><td>10.66666667</td><td>8.27</td><td>22.0</td><td>0.333333333</td><td>225.0533333</td><td>0.0</td><td>93.87666667</td><td>0.0</td><td>0.0</td><td>0.0</td><td>0.0</td><td>141.3333333</td><td>0.0</td><td>268.56</td><td>0.0</td><td>14.33333333</td><td>0.0</td><td>50.37</td><td>0.0</td><td>5.0</td><td>138.3333333</td><td>118.0</td><td>0.0</td><td>1.666666667</td><td>0</td><td>57</td><td>1</td><td>1</td><td>N</td><td>B</td><td>N</td><td>4078</td><td>11330.0</td><td>1739.43</td><td>1722.98</td><td>11316.0</td><td>4067</td><td>50.68</td><td>332.82</td><td>119.62</td><td>446</td><td>193</td><td>63</td><td>429</td><td>183</td><td>64</td><td>T</td><td>NORTHWEST/ROCKY M...</td><td>N</td><td>N</td><td>29.98999023</td><td>3</td><td>2</td><td>WCMB</td><td>0</td><td>0</td><td>O</td><td>3</td><td>S</td><td>U</td><td>2</td><td>M</td><td>3</td><td>1</td><td>C</td><td>A</td><td>0</td><td>N</td><td>U</td><td>U</td><td>U</td><td>U</td><td>U</td><td>Y</td><td>530</td><td>1000017</td><td>1</td></tr>\n",
       "<tr><td>35.59</td><td>153.0</td><td>29.99</td><td>0.0</td><td>16.0</td><td>5.6</td><td>5.6</td><td>0.0</td><td>0.0</td><td>30.0</td><td>7.35</td><td>2.0</td><td>0.0</td><td>0.666666667</td><td>0.0</td><td>17.33333333</td><td>0.0</td><td>53.0</td><td>0.0</td><td>26.0</td><td>0.0</td><td>33.33333333</td><td>0.0</td><td>0.0</td><td>0.0</td><td>0.0</td><td>14.66666667</td><td>0.0</td><td>50.13333333</td><td>0.0</td><td>33.10666667</td><td>8.0</td><td>10.94666667</td><td>4.666666667</td><td>5.253333333</td><td>48.33333333</td><td>0.0</td><td>77.15333333</td><td>0.0</td><td>7.0</td><td>0.0</td><td>6.086666667</td><td>0.0</td><td>2.666666667</td><td>53.0</td><td>33.33333333</td><td>0.0</td><td>0.333333333</td><td>0</td><td>59</td><td>3</td><td>2</td><td>N</td><td>A</td><td>N</td><td>7043</td><td>12661.0</td><td>2036.85</td><td>2013.28</td><td>12657.0</td><td>7041</td><td>36.61</td><td>230.13</td><td>128.02</td><td>143</td><td>76</td><td>33</td><td>135</td><td>73</td><td>32</td><td>U</td><td>NORTHWEST/ROCKY M...</td><td>N</td><td>N</td><td>79.98999023</td><td>6</td><td>5</td><td>WC</td><td>1</td><td>1</td><td>O</td><td>7</td><td>S</td><td>S</td><td>5</td><td>M</td><td>4</td><td>0</td><td>C</td><td>A</td><td>0</td><td>N</td><td>U</td><td>U</td><td>U</td><td>U</td><td>Y</td><td>Y</td><td>48</td><td>1000018</td><td>1</td></tr>\n",
       "<tr><td>55.27</td><td>1212.75</td><td>49.99</td><td>0.7425</td><td>0.0</td><td>0.0</td><td>0.0</td><td>0.0</td><td>1.285</td><td>169.25</td><td>0.99</td><td>2.666666667</td><td>0.0</td><td>6.0</td><td>0.0</td><td>43.66666667</td><td>0.0</td><td>225.0</td><td>0.0</td><td>121.6666667</td><td>0.0</td><td>173.6666667</td><td>0.0</td><td>4.333333333</td><td>9.666666667</td><td>7.5</td><td>43.0</td><td>0.0</td><td>456.98</td><td>0.0</td><td>490.1266667</td><td>50.66666667</td><td>50.00666667</td><td>8.333333333</td><td>18.40666667</td><td>189.3333333</td><td>0.0</td><td>593.0866667</td><td>0.0</td><td>105.0</td><td>0.0</td><td>354.02</td><td>0.0</td><td>8.666666667</td><td>225.0</td><td>173.6666667</td><td>0.0</td><td>4.333333333</td><td>0</td><td>52</td><td>1</td><td>1</td><td>N</td><td>A</td><td>N</td><td>8468</td><td>23835.0</td><td>1935.97</td><td>1914.23</td><td>23524.0</td><td>8378</td><td>47.86</td><td>588.1</td><td>209.45</td><td>1156</td><td>254</td><td>55</td><td>1031</td><td>248</td><td>55</td><td>S</td><td>DALLAS AREA</td><td>Y</td><td>N</td><td>29.98999023</td><td>4</td><td>4</td><td>WC</td><td>0</td><td>0</td><td>O</td><td>10</td><td>S</td><td>B</td><td>1</td><td>M</td><td>3</td><td>1</td><td>C</td><td>A</td><td>0</td><td>N</td><td>U</td><td>U</td><td>U</td><td>U</td><td>U</td><td>Y</td><td>408</td><td>1000019</td><td>1</td></tr>\n",
       "<tr><td>50.965</td><td>162.0</td><td>69.99</td><td>0.0</td><td>2.5</td><td>0.975</td><td>0.0</td><td>0.975</td><td>0.0</td><td>-58.0</td><td>-0.975</td><td>1.666666667</td><td>0.0</td><td>0.333333333</td><td>0.0</td><td>9.0</td><td>0.0</td><td>60.66666667</td><td>1.333333333</td><td>14.0</td><td>0.0</td><td>50.0</td><td>1.333333333</td><td>0.333333333</td><td>0.333333333</td><td>0.276666667</td><td>7.0</td><td>0.0</td><td>65.24666667</td><td>2.373333333</td><td>38.37333333</td><td>34.33333333</td><td>17.40666667</td><td>5.666666667</td><td>11.69</td><td>19.33333333</td><td>0.0</td><td>37.26666667</td><td>0.0</td><td>42.33333333</td><td>1.333333333</td><td>66.35333333</td><td>2.373333333</td><td>2.0</td><td>62.0</td><td>51.33333333</td><td>0.0</td><td>0.0</td><td>0</td><td>56</td><td>1</td><td>1</td><td>Y</td><td>B</td><td>N</td><td>1319</td><td>4531.016667</td><td>1348.33</td><td>1276.0</td><td>4504.02</td><td>1306</td><td>42.53</td><td>150.13</td><td>43.53</td><td>181</td><td>63</td><td>51</td><td>240</td><td>62</td><td>51</td><td>U</td><td>CHICAGO AREA</td><td>Y</td><td>N</td><td>129.9899902</td><td>4</td><td>3</td><td>WCMB</td><td>0</td><td>0</td><td>R</td><td>15</td><td>S</td><td>S</td><td>4</td><td>M</td><td>1</td><td>2</td><td>C</td><td>A</td><td>0</td><td>S</td><td>U</td><td>U</td><td>Y</td><td>Y</td><td>Y</td><td>N</td><td>253</td><td>1000020</td><td>1</td></tr>\n",
       "</table>\n",
       "only showing top 20 rows\n"
      ],
      "text/plain": [
       "+--------+--------+-----------+-------+-----------+-----------+-----------+-----------+---------+----------+----------+-------------+-------------+-------------+-------------+-------------+-------------+-------------+-------------+-------------+-------------+-------------+-------------+-------------+-------------+-----------+-------------+-------------+-------------+-------------+-------------+---------------+---------------+---------------+---------------+-------------+-------------+-------------+-------------+------------+------------+-------------+-------------+-------------+------------+-------------+-------------+-------------+-----+------+--------+--------+--------+--------+--------+--------+-----------+-------+-------+--------+------+------+-------+------+-------+-------+-------+-------+-------+-------+----------------+--------------------+--------+----------+-----------+------+------+----------+-----+---+-------+---+--------+-------+------+--------+------+--------+--------+--------+--------+------+------+------+-------+--------+--------+--------+-------+-----------+--------+\n",
       "|rev_Mean|mou_Mean|totmrc_Mean|da_Mean|ovrmou_Mean|ovrrev_Mean|vceovr_Mean|datovr_Mean|roam_Mean|change_mou|change_rev|drop_vce_Mean|drop_dat_Mean|blck_vce_Mean|blck_dat_Mean|unan_vce_Mean|unan_dat_Mean|plcd_vce_Mean|plcd_dat_Mean|recv_vce_Mean|recv_sms_Mean|comp_vce_Mean|comp_dat_Mean|custcare_Mean|ccrndmou_Mean|cc_mou_Mean|inonemin_Mean|threeway_Mean|mou_cvce_Mean|mou_cdat_Mean|mou_rvce_Mean|owylis_vce_Mean|mouowylisv_Mean|iwylis_vce_Mean|mouiwylisv_Mean|peak_vce_Mean|peak_dat_Mean|mou_peav_Mean|mou_pead_Mean|opk_vce_Mean|opk_dat_Mean|mou_opkv_Mean|mou_opkd_Mean|drop_blk_Mean|attempt_Mean|complete_Mean|callfwdv_Mean|callwait_Mean|churn|months|uniqsubs|actvsubs|new_cell|crclscod|asl_flag|totcalls|     totmou| totrev| adjrev|  adjmou|adjqty|avgrev| avgmou|avgqty|avg3mou|avg3qty|avg3rev|avg6mou|avg6qty|avg6rev|prizm_social_one|                area|dualband|refurb_new|  hnd_price|phones|models|hnd_webcap|truck| rv|ownrent|lor|dwlltype|marital|adults|infobase|income|numbcars|HHstatin|dwllsize|forgntvl|ethnic|kid0_2|kid3_5|kid6_10|kid11_15|kid16_17|creditcd|eqpdays|Customer_ID|lor_null|\n",
       "+--------+--------+-----------+-------+-----------+-----------+-----------+-----------+---------+----------+----------+-------------+-------------+-------------+-------------+-------------+-------------+-------------+-------------+-------------+-------------+-------------+-------------+-------------+-------------+-----------+-------------+-------------+-------------+-------------+-------------+---------------+---------------+---------------+---------------+-------------+-------------+-------------+-------------+------------+------------+-------------+-------------+-------------+------------+-------------+-------------+-------------+-----+------+--------+--------+--------+--------+--------+--------+-----------+-------+-------+--------+------+------+-------+------+-------+-------+-------+-------+-------+-------+----------------+--------------------+--------+----------+-----------+------+------+----------+-----+---+-------+---+--------+-------+------+--------+------+--------+--------+--------+--------+------+------+------+-------+--------+--------+--------+-------+-----------+--------+\n",
       "| 23.9975|  219.25|       22.5| 0.2475|        0.0|        0.0|        0.0|        0.0|      0.0|   -157.25|  -18.9975|  0.666666667|          0.0|  0.666666667|          0.0|  6.333333333|          0.0|  52.33333333|          0.0|  42.33333333|          0.0|         45.0|          0.0|          0.0|          0.0|        0.0|         18.0|          0.0|  90.64333333|          0.0|  97.17666667|            0.0|            0.0|            0.0|            0.0|         58.0|          0.0|        132.6|          0.0|        24.0|         0.0|        55.22|          0.0|  1.333333333| 52.33333333|         45.0|          0.0|  0.333333333|    1|    61|       2|       1|       U|       A|       N|    1652|     4228.0|1504.62|1453.44|  4085.0|  1602| 29.66|  83.37| 32.69|    272|    116|     30|    322|    136|     38|               S|NORTHWEST/ROCKY M...|       Y|         N|149.9899902|     2|     2|      WCMB|    0|  0|      O| 15|       S|      S|     1|       M|     4|       3|       C|       A|       0|     N|     U|     U|      U|       U|       U|       Y|    361|    1000001|       1|\n",
       "| 57.4925|  482.75|     37.425| 0.2475|      22.75|        9.1|        9.1|        0.0|      0.0|    532.25|   50.9875|  8.333333333|          0.0|          1.0|          0.0|  61.33333333|          0.0|  263.3333333|          0.0|         69.0|          0.0|  193.3333333|          0.0|  1.666666667|  6.333333333|5.463333333|         53.0|  0.333333333|  189.3966667|          0.0|        55.28|    46.33333333|    24.21666667|    6.333333333|    3.696666667|  83.66666667|          0.0|  75.33333333|          0.0|       157.0|         0.0|  169.3433333|          0.0|  9.333333333| 263.3333333|  193.3333333|          0.0|  5.666666667|    0|    56|       1|       1|       N|      EA|       N|   14654|    26400.0|2851.68|2833.88| 26367.0| 14624| 51.53|  479.4|265.89|    305|    158|     40|    477|    275|     48|               U|        CHICAGO AREA|       N|         N|       null|     7|     6|        WC|    1|  1|      U|  1|       S|      S|     1|       M|     5|       1|       C|       A|       0|     Z|     U|     U|      U|       U|       U|       Y|    240|    1000002|       1|\n",
       "|   16.99|   10.25|      16.99|    0.0|        0.0|        0.0|        0.0|        0.0|      0.0|     -4.25|       0.0|  0.333333333|          0.0|          0.0|          0.0|  2.666666667|          0.0|          9.0|          0.0|  0.333333333|          0.0|          6.0|          0.0|          0.0|          0.0|        0.0|  0.333333333|          0.0|  5.426666667|          0.0|          0.0|            0.0|            0.0|            0.0|            0.0|          5.0|          0.0|  5.193333333|          0.0|         1.0|         0.0|  0.233333333|          0.0|  0.333333333|         9.0|          6.0|          0.0|          0.0|    1|    58|       1|       1|       Y|       C|       N|    7903|24385.05333|2155.91|1934.47|24303.05|  7888| 34.54| 433.98|140.86|     12|      7|     17|     11|      6|     17|               S|    GREAT LAKES AREA|       N|         N|29.98999023|     2|     1|        NA|    0|  0|      O|  7|       S|      M|     2|       M|     5|       2|       C|       A|       0|     N|     U|     Y|      U|       U|       U|       Y|   1504|    1000003|       1|\n",
       "|    38.0|     7.5|       38.0|    0.0|        0.0|        0.0|        0.0|        0.0|      0.0|      -1.5|       0.0|          0.0|          0.0|          0.0|          0.0|          0.0|          0.0|  3.666666667|          0.0|  1.333333333|          0.0|  3.666666667|          0.0|          0.0|          0.0|        0.0|  1.333333333|          0.0|         8.41|          0.0|  0.413333333|    0.333333333|    0.256666667|            0.0|            0.0|  1.333333333|          0.0|         3.38|          0.0| 3.666666667|         0.0|         5.45|          0.0|          0.0| 3.666666667|  3.666666667|          0.0|          0.0|    0|    60|       1|       1|       Y|       B|       N|    1502|     3065.0| 2000.9|1941.81|  3035.0|  1479| 40.45|  63.23| 30.81|      8|      3|     38|     50|     25|     40|               T|        CHICAGO AREA|       N|         N|29.98999023|     1|     1|        NA|    0|  0|      U|  6|       M|      M|     4|       M|     6|       1|       C|       D|       0|     U|     Y|     U|      U|       U|       U|       Y|   1812|    1000004|       1|\n",
       "|   55.23|   570.5|      71.98|    0.0|        0.0|        0.0|        0.0|        0.0|      0.0|      38.5|       0.0|  9.666666667|          0.0|  0.666666667|          0.0|         77.0|          0.0|  222.3333333|          0.0|  94.66666667|          0.0|        137.0|          0.0|  8.666666667|         15.0|11.07666667|         66.0|          0.0|  285.2333333|          0.0|       106.33|    14.66666667|    10.81666667|    0.666666667|    0.366666667|  97.33333333|          0.0|  173.4766667|          0.0| 90.33333333|         0.0|  218.0866667|          0.0|  10.33333333| 222.3333333|        137.0|          0.0|          0.0|    0|    57|       1|       1|       Y|       A|       N|    4485|    14028.0|2181.12|2166.48| 13965.0|  4452| 38.69| 249.38|  79.5|    558|    191|     55|    586|    196|     80|               U|    NEW ENGLAND AREA|       Y|         N|149.9899902|     6|     4|      WCMB|    0|  0|      R|  5|       M|      S|     1|       M|     6|       1|       C|       O|       0|     I|     U|     U|      U|       U|       U|       Y|    434|    1000005|       1|\n",
       "|  82.275| 1312.25|       75.0| 1.2375|        0.0|        0.0|        0.0|        0.0|      0.0|    156.75|     8.145|         52.0|          0.0|  7.666666667|          0.0|         76.0|          0.0|        702.0|          0.0|        365.0|          0.0|  577.3333333|          0.0|  4.333333333|         11.0|7.753333333|  301.6666667|  1.333333333|  369.5366667|          0.0|       200.32|    370.3333333|    243.2133333|          147.0|    85.14666667|  555.6666667|          0.0|  382.0966667|          0.0| 303.6666667|         0.0|       187.76|          0.0|  59.66666667|       702.0|  577.3333333|          0.0|  22.66666667|    0|    59|       2|       2|       Y|       C|       N|   26812|    40869.0|4033.98| 3932.9| 40295.0| 26362| 83.68| 857.34|560.89|   1260|    960|     80|   1187|    853|     78|               U|    GREAT LAKES AREA|       N|         N|129.9899902|     9|     4|      WCMB|    0|  0|      O|  1|       U|      S|     1|       M|     6|       1|       C|       U|       0|     U|     U|     U|      U|       U|       U|       Y|    458|    1000006|       1|\n",
       "|  17.145|     0.0|      16.99|    0.0|        0.0|        0.0|        0.0|        0.0|      0.0|       0.0|    -0.155|          0.0|          0.0|          0.0|          0.0|          0.0|          0.0|          0.0|          0.0|          0.0|          0.0|          0.0|          0.0|          0.0|          0.0|        0.0|          0.0|          0.0|          0.0|          0.0|          0.0|            0.0|            0.0|            0.0|            0.0|          0.0|          0.0|          0.0|          0.0|         0.0|         0.0|          0.0|          0.0|          0.0|         0.0|          0.0|          0.0|          0.0|    1|    53|       2|       2|       N|       A|       N|    6279|17390.03333| 3091.7|3065.24|17371.03|  6271| 58.95| 334.06| 120.6|      0|      0|     17|      0|      0|     17|               C|         DALLAS AREA|       Y|         N|29.98999023|     4|     3|        NA|    0|  0|      O|  8|       S|      M|     3|       M|     9|       0|       I|       A|       0|     N|     U|     U|      U|       U|       U|       Y|    852|    1000007|       1|\n",
       "| 38.0525|   682.5|      52.49| 0.2475|        0.0|        0.0|        0.0|        0.0|      0.0|     147.5|   -3.0625|          9.0|          0.0|  1.666666667|          0.0|         13.0|          0.0|         97.0|          0.0|         13.0|          0.0|  73.33333333|          0.0|  0.666666667|  5.333333333|5.276666667|          5.0|          0.0|  470.0233333|          0.0|  42.19666667|    6.666666667|           6.23|            0.0|            0.0|  33.33333333|          0.0|  81.06666667|          0.0|        53.0|         0.0|  431.1533333|          0.0|  10.66666667|        97.0|  73.33333333|          0.0|  0.666666667|    0|    53|       1|       1|       Y|       B|       N|    4491|    12492.0|1427.71|1423.06| 12439.0|  4470| 34.71| 303.39|109.02|    633|     96|     39|    719|    112|     58|            null|         DALLAS AREA|       Y|         N|79.98999023|     3|     2|      WCMB|    0|  0|      R|  0|       S|      M|     2|       M|     1|       2|       C|       A|       1|     S|     U|     U|      U|       U|       U|       Y|    231|    1000008|       1|\n",
       "| 97.3375|  1039.0|       50.0|   4.95|      419.5|      41.95|      41.95|        0.0|      0.0|     198.0|   23.2625|  12.66666667|          0.0|          3.0|          0.0|        176.0|          0.0|  533.6666667|          0.0|         96.0|          0.0|  346.6666667|          0.0|  11.33333333|  13.66666667|       6.25|         45.0|  0.333333333|       460.92|          0.0|  213.8533333|    103.3333333|    54.71333333|    0.333333333|    0.056666667|  238.3333333|          0.0|  377.4533333|          0.0| 192.3333333|         0.0|       297.32|          0.0|  15.66666667| 533.6666667|  346.6666667|          0.0|          4.0|    0|    55|       1|       1|       Y|       B|       N|   16730|43231.05333|4404.44|4313.71|42943.05| 16579| 81.39| 810.25|312.81|    973|    465|     90|    915|    434|     90|               S|        CHICAGO AREA|       Y|         N|29.98999023|     3|     3|        NA|    0|  0|      U|  3|       M|      M|     3|       M|     4|       1|       C|       E|       0|     F|     U|     U|      U|       U|       U|       N|    700|    1000009|       1|\n",
       "| 31.6625|    25.5|      29.99| 0.2475|        0.0|        0.0|        0.0|        0.0|      0.0|      59.5|    4.0275|          0.0|          0.0|          1.0|          0.0|  2.333333333|          0.0|  6.666666667|          0.0|          0.0|          0.0|  3.333333333|          0.0|          0.0|          0.0|        0.0|          0.0|          0.0|          3.8|          0.0|          0.0|            0.0|            0.0|            0.0|            0.0|  1.666666667|          0.0|  1.866666667|          0.0| 1.666666667|         0.0|  1.933333333|          0.0|          1.0| 6.666666667|  3.333333333|          0.0|          0.0|    0|    57|       2|       2|       N|       A|       N|     391|      994.0|1458.42|1457.84|   976.0|   377| 26.51|  17.75|  6.85|      6|      3|     30|     54|      7|     34|               C|         DALLAS AREA|       Y|         N|79.98999023|     2|     2|      WCMB|    0|  0|      O|  8|       S|      M|     2|       M|     9|       2|       I|       A|       1|     N|     U|     U|      U|       U|       U|       Y|    601|    1000010|       1|\n",
       "| 62.1275|    97.5|     65.985|  2.475|        0.0|        0.0|        0.0|        0.0|      0.0|      23.5|    6.8225|          0.0|          0.0|  0.333333333|          0.0|          4.0|          0.0|  19.33333333|  0.333333333|          0.0|          0.0|         15.0|  0.333333333|          4.0|  98.66666667|      96.92|          0.0|          0.0|  136.4933333|  0.056666667|          0.0|    3.666666667|    15.36666667|            0.0|            0.0|  7.666666667|  0.333333333|  66.07333333|  0.056666667| 7.333333333|         0.0|        70.42|          0.0|  0.333333333| 19.66666667|  15.33333333|          0.0|          0.0|    0|    59|       2|       2|       Y|       A|       N|    2392|    6868.11|3290.73|3195.01| 6620.11|  2312| 56.05| 116.14| 40.56|     90|     16|     60|    123|     32|     64|               C|         DALLAS AREA|       Y|         N|79.98999023|     3|     3|      WCMB|    0|  0|      O| 15|       S|      S|     5|       M|     6|       0|       C|       A|       0|     N|     Y|     U|      U|       U|       U|       Y|    464|    1000011|       1|\n",
       "|  35.295|   24.25|      34.98|    0.0|        0.0|        0.0|        0.0|        0.0|      0.0|     19.75|    -0.315|          0.0|          0.0|          0.0|          0.0|          1.0|          0.0|          9.0|          0.0|          3.0|          0.0|          8.0|          0.0|          0.0|          0.0|        0.0|  2.333333333|          0.0|  5.533333333|          0.0|  2.386666667|            4.0|    2.926666667|    1.666666667|    1.516666667|  9.333333333|          0.0|         7.17|          0.0| 1.666666667|         0.0|         0.75|          0.0|          0.0|         9.0|          8.0|          0.0|          0.0|    0|    53|       3|       3|       Y|       A|       N|    3207|5579.136667|3104.16|2796.06| 5358.14|  3087| 54.82| 105.06| 60.53|     18|     13|     36|     36|     26|     36|               C|CENTRAL/SOUTH TEX...|       N|         N|79.98999023|     4|     3|        WC|    0|  0|      O|  4|       S|      A|     3|       M|     9|       0|       U|       A|       0|     N|     U|     U|      Y|       Y|       U|       Y|    544|    1000012|       1|\n",
       "|    81.0| 1056.25|       75.0|    0.0|        0.0|        0.0|        0.0|        0.0|      0.0|     42.75|      2.35|          0.0|          0.0|          0.0|          0.0|          0.0|          0.0|          0.0|          0.0|          0.0|          0.0|          0.0|          0.0|          0.0|          0.0|        0.0|          0.0|          0.0|          0.0|          0.0|          0.0|            0.0|            0.0|            0.0|            0.0|          0.0|          0.0|          0.0|          0.0|         0.0|         0.0|          0.0|          0.0|          0.0|         0.0|          0.0|          0.0|          0.0|    0|    55|       1|       1|       Y|      BA|       N|   31584|   51857.07|4270.87|4181.91|51553.07| 31397|  78.9|  972.7| 592.4|   1042|    625|     80|    999|    625|     76|               U|    GREAT LAKES AREA|       Y|         N|199.9899902|     9|     5|      WCMB|    0|  0|      O| 15|       S|      S|     3|       M|     5|       0|       B|       A|       0|     J|     U|     U|      U|       U|       U|       Y|    388|    1000013|       1|\n",
       "|  25.225|     2.5|       25.0|    0.0|        0.0|        0.0|        0.0|        0.0|      0.0|      -2.5|    -0.225|          0.0|          0.0|          0.0|          0.0|  0.333333333|          0.0|  1.333333333|          0.0|  0.333333333|          0.0|          1.0|          0.0|          0.0|          0.0|        0.0|          0.0|          0.0|  1.306666667|          0.0|  1.133333333|    0.333333333|    0.023333333|            0.0|            0.0|  0.666666667|          0.0|          2.2|          0.0| 0.666666667|         0.0|         0.24|          0.0|          0.0| 1.333333333|          1.0|          0.0|          0.0|    0|    53|       2|       2|       Y|       A|       N|     400|      642.0|1370.94|1323.62|   613.0|   385| 25.95|  12.02|  7.55|      3|      2|     25|      4|      3|     25|               C|CENTRAL/SOUTH TEX...|       Y|         N|59.98999023|     2|     2|      WCMB|    1|  0|      U|  1|       S|      U|     1|       M|     7|       0|       A|       A|       0|     N|     U|     U|      U|       U|       U|       N|    354|    1000014|       1|\n",
       "| 212.515|  1971.5|      84.99| 2.2275|      249.5|       99.8|       99.8|        0.0|  35.4975|    -200.5|  -106.765|          9.0|          0.0|          0.0|          0.0|  43.66666667|          0.0|  344.6666667|          0.0|  271.3333333|          0.0|        296.0|          0.0|  0.333333333|  3.333333333|3.316666667|  126.3333333|          0.0|  581.2966667|          0.0|       718.07|    49.33333333|    35.16333333|    4.666666667|    9.263333333|  351.6666667|          0.0|  864.1733333|          0.0| 128.6666667|         0.0|  435.1933333|          0.0|          9.0| 344.6666667|        296.0|          0.0|          1.0|    0|    59|       5|       1|       Y|       C|       N|   33184|69161.08333|6616.72| 6572.7|69104.08| 33139|115.31|1212.35|581.39|   2038|    637|    248|   1817|    576|    182|               S|NORTHWEST/ROCKY M...|       Y|         N|149.9899902|    10|     6|      WCMB|    0|  0|      O| 11|       S|      S|     3|       M|     3|       2|       I|       A|       0|     N|     U|     U|      Y|       U|       U|       Y|    199|    1000015|       1|\n",
       "|  42.565|   270.5|      37.48| 0.2475|        6.0|        1.5|        1.5|        0.0|      0.0|     201.5|    -1.785|  3.333333333|          0.0|  1.666666667|          0.0|  7.666666667|          0.0|  67.66666667|          0.0|  25.33333333|          0.0|  55.33333333|          0.0|          1.0|  1.666666667|1.026666667|  11.66666667|          0.0|  117.8466667|          0.0|  57.09333333|           11.0|          10.81|    3.666666667|            4.0|  62.33333333|          0.0|  136.7966667|          0.0|        18.0|         0.0|  38.14333333|          0.0|          5.0| 67.66666667|  55.33333333|          0.0|  0.333333333|    0|    55|       2|       2|       N|       B|       N|    7586|   15226.03|2311.08|2303.38|15180.03|  7560| 43.46| 286.42|142.64|    203|    106|     43|    222|    115|     41|               S|         DALLAS AREA|       Y|         N|79.98999023|     5|     4|      WCMB|    0|  0|      O|  4|       M|      U|     3|       M|     1|       0|       U|       U|       0|     N|     U|     Y|      U|       U|       U|       Y|    697|    1000016|       1|\n",
       "| 63.0175|  440.25|      59.98|    0.0|       5.75|      1.725|      1.725|        0.0|   1.3125|    -16.25|    0.2125|          5.0|          0.0|          0.0|          0.0|  17.33333333|          0.0|  138.3333333|          0.0|         53.0|          0.0|        118.0|          0.0|  3.666666667|  10.66666667|       8.27|         22.0|  0.333333333|  225.0533333|          0.0|  93.87666667|            0.0|            0.0|            0.0|            0.0|  141.3333333|          0.0|       268.56|          0.0| 14.33333333|         0.0|        50.37|          0.0|          5.0| 138.3333333|        118.0|          0.0|  1.666666667|    0|    57|       1|       1|       N|       B|       N|    4078|    11330.0|1739.43|1722.98| 11316.0|  4067| 50.68| 332.82|119.62|    446|    193|     63|    429|    183|     64|               T|NORTHWEST/ROCKY M...|       N|         N|29.98999023|     3|     2|      WCMB|    0|  0|      O|  3|       S|      U|     2|       M|     3|       1|       C|       A|       0|     N|     U|     U|      U|       U|       U|       Y|    530|    1000017|       1|\n",
       "|   35.59|   153.0|      29.99|    0.0|       16.0|        5.6|        5.6|        0.0|      0.0|      30.0|      7.35|          2.0|          0.0|  0.666666667|          0.0|  17.33333333|          0.0|         53.0|          0.0|         26.0|          0.0|  33.33333333|          0.0|          0.0|          0.0|        0.0|  14.66666667|          0.0|  50.13333333|          0.0|  33.10666667|            8.0|    10.94666667|    4.666666667|    5.253333333|  48.33333333|          0.0|  77.15333333|          0.0|         7.0|         0.0|  6.086666667|          0.0|  2.666666667|        53.0|  33.33333333|          0.0|  0.333333333|    0|    59|       3|       2|       N|       A|       N|    7043|    12661.0|2036.85|2013.28| 12657.0|  7041| 36.61| 230.13|128.02|    143|     76|     33|    135|     73|     32|               U|NORTHWEST/ROCKY M...|       N|         N|79.98999023|     6|     5|        WC|    1|  1|      O|  7|       S|      S|     5|       M|     4|       0|       C|       A|       0|     N|     U|     U|      U|       U|       Y|       Y|     48|    1000018|       1|\n",
       "|   55.27| 1212.75|      49.99| 0.7425|        0.0|        0.0|        0.0|        0.0|    1.285|    169.25|      0.99|  2.666666667|          0.0|          6.0|          0.0|  43.66666667|          0.0|        225.0|          0.0|  121.6666667|          0.0|  173.6666667|          0.0|  4.333333333|  9.666666667|        7.5|         43.0|          0.0|       456.98|          0.0|  490.1266667|    50.66666667|    50.00666667|    8.333333333|    18.40666667|  189.3333333|          0.0|  593.0866667|          0.0|       105.0|         0.0|       354.02|          0.0|  8.666666667|       225.0|  173.6666667|          0.0|  4.333333333|    0|    52|       1|       1|       N|       A|       N|    8468|    23835.0|1935.97|1914.23| 23524.0|  8378| 47.86|  588.1|209.45|   1156|    254|     55|   1031|    248|     55|               S|         DALLAS AREA|       Y|         N|29.98999023|     4|     4|        WC|    0|  0|      O| 10|       S|      B|     1|       M|     3|       1|       C|       A|       0|     N|     U|     U|      U|       U|       U|       Y|    408|    1000019|       1|\n",
       "|  50.965|   162.0|      69.99|    0.0|        2.5|      0.975|        0.0|      0.975|      0.0|     -58.0|    -0.975|  1.666666667|          0.0|  0.333333333|          0.0|          9.0|          0.0|  60.66666667|  1.333333333|         14.0|          0.0|         50.0|  1.333333333|  0.333333333|  0.333333333|0.276666667|          7.0|          0.0|  65.24666667|  2.373333333|  38.37333333|    34.33333333|    17.40666667|    5.666666667|          11.69|  19.33333333|          0.0|  37.26666667|          0.0| 42.33333333| 1.333333333|  66.35333333|  2.373333333|          2.0|        62.0|  51.33333333|          0.0|          0.0|    0|    56|       1|       1|       Y|       B|       N|    1319|4531.016667|1348.33| 1276.0| 4504.02|  1306| 42.53| 150.13| 43.53|    181|     63|     51|    240|     62|     51|               U|        CHICAGO AREA|       Y|         N|129.9899902|     4|     3|      WCMB|    0|  0|      R| 15|       S|      S|     4|       M|     1|       2|       C|       A|       0|     S|     U|     U|      Y|       Y|       Y|       N|    253|    1000020|       1|\n",
       "+--------+--------+-----------+-------+-----------+-----------+-----------+-----------+---------+----------+----------+-------------+-------------+-------------+-------------+-------------+-------------+-------------+-------------+-------------+-------------+-------------+-------------+-------------+-------------+-----------+-------------+-------------+-------------+-------------+-------------+---------------+---------------+---------------+---------------+-------------+-------------+-------------+-------------+------------+------------+-------------+-------------+-------------+------------+-------------+-------------+-------------+-----+------+--------+--------+--------+--------+--------+--------+-----------+-------+-------+--------+------+------+-------+------+-------+-------+-------+-------+-------+-------+----------------+--------------------+--------+----------+-----------+------+------+----------+-----+---+-------+---+--------+-------+------+--------+------+--------+--------+--------+--------+------+------+------+-------+--------+--------+--------+-------+-----------+--------+\n",
       "only showing top 20 rows"
      ]
     },
     "execution_count": 37,
     "metadata": {},
     "output_type": "execute_result"
    }
   ],
   "source": [
    "sdf_with_lor"
   ]
  },
  {
   "cell_type": "markdown",
   "metadata": {},
   "source": [
    "Dividing X and y"
   ]
  },
  {
   "cell_type": "code",
   "execution_count": 48,
   "metadata": {},
   "outputs": [],
   "source": [
    "y=sdf_clean.select('churn')\n",
    "X=sdf_clean.drop('churn','Customer_ID')\n",
    "data=sdf_clean.drop('Customer_ID')\n",
    "cols = data.columns"
   ]
  },
  {
   "cell_type": "code",
   "execution_count": null,
   "metadata": {},
   "outputs": [],
   "source": [
    "\n"
   ]
  },
  {
   "cell_type": "code",
   "execution_count": null,
   "metadata": {},
   "outputs": [],
   "source": []
  },
  {
   "cell_type": "code",
   "execution_count": null,
   "metadata": {},
   "outputs": [],
   "source": []
  },
  {
   "cell_type": "code",
   "execution_count": null,
   "metadata": {},
   "outputs": [],
   "source": []
  },
  {
   "cell_type": "code",
   "execution_count": 49,
   "metadata": {},
   "outputs": [
    {
     "data": {
      "text/plain": [
       "'\\n\\nfrom pyspark.ml.evaluation import RegressionEvaluator\\nfrom pyspark.ml.regression import LinearRegression\\nfrom pyspark.ml.tuning import ParamGridBuilder, TrainValidationSplit\\n\\nlr = LinearRegression(maxIter=100)\\n\\nparamGrid = ParamGridBuilder()        .addGrid(lr.regParam, [0.2,0.1, 0.01,0.001])         .addGrid(lr.fitIntercept, [False, True])        .addGrid(lr.elasticNetParam, [0.0,0.1,0.25, 0.5, 0.75,1.0])        .build()\\n\\ntvs = TrainValidationSplit(estimator=lr,\\n                               estimatorParamMaps=paramGrid,\\n                               evaluator=RegressionEvaluator(),\\n                               # 80% of the data will be used for training, 20% for validation.\\n                               trainRatio=0.8)\\ntrain, test = sdf_clean.randomSplit([0.9, 0.1], seed=12345)\\n'"
      ]
     },
     "execution_count": 49,
     "metadata": {},
     "output_type": "execute_result"
    }
   ],
   "source": [
    "\"\"\"\n",
    "\n",
    "from pyspark.ml.evaluation import RegressionEvaluator\n",
    "from pyspark.ml.regression import LinearRegression\n",
    "from pyspark.ml.tuning import ParamGridBuilder, TrainValidationSplit\n",
    "\n",
    "lr = LinearRegression(maxIter=100)\n",
    "\n",
    "paramGrid = ParamGridBuilder()\\\n",
    "        .addGrid(lr.regParam, [0.2,0.1, 0.01,0.001]) \\\n",
    "        .addGrid(lr.fitIntercept, [False, True])\\\n",
    "        .addGrid(lr.elasticNetParam, [0.0,0.1,0.25, 0.5, 0.75,1.0])\\\n",
    "        .build()\n",
    "\n",
    "tvs = TrainValidationSplit(estimator=lr,\n",
    "                               estimatorParamMaps=paramGrid,\n",
    "                               evaluator=RegressionEvaluator(),\n",
    "                               # 80% of the data will be used for training, 20% for validation.\n",
    "                               trainRatio=0.8)\n",
    "train, test = sdf_clean.randomSplit([0.9, 0.1], seed=12345)\n",
    "\"\"\""
   ]
  },
  {
   "cell_type": "code",
   "execution_count": null,
   "metadata": {},
   "outputs": [],
   "source": []
  },
  {
   "cell_type": "code",
   "execution_count": null,
   "metadata": {},
   "outputs": [],
   "source": []
  },
  {
   "cell_type": "code",
   "execution_count": 50,
   "metadata": {},
   "outputs": [],
   "source": [
    "categoricalColumns = [item[0] for item in data.dtypes if item[1].startswith('string')]\n",
    "numericCols = [item[0] for item in data.dtypes if not(item[1].startswith('string'))]\n",
    "numericCols.remove(\"churn\")"
   ]
  },
  {
   "cell_type": "code",
   "execution_count": 51,
   "metadata": {},
   "outputs": [],
   "source": [
    "from pyspark.ml import Pipeline\n",
    "from pyspark.ml.classification import RandomForestClassifier\n",
    "from pyspark.ml.feature import IndexToString, StringIndexer, VectorIndexer\n",
    "from pyspark.ml.evaluation import MulticlassClassificationEvaluator\n",
    "from pyspark.ml.feature import OneHotEncoder, StringIndexer, VectorAssembler"
   ]
  },
  {
   "cell_type": "code",
   "execution_count": 52,
   "metadata": {},
   "outputs": [],
   "source": [
    "labelIndexer = StringIndexer(inputCol=\"churn\", outputCol=\"indexedLabel\").fit(data)"
   ]
  },
  {
   "cell_type": "code",
   "execution_count": 53,
   "metadata": {},
   "outputs": [],
   "source": [
    "\n",
    "stages = []\n",
    "\n",
    "\n",
    "for categoricalCol in categoricalColumns:\n",
    "    stringIndexer = StringIndexer(inputCol = categoricalCol, outputCol = categoricalCol + 'Index')\n",
    "    encoder = OneHotEncoder(\n",
    "        inputCols=[stringIndexer.getOutputCol()], \n",
    "        outputCols=[categoricalCol + \"classVec\"]\n",
    "    )\n",
    "    stages += [stringIndexer, encoder]\n",
    "    \n",
    "label_stringIdx = StringIndexer(inputCol = 'churn', outputCol = 'label')\n",
    "stages += [label_stringIdx]\n",
    "\n",
    "assemblerInputs = [c + \"classVec\" for c in categoricalColumns] + numericCols\n",
    "assembler = VectorAssembler(inputCols=assemblerInputs, outputCol=\"features\")\n",
    "stages += [assembler]"
   ]
  },
  {
   "cell_type": "code",
   "execution_count": 54,
   "metadata": {},
   "outputs": [],
   "source": [
    "from pyspark.ml import Pipeline\n",
    "\n",
    "pipeline = Pipeline(stages = stages)\n",
    "pipelineModel = pipeline.fit(data)\n",
    "data = pipelineModel.transform(data)\n",
    "selectedCols = ['label', 'features'] + cols\n"
   ]
  },
  {
   "cell_type": "code",
   "execution_count": 55,
   "metadata": {},
   "outputs": [
    {
     "name": "stdout",
     "output_type": "stream",
     "text": [
      "root\n",
      " |-- label: double (nullable = false)\n",
      " |-- features: vector (nullable = true)\n",
      " |-- rev_Mean: double (nullable = true)\n",
      " |-- mou_Mean: double (nullable = true)\n",
      " |-- totmrc_Mean: double (nullable = true)\n",
      " |-- da_Mean: double (nullable = true)\n",
      " |-- ovrmou_Mean: double (nullable = true)\n",
      " |-- ovrrev_Mean: double (nullable = true)\n",
      " |-- vceovr_Mean: double (nullable = true)\n",
      " |-- datovr_Mean: double (nullable = true)\n",
      " |-- roam_Mean: double (nullable = true)\n",
      " |-- change_mou: double (nullable = true)\n",
      " |-- change_rev: double (nullable = true)\n",
      " |-- drop_vce_Mean: double (nullable = true)\n",
      " |-- drop_dat_Mean: double (nullable = true)\n",
      " |-- blck_vce_Mean: double (nullable = true)\n",
      " |-- blck_dat_Mean: double (nullable = true)\n",
      " |-- unan_vce_Mean: double (nullable = true)\n",
      " |-- unan_dat_Mean: double (nullable = true)\n",
      " |-- plcd_vce_Mean: double (nullable = true)\n",
      " |-- plcd_dat_Mean: double (nullable = true)\n",
      " |-- recv_vce_Mean: double (nullable = true)\n",
      " |-- recv_sms_Mean: double (nullable = true)\n",
      " |-- comp_vce_Mean: double (nullable = true)\n",
      " |-- comp_dat_Mean: double (nullable = true)\n",
      " |-- custcare_Mean: double (nullable = true)\n",
      " |-- ccrndmou_Mean: double (nullable = true)\n",
      " |-- cc_mou_Mean: double (nullable = true)\n",
      " |-- inonemin_Mean: double (nullable = true)\n",
      " |-- threeway_Mean: double (nullable = true)\n",
      " |-- mou_cvce_Mean: double (nullable = true)\n",
      " |-- mou_cdat_Mean: double (nullable = true)\n",
      " |-- mou_rvce_Mean: double (nullable = true)\n",
      " |-- owylis_vce_Mean: double (nullable = true)\n",
      " |-- mouowylisv_Mean: double (nullable = true)\n",
      " |-- iwylis_vce_Mean: double (nullable = true)\n",
      " |-- mouiwylisv_Mean: double (nullable = true)\n",
      " |-- peak_vce_Mean: double (nullable = true)\n",
      " |-- peak_dat_Mean: double (nullable = true)\n",
      " |-- mou_peav_Mean: double (nullable = true)\n",
      " |-- mou_pead_Mean: double (nullable = true)\n",
      " |-- opk_vce_Mean: double (nullable = true)\n",
      " |-- opk_dat_Mean: double (nullable = true)\n",
      " |-- mou_opkv_Mean: double (nullable = true)\n",
      " |-- mou_opkd_Mean: double (nullable = true)\n",
      " |-- drop_blk_Mean: double (nullable = true)\n",
      " |-- attempt_Mean: double (nullable = true)\n",
      " |-- complete_Mean: double (nullable = true)\n",
      " |-- callfwdv_Mean: double (nullable = true)\n",
      " |-- callwait_Mean: double (nullable = true)\n",
      " |-- churn: integer (nullable = true)\n",
      " |-- months: integer (nullable = true)\n",
      " |-- uniqsubs: integer (nullable = true)\n",
      " |-- actvsubs: integer (nullable = true)\n",
      " |-- new_cell: string (nullable = true)\n",
      " |-- crclscod: string (nullable = true)\n",
      " |-- asl_flag: string (nullable = true)\n",
      " |-- totcalls: integer (nullable = true)\n",
      " |-- totmou: double (nullable = true)\n",
      " |-- totrev: double (nullable = true)\n",
      " |-- adjrev: double (nullable = true)\n",
      " |-- adjmou: double (nullable = true)\n",
      " |-- adjqty: integer (nullable = true)\n",
      " |-- avgrev: double (nullable = true)\n",
      " |-- avgmou: double (nullable = true)\n",
      " |-- avgqty: double (nullable = true)\n",
      " |-- avg3mou: integer (nullable = true)\n",
      " |-- avg3qty: integer (nullable = true)\n",
      " |-- avg3rev: integer (nullable = true)\n",
      " |-- avg6mou: integer (nullable = true)\n",
      " |-- avg6qty: integer (nullable = true)\n",
      " |-- avg6rev: integer (nullable = true)\n",
      " |-- prizm_social_one: string (nullable = true)\n",
      " |-- area: string (nullable = false)\n",
      " |-- dualband: string (nullable = true)\n",
      " |-- refurb_new: string (nullable = true)\n",
      " |-- hnd_price: double (nullable = true)\n",
      " |-- phones: integer (nullable = true)\n",
      " |-- models: integer (nullable = true)\n",
      " |-- hnd_webcap: string (nullable = true)\n",
      " |-- truck: integer (nullable = true)\n",
      " |-- rv: integer (nullable = true)\n",
      " |-- ownrent: string (nullable = false)\n",
      " |-- lor: integer (nullable = false)\n",
      " |-- dwlltype: string (nullable = false)\n",
      " |-- marital: string (nullable = true)\n",
      " |-- adults: integer (nullable = false)\n",
      " |-- infobase: string (nullable = false)\n",
      " |-- income: integer (nullable = false)\n",
      " |-- numbcars: integer (nullable = false)\n",
      " |-- HHstatin: string (nullable = false)\n",
      " |-- dwllsize: string (nullable = false)\n",
      " |-- forgntvl: integer (nullable = true)\n",
      " |-- ethnic: string (nullable = true)\n",
      " |-- kid0_2: string (nullable = true)\n",
      " |-- kid3_5: string (nullable = true)\n",
      " |-- kid6_10: string (nullable = true)\n",
      " |-- kid11_15: string (nullable = true)\n",
      " |-- kid16_17: string (nullable = true)\n",
      " |-- creditcd: string (nullable = false)\n",
      " |-- eqpdays: integer (nullable = true)\n",
      " |-- lor_null: integer (nullable = true)\n",
      "\n"
     ]
    }
   ],
   "source": [
    "data = data.select(selectedCols)\n",
    "data.printSchema()"
   ]
  },
  {
   "cell_type": "code",
   "execution_count": 57,
   "metadata": {},
   "outputs": [],
   "source": [
    "import pandas as pd"
   ]
  },
  {
   "cell_type": "code",
   "execution_count": 59,
   "metadata": {},
   "outputs": [
    {
     "data": {
      "text/html": [
       "<div>\n",
       "<style scoped>\n",
       "    .dataframe tbody tr th:only-of-type {\n",
       "        vertical-align: middle;\n",
       "    }\n",
       "\n",
       "    .dataframe tbody tr th {\n",
       "        vertical-align: top;\n",
       "    }\n",
       "\n",
       "    .dataframe thead th {\n",
       "        text-align: right;\n",
       "    }\n",
       "</style>\n",
       "<table border=\"1\" class=\"dataframe\">\n",
       "  <thead>\n",
       "    <tr style=\"text-align: right;\">\n",
       "      <th></th>\n",
       "      <th>label</th>\n",
       "      <th>features</th>\n",
       "    </tr>\n",
       "  </thead>\n",
       "  <tbody>\n",
       "    <tr>\n",
       "      <th>0</th>\n",
       "      <td>1.0</td>\n",
       "      <td>(1.0, 0.0, 0.0, 1.0, 0.0, 0.0, 0.0, 0.0, 0.0, ...</td>\n",
       "    </tr>\n",
       "    <tr>\n",
       "      <th>1</th>\n",
       "      <td>1.0</td>\n",
       "      <td>(0.0, 1.0, 0.0, 0.0, 0.0, 0.0, 0.0, 0.0, 0.0, ...</td>\n",
       "    </tr>\n",
       "    <tr>\n",
       "      <th>2</th>\n",
       "      <td>0.0</td>\n",
       "      <td>(0.0, 1.0, 0.0, 0.0, 0.0, 0.0, 0.0, 1.0, 0.0, ...</td>\n",
       "    </tr>\n",
       "    <tr>\n",
       "      <th>3</th>\n",
       "      <td>0.0</td>\n",
       "      <td>(0.0, 1.0, 0.0, 1.0, 0.0, 0.0, 0.0, 0.0, 0.0, ...</td>\n",
       "    </tr>\n",
       "    <tr>\n",
       "      <th>4</th>\n",
       "      <td>0.0</td>\n",
       "      <td>(0.0, 1.0, 0.0, 0.0, 0.0, 0.0, 0.0, 0.0, 0.0, ...</td>\n",
       "    </tr>\n",
       "  </tbody>\n",
       "</table>\n",
       "</div>"
      ],
      "text/plain": [
       "   label                                           features\n",
       "0    1.0  (1.0, 0.0, 0.0, 1.0, 0.0, 0.0, 0.0, 0.0, 0.0, ...\n",
       "1    1.0  (0.0, 1.0, 0.0, 0.0, 0.0, 0.0, 0.0, 0.0, 0.0, ...\n",
       "2    0.0  (0.0, 1.0, 0.0, 0.0, 0.0, 0.0, 0.0, 1.0, 0.0, ...\n",
       "3    0.0  (0.0, 1.0, 0.0, 1.0, 0.0, 0.0, 0.0, 0.0, 0.0, ...\n",
       "4    0.0  (0.0, 1.0, 0.0, 0.0, 0.0, 0.0, 0.0, 0.0, 0.0, ..."
      ]
     },
     "execution_count": 59,
     "metadata": {},
     "output_type": "execute_result"
    }
   ],
   "source": [
    "pdf = pd.DataFrame(data.take(5), columns=data.columns)\n",
    "pdf.iloc[:,0:2] "
   ]
  },
  {
   "cell_type": "code",
   "execution_count": 62,
   "metadata": {},
   "outputs": [
    {
     "name": "stdout",
     "output_type": "stream",
     "text": [
      "Training Dataset Count: 70143\n",
      "Test Dataset Count: 17454\n"
     ]
    }
   ],
   "source": [
    "train, test = data.randomSplit([0.8, 0.2], seed = 2018)\n",
    "print(\"Training Dataset Count: \" + str(train.count()))\n",
    "print(\"Test Dataset Count: \" + str(test.count()))"
   ]
  },
  {
   "cell_type": "code",
   "execution_count": 64,
   "metadata": {},
   "outputs": [],
   "source": [
    "from pyspark.ml.classification import RandomForestClassifier\n",
    "\n",
    "rf = RandomForestClassifier(featuresCol = 'features', labelCol = 'label')\n",
    "rfModel = rf.fit(train)\n",
    "rfPreds = rfModel.transform(test)\n"
   ]
  },
  {
   "cell_type": "code",
   "execution_count": 73,
   "metadata": {},
   "outputs": [
    {
     "name": "stdout",
     "output_type": "stream",
     "text": [
      "+-----+----------+\n",
      "|label|prediction|\n",
      "+-----+----------+\n",
      "|  0.0|       0.0|\n",
      "|  0.0|       0.0|\n",
      "|  0.0|       0.0|\n",
      "|  0.0|       1.0|\n",
      "|  0.0|       0.0|\n",
      "+-----+----------+\n",
      "only showing top 5 rows\n",
      "\n"
     ]
    }
   ],
   "source": [
    "rfPreds.select( 'label', 'prediction').show(5)"
   ]
  },
  {
   "cell_type": "code",
   "execution_count": 87,
   "metadata": {},
   "outputs": [
    {
     "name": "stdout",
     "output_type": "stream",
     "text": [
      "Test Area Under ROC: 0.6257164072359063\n",
      "Test Area Under PR: 0.6077826797482858\n"
     ]
    }
   ],
   "source": [
    "from pyspark.ml.evaluation import BinaryClassificationEvaluator\n",
    "rfEval = BinaryClassificationEvaluator()\n",
    "rfROC = rfEval.evaluate(rfPreds, {rfEval.metricName: \"areaUnderROC\"})\n",
    "rfPR = rfEval.evaluate(rfPreds, {rfEval.metricName: \"areaUnderPR\"})\n",
    "print(\"Test Area Under ROC: \" + str(rfROC))\n",
    "print(\"Test Area Under PR: \" + str(rfPR))"
   ]
  },
  {
   "cell_type": "code",
   "execution_count": 81,
   "metadata": {},
   "outputs": [],
   "source": []
  },
  {
   "cell_type": "code",
   "execution_count": 91,
   "metadata": {},
   "outputs": [],
   "source": [
    "from pyspark.mllib.evaluation import BinaryClassificationMetrics\n",
    "#metrics = BinaryClassificationMetrics()"
   ]
  },
  {
   "cell_type": "code",
   "execution_count": null,
   "metadata": {},
   "outputs": [],
   "source": []
  },
  {
   "cell_type": "code",
   "execution_count": null,
   "metadata": {},
   "outputs": [],
   "source": []
  }
 ],
 "metadata": {
  "kernelspec": {
   "display_name": "Python 3",
   "language": "python",
   "name": "python3"
  },
  "language_info": {
   "codemirror_mode": {
    "name": "ipython",
    "version": 3
   },
   "file_extension": ".py",
   "mimetype": "text/x-python",
   "name": "python",
   "nbconvert_exporter": "python",
   "pygments_lexer": "ipython3",
   "version": "3.8.5"
  }
 },
 "nbformat": 4,
 "nbformat_minor": 4
}
