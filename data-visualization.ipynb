{
 "cells": [
  {
   "cell_type": "markdown",
   "id": "important-designation",
   "metadata": {},
   "source": [
    "# SPARK - Visualization using pyspark"
   ]
  },
  {
   "cell_type": "code",
   "execution_count": 2,
   "id": "suburban-thinking",
   "metadata": {},
   "outputs": [],
   "source": [
    "import numpy as np\n",
    "import matplotlib.pyplot as plt\n",
    "import pandas as pd\n",
    "\n",
    "from pyspark.sql import SparkSession"
   ]
  },
  {
   "cell_type": "code",
   "execution_count": 4,
   "id": "northern-knight",
   "metadata": {},
   "outputs": [
    {
     "data": {
      "text/html": [
       "\n",
       "            <div>\n",
       "                <p><b>SparkSession - in-memory</b></p>\n",
       "                \n",
       "        <div>\n",
       "            <p><b>SparkContext</b></p>\n",
       "\n",
       "            <p><a href=\"http://fedora:4040\">Spark UI</a></p>\n",
       "\n",
       "            <dl>\n",
       "              <dt>Version</dt>\n",
       "                <dd><code>v3.0.1</code></dd>\n",
       "              <dt>Master</dt>\n",
       "                <dd><code>local[*]</code></dd>\n",
       "              <dt>AppName</dt>\n",
       "                <dd><code>teleco_data</code></dd>\n",
       "            </dl>\n",
       "        </div>\n",
       "        \n",
       "            </div>\n",
       "        "
      ],
      "text/plain": [
       "<pyspark.sql.session.SparkSession at 0x7f432220ec10>"
      ]
     },
     "execution_count": 4,
     "metadata": {},
     "output_type": "execute_result"
    }
   ],
   "source": [
    "spark = SparkSession.builder \\\n",
    "            .appName('teleco_data') \\\n",
    "            .master('local[*]') \\\n",
    "            .config('spark.ui.showConsoleProgress', True) \\\n",
    "            .config('spark.sql.repl.eagerEval.enabled', True) \\\n",
    "            .config('spark.sql.session.timeZone','UTC') \\\n",
    "            .getOrCreate()\n",
    "spark"
   ]
  },
  {
   "cell_type": "code",
   "execution_count": 6,
   "id": "polished-dispute",
   "metadata": {},
   "outputs": [],
   "source": [
    "DATA_PATH = \"customer_churn.csv\"\n",
    "sdf = spark.read.option('quote','\"').option('escape','\\\\').csv(DATA_PATH,\n",
    "                                                                header=True,\n",
    "                                                                inferSchema=True)"
   ]
  },
  {
   "cell_type": "code",
   "execution_count": 16,
   "id": "exterior-elizabeth",
   "metadata": {},
   "outputs": [
    {
     "name": "stdout",
     "output_type": "stream",
     "text": [
      "['rev_Mean', 'mou_Mean', 'totmrc_Mean', 'da_Mean', 'ovrmou_Mean', 'ovrrev_Mean', 'vceovr_Mean', 'datovr_Mean', 'roam_Mean', 'change_mou', 'change_rev', 'drop_vce_Mean', 'drop_dat_Mean', 'blck_vce_Mean', 'blck_dat_Mean', 'unan_vce_Mean', 'unan_dat_Mean', 'plcd_vce_Mean', 'plcd_dat_Mean', 'recv_vce_Mean', 'recv_sms_Mean', 'comp_vce_Mean', 'comp_dat_Mean', 'custcare_Mean', 'ccrndmou_Mean', 'cc_mou_Mean', 'inonemin_Mean', 'threeway_Mean', 'mou_cvce_Mean', 'mou_cdat_Mean', 'mou_rvce_Mean', 'owylis_vce_Mean', 'mouowylisv_Mean', 'iwylis_vce_Mean', 'mouiwylisv_Mean', 'peak_vce_Mean', 'peak_dat_Mean', 'mou_peav_Mean', 'mou_pead_Mean', 'opk_vce_Mean', 'opk_dat_Mean', 'mou_opkv_Mean', 'mou_opkd_Mean', 'drop_blk_Mean', 'attempt_Mean', 'complete_Mean', 'callfwdv_Mean', 'callwait_Mean', 'churn', 'months', 'uniqsubs', 'actvsubs', 'new_cell', 'crclscod', 'asl_flag', 'totcalls', 'totmou', 'totrev', 'adjrev', 'adjmou', 'adjqty', 'avgrev', 'avgmou', 'avgqty', 'avg3mou', 'avg3qty', 'avg3rev', 'avg6mou', 'avg6qty', 'avg6rev', 'prizm_social_one', 'area', 'dualband', 'refurb_new', 'hnd_price', 'phones', 'models', 'hnd_webcap', 'truck', 'rv', 'ownrent', 'lor', 'dwlltype', 'marital', 'adults', 'infobase', 'income', 'numbcars', 'HHstatin', 'dwllsize', 'forgntvl', 'ethnic', 'kid0_2', 'kid3_5', 'kid6_10', 'kid11_15', 'kid16_17', 'creditcd', 'eqpdays', 'Customer_ID']\n"
     ]
    }
   ],
   "source": [
    "columns = sdf.dtypes\n",
    "columns_names = [el[0] for el in columns]\n",
    "print(columns_names)"
   ]
  },
  {
   "cell_type": "code",
   "execution_count": null,
   "id": "interested-publication",
   "metadata": {},
   "outputs": [],
   "source": []
  },
  {
   "cell_type": "code",
   "execution_count": 37,
   "id": "cardiovascular-monte",
   "metadata": {},
   "outputs": [
    {
     "data": {
      "image/png": "[encoded data removed]",
      "text/plain": [
       "<Figure size 432x288 with 1 Axes>"
      ]
     },
     "metadata": {
      "needs_background": "light"
     },
     "output_type": "display_data"
    }
   ],
   "source": [
    "gre_histogram = sdf.select('totrev').rdd.flatMap(lambda x: np.log10(x)).histogram(20)\n",
    "\n",
    "# Loading the Computed Histogram into a Pandas Dataframe for plotting\n",
    "pd.DataFrame(\n",
    "    list(zip(*gre_histogram)), \n",
    "    columns=['bin', 'frequency']\n",
    ").set_index(\n",
    "    'bin'\n",
    ").plot(kind='bar');"
   ]
  },
  {
   "cell_type": "code",
   "execution_count": 38,
   "id": "sublime-annotation",
   "metadata": {},
   "outputs": [
    {
     "data": {
      "text/plain": [
       "([0.5622928644564746,\n",
       "  0.7560034481946671,\n",
       "  0.9497140319328596,\n",
       "  1.1434246156710521,\n",
       "  1.3371351994092446,\n",
       "  1.5308457831474371,\n",
       "  1.7245563668856296,\n",
       "  1.9182669506238221,\n",
       "  2.1119775343620146,\n",
       "  2.305688118100207,\n",
       "  2.4993987018383996,\n",
       "  2.6931092855765923,\n",
       "  2.8868198693147846,\n",
       "  3.080530453052977,\n",
       "  3.2742410367911696,\n",
       "  3.4679516205293623,\n",
       "  3.6616622042675546,\n",
       "  3.855372788005747,\n",
       "  4.04908337174394,\n",
       "  4.242793955482132,\n",
       "  4.436504539220325],\n",
       " [3,\n",
       "  1,\n",
       "  4,\n",
       "  7,\n",
       "  10,\n",
       "  20,\n",
       "  74,\n",
       "  568,\n",
       "  1855,\n",
       "  4556,\n",
       "  15409,\n",
       "  24861,\n",
       "  25277,\n",
       "  16895,\n",
       "  7237,\n",
       "  2340,\n",
       "  729,\n",
       "  130,\n",
       "  22,\n",
       "  2])"
      ]
     },
     "execution_count": 38,
     "metadata": {},
     "output_type": "execute_result"
    }
   ],
   "source": [
    "gre_histogram"
   ]
  },
  {
   "cell_type": "code",
   "execution_count": 61,
   "id": "convenient-transsexual",
   "metadata": {},
   "outputs": [
    {
     "data": {
      "text/html": [
       "<table border='1'>\n",
       "<tr><th>rev_Mean</th></tr>\n",
       "<tr><td>-6.1675</td></tr>\n",
       "<tr><td>-5.8625</td></tr>\n",
       "<tr><td>-3.73</td></tr>\n",
       "<tr><td>-2.52</td></tr>\n",
       "<tr><td>-0.16</td></tr>\n",
       "<tr><td>0.0</td></tr>\n",
       "<tr><td>0.0</td></tr>\n",
       "<tr><td>0.0</td></tr>\n",
       "<tr><td>0.0</td></tr>\n",
       "<tr><td>0.0</td></tr>\n",
       "<tr><td>0.0</td></tr>\n",
       "<tr><td>0.0</td></tr>\n",
       "<tr><td>0.0</td></tr>\n",
       "<tr><td>0.0</td></tr>\n",
       "<tr><td>0.0</td></tr>\n",
       "<tr><td>0.0</td></tr>\n",
       "<tr><td>0.0</td></tr>\n",
       "<tr><td>0.15</td></tr>\n",
       "<tr><td>0.35</td></tr>\n",
       "<tr><td>0.35</td></tr>\n",
       "</table>\n",
       "only showing top 20 rows\n"
      ],
      "text/plain": [
       "+--------+\n",
       "|rev_Mean|\n",
       "+--------+\n",
       "| -6.1675|\n",
       "| -5.8625|\n",
       "|   -3.73|\n",
       "|   -2.52|\n",
       "|   -0.16|\n",
       "|     0.0|\n",
       "|     0.0|\n",
       "|     0.0|\n",
       "|     0.0|\n",
       "|     0.0|\n",
       "|     0.0|\n",
       "|     0.0|\n",
       "|     0.0|\n",
       "|     0.0|\n",
       "|     0.0|\n",
       "|     0.0|\n",
       "|     0.0|\n",
       "|    0.15|\n",
       "|    0.35|\n",
       "|    0.35|\n",
       "+--------+\n",
       "only showing top 20 rows"
      ]
     },
     "execution_count": 61,
     "metadata": {},
     "output_type": "execute_result"
    }
   ],
   "source": [
    "aa=sdf.select('rev_Mean').dropna(how='any').orderBy('rev_Mean', ascending=True)\n",
    "aa"
   ]
  },
  {
   "cell_type": "code",
   "execution_count": 69,
   "id": "beneficial-composition",
   "metadata": {},
   "outputs": [
    {
     "data": {
      "image/png": "[encoded data removed]",
      "text/plain": [
       "<Figure size 432x288 with 1 Axes>"
      ]
     },
     "metadata": {
      "needs_background": "light"
     },
     "output_type": "display_data"
    }
   ],
   "source": [
    "gre_histogram = sdf.select('rev_Mean').dropna(how='any').rdd.flatMap(lambda x: x).histogram(20)\n",
    "\n",
    "# Loading the Computed Histogram into a Pandas Dataframe for plotting\n",
    "pd.DataFrame(\n",
    "    list(zip(*gre_histogram)), \n",
    "    columns=['bin', 'frequency']\n",
    ").set_index(\n",
    "    'bin'\n",
    ").plot(kind='bar');"
   ]
  },
  {
   "cell_type": "code",
   "execution_count": null,
   "id": "flexible-pacific",
   "metadata": {},
   "outputs": [],
   "source": []
  }
 ],
 "metadata": {
  "kernelspec": {
   "display_name": "Python 3",
   "language": "python",
   "name": "python3"
  },
  "language_info": {
   "codemirror_mode": {
    "name": "ipython",
    "version": 3
   },
   "file_extension": ".py",
   "mimetype": "text/x-python",
   "name": "python",
   "nbconvert_exporter": "python",
   "pygments_lexer": "ipython3",
   "version": "3.8.5"
  }
 },
 "nbformat": 4,
 "nbformat_minor": 5
}
